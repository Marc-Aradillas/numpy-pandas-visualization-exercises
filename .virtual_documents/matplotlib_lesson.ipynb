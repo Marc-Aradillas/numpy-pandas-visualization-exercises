%autosave 0


import numpy as np
import pandas as pd
from pydataset import data

import matplotlib.pyplot as plt





ss = data('sleepstudy')
ss.head()





ss.columns = [col.lower() for col in ss.columns]
ss.head()





ss_one = ss[ss.subject == 308]


plt.plot(ss_one.days, ss_one.reaction)
plt.show()





plt.plot(ss_one.days, ss_one.reaction)
plt.xlim(0, 10)
plt.ylim(0, 1000)





ss_two = ss[ss.subject == 309]





plt.plot(ss_one.days,ss_one.reaction, c = 'firebrick', alpha = 0.25, linewidth = 12, label = 'slow')
plt.plot(ss_two.days, ss_two.reaction, c = 'purple', label = ' fast')
plt.legend()
plt.show()








plt.scatter(ss_one.days, ss_one.reaction, s = 90, c = 'fuchsia')
plt.title('Reaction time with sleep deprivation')
plt.xlabel('Day of study')
plt.ylabel('Reaction time (ms)')
plt.show()





plt.scatter(ss_one.days, ss_one.reaction, s = 90, c = 'fuchsia')
plt.xticks(range(0, 10), rotation = 45)
plt.show()





plt.scatter(ss_one.days, ss_one.reaction, s = 90, c = 'fuchsia')
plt.text(6, 320, 'This is strange..', fontsize = 12)





plt.figure(figsize = (12, 9))
plt.scatter(ss_one.days, ss_one.reaction, s = 90, c = 'fuchsia')
plt.show()





plt.figure(figsize = (14, 7))

#Define my first subplot
plt.subplot(1, 2, 1)
plt.plot(ss_one.reaction)
plt.ylim(200, 500)
plt.title('Slow Steve')

#Define my second suplot
plt.subplot(1, 2, 2)
plt.scatter(ss_two.days, ss_two.reaction)
plt.ylim(200, 500)
plt.title('Fast Freddy')

plt.show()





plt.hist(ss.reaction)
plt.show()
