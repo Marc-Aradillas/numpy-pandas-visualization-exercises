%autosave 0


import numpy as np
import pandas as pd
from sqlalchemy import text, create_engine

from env import get_connection





























"""
def get_db_url(db, user=username , host=hostname, password=password):
    return f'mysql+pymysql://{user}:{password}@{host}/employees'
"""








# Get the database connection URL for the 'employees' database
url = get_connection('employees')

# Create a database engine using SQLAlchemy
engine = create_engine(url)

# Define a SQL query to select all columns from the 'employees' table
query = '''
        SELECT *
        FROM employees
        '''

# Create a SQLAlchemy text object for the SQL query
text_query = text(query)


# Use pandas read_sql() to execute the query on the database using the engine,
# and store the result in a DataFrame called 'df'
df = pd.read_sql(text_query, engine.connect())

# Display the first few rows of the DataFrame
df.head()



























employee_query = '''
SELECT *
FROM employees
'''

title_query = '''
SELECT *
FROM titles
'''

employee_query = pd.read_sql(text(employee_query), engine.connect())
title_query = pd.read_sql(text(title_query), engine.connect())


employee_query.head()


title_query.head()






























