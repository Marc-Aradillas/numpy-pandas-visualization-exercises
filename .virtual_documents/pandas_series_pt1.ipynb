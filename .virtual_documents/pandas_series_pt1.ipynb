%autosave 0


#import standard for pandas
import pandas as pd
import numpy as np
from pydataset import data








my_list = [1, 2, 3, 4, 5,]
pd.Series(my_list)





my_array = np.array(my_list)
pd.Series(my_array)





mpg = data('mpg')
mpg





mpg.manufacturer # Dot Notation; may cause error message due to naming convention.


mpg_man = mpg['manufacturer'] # This won't let us down
mpg_man # You can assign a variable to columns/lists





pd.Series(my_list).astype('float') #chaining methods together using dot notation (changed int values to float) [recasting values within your series]
# May error out from time to time because not all values may be converted. Types could also be other types for recasting using .astype()





my_series = pd.Series(my_list)
my_series ** 2 # you can take the name of the object for the series and use operations directly on it to perform these calculations.)



my_series <= 3 # can use comparisonvalyes


my_series[my_series <= 3] #i'm taking values of my series to call a part of my series (Boolean masking).





my_series.index


my_series.values


my_series.dtype


my_series.name = 'my_name'
my_series.name # useful in dataframes where naming conventions conflict or need to be rearranged.


my_series.size


my_series.shape





my_series.head(2)


my_series.sample(2) # used for a random sample of our data to plot in order to run faster for charting/visualizations


my_series.value_counts()


mpg_man.value_counts(normalize=True) # keyword arguements, you can do it positionally to save a column, 


mpg_man.value_counts(ascending=False)


mpg_man.value_counts(bins=None)





my_series.mean()


my_series.mode()


my_series.describe()


my_series.nlargest()


my_series.nsmallest()


my_series.sort_values()
