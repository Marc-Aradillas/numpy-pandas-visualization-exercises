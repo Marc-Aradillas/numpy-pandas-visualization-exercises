





import numpy as np
import pandas as pd
import seaborn as sns
import matplotlib.pyplot as plt

from pydataset import data


iris_df = sns.load_dataset('iris')
iris_df.head()





iris_df.describe()








sns.relplot(data = iris_df, x = 'petal_length', y = 'petal_width')








sns.relplot(data = iris_df, x = 'sepal_length', y = 'sepal_width', hue = 'species')








sns.relplot(data = iris_df, x = 'petal_length', y = 'petal_width', hue = 'species')














anscombe_df = sns.load_dataset('anscombe')
anscombe_df.head()


anscombe_df.columns


sns.relplot(data = anscombe_df, x = 'x', y = 'y', col = 'dataset')


anscombe_df.describe()








insect_sprays = data("InsectSprays")
insect_sprays.head()


data("InsectSprays",show_doc=True)


sns.boxplot(data = insect_sprays, x = 'count', y = 'spray')





swiss = data ('swiss')


swiss.head()


data ('swiss', show_doc=True)


swiss.describe()





# Defined cut off
catholic_cutoff = 75

# created 'is_catholoic' attribute and accomplished calculation condition
swiss['is_catholic'] = swiss['Catholic'] >= catholic_cutoff


sns.heatmap(data= swiss, x = 'count', y = 'spray')





swiss_corr = pd.crosstab(swiss["Fertility"], swiss["is_catholic"])



















