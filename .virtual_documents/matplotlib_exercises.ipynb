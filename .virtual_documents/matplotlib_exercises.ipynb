


import numpy as np
import pandas as pd
from pydataset import data
import math

import matplotlib.pyplot as plt














x = np.linspace(0, 10, 100)
y = x**2 - x +2

# (fig = plt.figure(figsize = (18, 12))) could use this to edit plot chart size

# Create the plot
plt.plot(x, y, label='y = x**2 - x + 2')
plt.xlabel('x')
plt.ylabel('y', rotation = 0)
plt.title('Plot of y = x^2 - 3x + 2')

plt.annotate('(0, 0)', xy=(0, 0), xytext=(-14, 20), textcoords='offset points',
             arrowprops=dict(facecolor='black', arrowstyle='->'))
 
# Show the plot
plt.show()








x = np.linspace(0, 10, 100)
y1 = np.sqrt(x)
plt.plot(x, y1)
plt.xlabel('x')
plt.ylabel('y', rotation = 0)
plt.title('Plot of y = √x')
plt.show()


x = (np.linspace(0, 11, 100))
y2 = x ** (1/3)
plt.plot(x, y2)
plt.xlabel('x')
plt.ylabel('y', rotation = 0)
plt.title('Plot of y = x ** (1/3)')
plt.show()


x = (np.linspace(0, 11, 100))
y3 = 2 ** (x)
plt.plot(x, y3)
plt.xlabel('x')
plt.ylabel('y', rotation = 0)
plt.title('Plot of y = 2 ** x()')
plt.show()


x = (np.linspace(0, 11, 100))
y4 = 1 / (x + 1)
plt.plot(x, y4)
plt.xlabel('x')
plt.ylabel('y', rotation = 0)
plt.title('Plot of y = 1 / (x + 1)')
plt.show()





# Generated x points from 0 to 11
x = np.linspace(0, 11, 100)

# Calculated y values for each equation
y1 = np.sqrt(x)
y2 = x ** (1/3)
y3 = 2 ** x
y4 = 1 / (x + 1)

# Created a wider 1x4 subplot grid
plt.figure(figsize=(20, 4))

# Define the first subplot
plt.subplot(1, 4, 1)
plt.plot(x, y1)
plt.xlabel('x')
plt.ylabel('y', rotation=0)
plt.title('Plot of y = √x')

# Defined the second subplot
plt.subplot(1, 4, 2)
plt.plot(x, y2)
plt.xlabel('x')
plt.ylabel('y', rotation=0)
plt.title('Plot of y = x ** (1/3)')

# Defined the third subplot
plt.subplot(1, 4, 3)
plt.plot(x, y3)
plt.xlabel('x')
plt.ylabel('y', rotation=0)
plt.title('Plot of y = 2 ** x')

# Defined the fourth subplot
plt.subplot(1, 4, 4)
plt.plot(x, y4)
plt.xlabel('x')
plt.ylabel('y', rotation=0)
plt.title('Plot of y = 1 / (x + 1)')

plt.tight_layout()  # Adjusted the layout to avoid overlapping titles and labels
plt.show()





import numpy as np
import matplotlib.pyplot as plt

# Generate x points from 0 to 11
x = np.linspace(0, 11, 100)

# Calculate y values for each equation
y1 = np.sqrt(x)
y2 = x ** (1/3)
y3 = 2 ** x
y4 = 1 / (x + 1)

# Create a single figure
plt.figure(figsize=(10, 6))

# Plot each equation with a different color and label for the legend
plt.plot(x, y1, label='y = √x', c='red')
plt.plot(x, y2, label='y = x ** (1/3)', c='blue')
plt.plot(x, y3, label='y = 2 ** x', c='green')
plt.plot(x, y4, label='y = 1 / (x + 1)', c='purple')

# Added labels, title, and legend
plt.xlabel('x')
plt.ylabel('y')
plt.title('Combined Plots of Equations')
plt.legend()

# Set appropriate y-axis limits to display all equations clearly
plt.ylim(0, 10)

plt.grid(True)
plt.show()




































































































