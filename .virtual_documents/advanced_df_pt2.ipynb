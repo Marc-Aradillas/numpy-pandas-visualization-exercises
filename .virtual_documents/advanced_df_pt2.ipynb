%autosave 0


import numpy as np
import pandas as pd
from sqlalchemy import text, create_engine
from pydataset import data

from env import get_connection





engine = create_engine(get_connection('join_example_db'))


users_query = '''
              SELECT *
              FROM users
              '''

roles_query = '''
              SELECT *
              FROM roles
              '''


users = pd.read_sql(text(users_query), engine.connect())
roles = pd.read_sql(text(roles_query), engine.connect())





users


roles


pd.concat([users, roles])


pd.concat([users, roles], axis=1)





users.merge(roles, how='inner', left_on='role_id', right_on='id')





mpg = data('mpg')
mpg['auto_or_man'] = np.where(mpg['trans'].str.startswith('a'), 'auto', 'manual')
mpg.head()





pd.crosstab(mpg.drv, mpg.auto_or_man)

















drv_dict = {'4': 'four-wheel drive',
            'f': 'front-wheel drive',
            'r': 'rear-wheel drive'}






