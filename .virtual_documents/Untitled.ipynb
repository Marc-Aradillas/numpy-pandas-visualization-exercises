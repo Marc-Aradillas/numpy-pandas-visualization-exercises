import numpy as np

a = np.array([4, 10, 12, 23, -2, -1, 0, 0, 0, -6, 3, -7])

# How many negative numbers are there?

# Created negative_num variable and assigned the sum method to sum all numbers in the array that are less than zero.
negative_nums = np.sum(a < 0)
print('Number of negative values = ', negative_nums)


# How many positive numbers are there?

# Created a positive_num variable and assigned the sum method to sum all numbers in the array that are greater than zero.
# 0 is neither a positive or a negative so its value is non-inclusive
positive_nums = np.sum(a > 0)
print('Number of positive values = ', positive_nums)


# How many even positive numbers are there?

# Created a even_positive_nums variable and assigned the sum method to sum all numbers in the array greater than 0 and divisible by 2 using the modulo operator.
# both conditions are applied usinf the '&' character after grouping each operation.
even_positive_nums = np.sum((a > 0) & (a % 2 == 0))
print('Number of even and postive numbers = ', even_positive_nums)

# If you were to add 3 to each data point, how many positive numbers would there be?

a = np.array([4, 10, 12, 23, -2, -1, 0, 0, 0, -6, 3, -7])
array_with_three_added = a + 3
(array_with_three_added > 0).sum()


# new_positive_nums = np.sum(a > 0)
# new_positive_nums = 


# If you squared each number, what would the new mean and standard deviation be?

# A common statistical operation on a dataset is centering. This means to adjust the data such that the mean of the data is 0. This is done by subtracting the mean from each data point. Center the data set. See this link for more on centering.

# Calculate the z-score for each data point. Recall that the z-score is given by:

# Copy the setup and exercise directions from More Numpy Practice into your numpy_exercises.py and add your solutions.
