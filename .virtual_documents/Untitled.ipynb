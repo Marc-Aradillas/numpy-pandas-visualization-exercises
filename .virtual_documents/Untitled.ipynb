





from pydataset import data





# data('mpg', show_doc=True) # view the documentation for the dataset
mpg = data('mpg') # load the dataset and store it in a variable





























How many rows and columns are there?


What are the data types of each column?
Summarize the dataframe with .info and .describe
Rename the cty column to city.
Rename the hwy column to highway.
Do any cars have better city mileage than highway mileage?
Create a column named mileage_difference this column should contain the difference between highway and city mileage for each car.
Which car (or cars) has the highest mileage difference?
Which compact class car has the lowest highway mileage? The best?
Create a column named average_mileage that is the mean of the city and highway mileage.
Which dodge car has the best average mileage? The worst?
Load the Mammals dataset. Read the documentation for it, and use the data to answer these questions:

How many rows and columns are there?
What are the data types?
Summarize the dataframe with .info and .describe
What is the the weight of the fastest animal?
What is the overal percentage of specials?
How many animals are hoppers that are above the median speed? What percentage is this?
Awesome Bonus
For much more practice with pandas, Go to https://github.com/guipsamora/pandas_exercises and clone the repo down to your laptop. To clone a repository: - Copy the SSH address of the repository - cd ~/codeup-data-science - Then type git clone git@github.com:guipsamora/pandas_exercises.git - Now do cd pandas_exercises on your terminal. - Type git remote remove origin, so you won't accidentally try to push your work to guipsamora's repo.

Congratulations! You have cloned guipsamora's pandas exercises to your computer. Now you need to make a new, blank, repository on GitHub.

Go to https://github.com/new to make a new repo. Name it pandas_exercises.
DO NOT check any check boxes. We need a blank, empty repo.
Finally, follow the directions to "push an existing repository from the command line" so that you can push up your changes to your own account.
Now do your own work, add it, commit it, and push it!
