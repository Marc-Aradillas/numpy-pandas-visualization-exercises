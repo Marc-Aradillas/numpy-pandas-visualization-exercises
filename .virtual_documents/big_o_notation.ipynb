





import numpy as np
import matplotlib.pyplot as plt

# Generated x points from 1 to 10
x = np.arange(1, 11)

# Calculated y values for different Big O notations
y_constant = np.ones_like(x)         # O(1)
y_logarithmic = np.log2(x)           # O(log n)
y_linear = x                         # O(n)
y_linearithmic = x * np.log2(x)      # O(n log n)
y_quadratic = x ** 2                 # O(n^2)
y_exponential = 2 ** x               # O(2^n)

# Created the chart
plt.figure(figsize=(10, 6))

# Plot the curves with appropriate labels and colors
plt.plot(x, y1, label='$O(1)$', color='red')
plt.plot(x, y2, label='$O(\log n)$', color='blue')
plt.plot(x, y3, label='$O(n)$', color='green')
plt.plot(x, y4, label='$O(n \log n)$', color='purple')

# Add labels, title, and legend with LaTex notation
plt.xlabel('Elements', fontsize=14)
plt.ylabel('Operations', fontsize=14)
plt.title('Big O Notation', fontsize=16)
plt.legend(fontsize=12)

plt.ylim(0, 10)

plt.grid(True)
plt.show()
