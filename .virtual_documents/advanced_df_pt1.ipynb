%autosave 0


import pandas as pd
from sqlalchemy import text, create_engine

from env import get_connection







































