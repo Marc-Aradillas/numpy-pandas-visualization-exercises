%autosave 0


import numpy as np
import pandas as pd
from sqlalchemy import text, create_engine

from env import get_connection





# can create 2 dimensional array
# can make a dataframe from a dictionary
pd.DataFrame({'name': ['adam', 'edwidge', 'marc', 'theo'],
             'eyewear' : ['glasses', 'none', 'glasses', 'glasses']})

# has to be rectangle or values in each dictionary must match





url = get_connection('farmers_market') # never return url due to security vulnerability exposing credentials


engine = create_engine(url)


query = '''
        SELECT *
        FROM customer_purchases
        INNER JOIN product ON customer_purchases.product_id = product.product_id
        '''


text_query = text(query)


df = pd.read_sql(text_query, engine.connect())
df.head()





df.info()


df.describe()


# df.loc (will accept all rows from the following)
# column names are inclusive on both names
# syntax always brackets
# searches labels and boolean values
df.loc[:, 'vendor_id': 'transaction_time'].head()


df.iloc[:5, 3:8]





df = df.assign(total_cost = df.quantity * df.cost_to_customer_per_qty)
df.head()





df.total_cost.agg(['mean', 'max', 'min'])


df.columns


df[['quantity', 'total_cost']].agg(['mean', 'max', 'min'])





df.groupby('product_name').total_cost.agg('mean')


df.groupby('product_name').value_counts(['total_cost'])





df['avg_prod_cost'] = round(df.groupby('product_name').total_cost.transform('mean'), 2)
df





# 3 arguments( location, what i want 
df['person'] = np.where(df.total_cost > 100, 'splurge king', 'normie')
df.head()


df.person.value_counts()


df[df.person == 'splurge king']
