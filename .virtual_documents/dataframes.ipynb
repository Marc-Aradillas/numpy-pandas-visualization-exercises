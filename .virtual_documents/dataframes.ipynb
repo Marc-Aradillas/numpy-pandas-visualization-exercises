





from pydataset import data





data('mpg', show_doc=True) # view the documentation for the dataset
mpg = data('mpg') # load the dataset and store it in a variable
mpg








import pandas as pd
import numpy as np

np.random.seed(123)

students = ['Sally', 'Jane', 'Suzie', 'Billy', 'Ada', 'John', 'Thomas',
            'Marie', 'Albert', 'Richard', 'Isaac', 'Alan']

# randomly generate scores for each student for each subject
# note that all the values need to have the same length here
math_grades = np.random.randint(low=60, high=100, size=len(students))
english_grades = np.random.randint(low=60, high=100, size=len(students))
reading_grades = np.random.randint(low=60, high=100, size=len(students))

df = pd.DataFrame({'name': students,
                   'math': math_grades,
                   'english': english_grades,
                   'reading': reading_grades})

type(df)


df


df.info


df.dtypes





df['passing_english'] = df['english'] >= 70
df.value_counts('passing_english')





df.sort_values(by = 'passing_english', ascending=False)








df.sort_values(by = ['passing_english', 'name'], ascending=True)





df.sort_values(by = ['passing_english', 'english'], ascending=True)





df['Overall Grade'] = (df['math'] + df['english'] + df['reading'])/3
df['Overall Grade']
df





# Loaded the mpg dataset
mpg = data('mpg')





mpg.columns





mpg.dtypes





mpg.info()


mpg.describe()





mpg.rename(columns={'cty': 'city'})





mpg.rename(columns={'hwy': 'highway'})





mpg[mpg['cty'] > mpg['hwy']]








mpg['mileage_difference'] = mpg['hwy'] - mpg['cty']


mpg.head()





mpg.sort_values(by = ['mileage_difference'],  ascending=False).head(2)


mpg.sort_values('mileage_difference').tail(2)





mpg['class'] == 'compact'
mpg[mpg['class'] == 'compact'].sort_values(by = ['hwy']).head(1) #can add model. before head.
# masked--method chaining


mpg['class'] == 'compact'
mpg[mpg['class'] == 'compact'].sort_values(by = ['hwy']).tail(1)





mpg['average_mileage'] = mpg['cty'] + mpg['hwy']/2
mpg['average_mileage']





mpg['manufacturer'] == 'dodge'
mpg[mpg['manufacturer'] == 'dodge'].sort_values(by = ['hwy']).head(4)


mpg['manufacturer'] == 'dodge'
mpg[mpg['manufacturer'] == 'dodge'].sort_values(by = ['hwy']).tail(4)





mammals_df = data('Mammals')
mammals_df.head()





mammals_df.shape





mammals_df.dtypes





mammals_df.info()


mammals_df.describe()





mammals_df.sort_values(['speed'], ascending=(False)).head()











#how many special animals vs non-special are there
mammals_df['specials'].value_counts()


#Alfred Style!
#return percentage of true vs false
mammals_df['specials'].value_counts('True')


#what is the percent of special
percent_specials = (mammals_df['specials'].value_counts())/ len(mammals_df)

#take a look
percent_specials











#first, find out how many are hoppers
mammals_df['hoppers'].value_counts()


#second, what is the median speed
median = mammals_df['speed'].median()
median


#can also find the median like this:
mammals_df[['speed']].describe()


#hoppers and speed greater than median
mammals_df[(mammals_df.hoppers == True) & (mammals_df.speed > mammals_df.speed.median())]


#count what percent are BOTH hoppers AND faster then median speed
round(len(mammals_df[(mammals_df.hoppers == True) & 
      (mammals_df.speed > mammals_df.speed.median())]) / len(mammals_df) *100, 2)






