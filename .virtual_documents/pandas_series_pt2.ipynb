%autosave 0


import pandas as pd
from pydataset import data





my_series = pd.Series(range(1, 21, 1))


my_series[my_series > 10] # creating a boolean mask


my_series[my_series % 2 == 1] # returns odd numbers from my_series


my_series[(my_series > 10) | (my_series % 2 == 1)] # combine the use of a boolean mask and operations
# bit-wise 'or' (|)


my_series[(my_series > 10) & (my_series % 2 == 1)]
# bit-wise 'and' (&) ampersand








pd.qcut(my_series, 4, labels=['q1', 'q2', 'q3', 'q4'])
#





mpg = data('mpg')
mpg.head()


mpg_t = mpg.trans


mpg_t.str.upper()


mpg_t.str.replace('(', '_').str.replace(')', '_') # multiple ops in the same line


# if we want to save changes inside of an object you must assign it again

mpg_t.head()





(mpg_t == 'auto(l5)').any()


(mpg_t == 'auto(l5)').all()


mpg_t.isin(['auto(l5)']) # this has to be list like


my_series.head()


def mathinator(n): 

    return n * 2 + 4 / 3


my_series.apply(mathinator) # simply pass in the name of your function (PANDAS can recognize this)

#.apply passes a defined function





pd.cut(my_series, [4, 9, 18]) # i can specify boundaries for my series, vs. qcut)





my_series.plot()
