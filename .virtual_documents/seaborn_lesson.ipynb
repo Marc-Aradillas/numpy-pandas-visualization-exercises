%autosave 0


import numpy as np
import pandas as pd
import seaborn as sns
import matplotlib.pyplot as plt

from pydataset import data





df = sns.load_dataset('geyser')
df.head()





sns.relplot(data = df, x = 'waiting', y = 'duration')





sns.relplot(data = df, x = 'waiting', y = 'duration')
plt.title('Duration of Geyser by waiting period')





sns.relplot(data = df, x = 'waiting', y = 'duration', hue = 'kind')


sns.relplot(data = df, x = 'waiting', y = 'duration', col = 'kind')





sns.histplot(data = df, x = 'duration', hue = 'kind')





sns.boxplot(data = df, x = 'kind', y = 'waiting')

#swarmplot/violinplot is inferior to a box plot


sns.boxplot(data = df, x = 'waiting', y = 'kind')

#swarmplot/violinplot is inferior to a box plot





sns.barplot(data = df, x = 'waiting', y = 'kind')





mpg = data('mpg')
mpg.head()


mpg['is_auto'] = mpg.trans.str.startswith('a')
mpg.head()


ct = pd.crosstab(mpg.drv, mpg.is_auto)
sns.heatmap(ct, annot = True)


mpg['drv_count'] = mpg.groupby(['drv', 'is_auto']).drv.transform('count')
mpg.head()


sns.barplot(data = mpg, x = 'drv', y = 'drv_count', hue = 'is_auto')





plt.figure(figsize = (z, 7))

plt.subplot(1, 2, 1)
sns.heatmap(ct, annot = True)

plt.subplot(1, 2, 2)
sns.barplot(data = mpg, x = 'drv', y = 'drv_count', hue = 'is_auto')

plt.show()





sns.pairplot(data = mpg)
