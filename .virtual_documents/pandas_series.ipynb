








#import standard for pandas
import pandas as pd
import numpy as np
from pydataset import data



["kiwi", "mango", "strawberry", "pineapple", "gala apple", "honeycrisp apple", "tomato", "watermelon", "honeydew", "kiwi", "kiwi", "kiwi", "mango", "blueberry", "blackberry", "gooseberry", "papaya"]



fruits = ["kiwi", "mango", "strawberry", "pineapple", "gala apple", "honeycrisp apple", "tomato", "watermelon", 
 "honeydew", "kiwi", "kiwi", "kiwi", "mango", "blueberry", "blackberry", "gooseberry", "papaya"]

pd.Series(fruits)


# assigned variable
fruit = pd.Series(fruits)








fruit.count





fruit.index





fruit.values





fruit.dtypes





fruit.head()


fruit.tail(3)


fruit.sample(2)





fruit.describe()





fruit.unique()





fruit.nunique()

# Counting occurences as well as missing values:
# pd.Series(fruits).value_counts(dropna=False)





fruit.value_counts().nlargest(1)





fruit.value_counts().nsmallest(11)


list_fruit = fruit.value_counts() # theo's implementation
list_fruit.head(1)


list_fruit[list_fruit <= 1] # theo's implementation











# used str.capitalize() method to take the value attributes and capitalize
capitalized_fruits = fruit.str.capitalize()
capitalized_fruits





# used str.count(string).sum() methods to count and sum applied by vectorization
count_a = fruit.str.count('a').sum()
count_a





# used str.lower().str.count(string) methods with vowels in the string argument to output the number of vowels
vowels_count = fruit.str.lower().str.count('[aeiou]')
vowels_count





#DataFrame.idxmax(axis=0, skipna=True, numeric_only=False)
    # Return index of first occurrence of maximum over requested axis.
"""
- reference: https://pandas.pydata.org/docs/reference/api/pandas.DataFrame.idxmax.html

"""

# used a varible to assign to the series and return with the series' longest string value using the following methods as mask
# series.str.len().idxmax()
longest_fruit = fruit[fruit.str.len().idxmax()]
longest_fruit





# Assigned variable to the series and used the methods below to mask and return the requirement.
# series.str.len(), and an operations to set boundary using the comparison bit-wise operator.
five_or_more_letters = fruit[fruit.str.len() >= 5]
five_or_more_letters





# used str.count('string') methods then a bit wise comparison operator to set condition upon return
contains_two_o = fruit[fruit.str.count('o') >= 2]
contains_two_o





#  used the str.contains methods to return values with berry in them.
contains_berry = fruit[fruit.str.contains('berry')]
contains_berry





# appled the same methods to return apple in values
contains_apple = fruit[fruit.str.contains('apple')]
contains_apple





# used idxmax() from earlier reference to apply to the vowels_count variable for the mask to return the value
most_vowels_fruit = fruit[vowels_count.idxmax()]
most_vowels_fruit








# used given_string to assign to list of strings.
given_string = 'hnvidduckkqxwymbimkccexbkmqygkxoyndmcxnwqarhyffsjpsrabtjzsypmzadfavyrnndndvswreauxovncxtwzpwejilzjrmmbbgbyxvjtewqthafnbkqplarokkyydtubbmnexoypulzwfhqvckdpqtpoppzqrmcvhhpwgjwupgzhiofohawytlsiyecuproguy'
# assigned letters_lits to list function on the list of strings
letters_list = list(given_string)
# itemized strings from list onto column listed values for each letter in list
letters = pd.Series(letters_list)
# name assigend for series; should return a list with a index for each character
letters





letters_count = letters.value_counts().max()

letters_count



























