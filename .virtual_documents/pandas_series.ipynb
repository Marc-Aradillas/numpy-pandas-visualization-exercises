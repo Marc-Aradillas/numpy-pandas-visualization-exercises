








#import standard for pandas
import pandas as pd
import numpy as np
from pydataset import data
import matplotlib.pyplot as plt



["kiwi", "mango", "strawberry", "pineapple", "gala apple", "honeycrisp apple", "tomato", "watermelon", "honeydew", "kiwi", "kiwi", "kiwi", "mango", "blueberry", "blackberry", "gooseberry", "papaya"]



fruits = ["kiwi", "mango", "strawberry", "pineapple", "gala apple", "honeycrisp apple", "tomato", "watermelon", 
 "honeydew", "kiwi", "kiwi", "kiwi", "mango", "blueberry", "blackberry", "gooseberry", "papaya"]

pd.Series(fruits)


# assigned variable
fruit = pd.Series(fruits)








fruit.size





list(fruit.index)





fruit.values





fruit.dtypes





fruit.head()


fruit.tail(3)


fruit.sample(2)





fruit.describe()





fruit.unique()





fruit.nunique(), fruit.value_counts()





fruit.value_counts().nlargest(1)


fruit.value_counts().head(1)


fruit.mode()





fruit.value_counts().nsmallest(11)


fruit.value_counts().tail(1)


list_fruit = fruit.value_counts() # theo's implementation
list_fruit.head(1)


list_fruit[list_fruit <= 1] # theo's implementation











# used str.capitalize() method to take the value attributes and capitalize
capitalized_fruits = fruit.str.capitalize()
capitalized_fruits





# used str.count(string).sum() methods to count and sum applied by vectorization
count_a = fruit.str.count('a').sum()
count_a





# used str.lower().str.count(string) methods with vowels in the string argument to output the number of vowels
vowels_count = fruit.str.lower().str.count('[aeiou]')
vowels_count





#DataFrame.idxmax(axis=0, skipna=True, numeric_only=False)
    # Return index of first occurrence of maximum over requested axis.
"""
- reference: https://pandas.pydata.org/docs/reference/api/pandas.DataFrame.idxmax.html

"""

# used a varible to assign to the series and return with the series' longest string value using the following methods as mask
# series.str.len().idxmax()
longest_fruit = fruit[fruit.str.len().idxmax()]
longest_fruit

#can also use
# max(fruit, key = len)





# Assigned variable to the series and used the methods below to mask and return the requirement.
# series.str.len(), and an operations to set boundary using the comparison bit-wise operator.
five_or_more_letters = fruit[fruit.str.len() >= 5]
five_or_more_letters





# used str.count('string') methods then a bit wise comparison operator to set condition upon return
contains_two_o = fruit[fruit.str.count('o') >= 2]
contains_two_o





#  used the str.contains methods to return values with berry in them.
contains_berry = fruit[fruit.str.contains('berry')]
contains_berry





# applied the same methods to return apple in values
contains_apple = fruit[fruit.str.contains('apple')]
contains_apple





# used idxmax() from earlier reference to apply to the vowels_count variable for the mask to return the value
most_vowels_fruit = fruit[vowels_count.max()]
most_vowels_fruit











# used given_string to assign to list of strings.
given_string = 'hnvidduckkqxwymbimkccexbkmqygkxoyndmcxnwqarhyffsjpsrabtjzsypmzadfavyrnndndvswreauxovncxtwzpwejilzjrmmbbgbyxvjtewqthafnbkqplarokkyydtubbmnexoypulzwfhqvckdpqtpoppzqrmcvhhpwgjwupgzhiofohawytlsiyecuproguy'
# assigned letters_lits to list function on the list of strings
letters_list = list(given_string)
# itemized strings from list onto column listed values for each letter in list
letters = pd.Series(letters_list)
# name assigned for series; should return a list with a index for each character
letters





most_frequent_letter = letters.value_counts().head(1)

most_frequent_letter





least_frequent_letter = letters.value_counts().tail(1)

least_frequent_letter





# set variable vowels as a list of vowels in a string list.
vowels = set(['a', 'e', 'i', 'o', 'u'])
# used 'isin()' to tell whether each value is in a set of known values.
letters.isin(vowels).value_counts()


# Filtered to letters that are in teh list of vowels by subsetting with a conditional.
letters[letters.isin(vowels)]





# used 'str.isalpha()' method to check each string is alphabetic
# and used the 'tilde' '~' a (bit-wise NOT operator) with 'isin(vowels) to get any other letter other than vowels
# finally used a sum() method to get a sum of all consonants.
consonant_count = (letters.str.isalpha() & ~letters.isin(vowels)).sum()

consonant_count





# upper cased letters using  '.str.upper()' metho and prefixing pd.Series to create a new series
letters_upper_cased = pd.Series(letters.str.upper())

letters_upper_cased





most_common_letters = letters.value_counts().head(6).plot.barh(title= 'Most commonly occuring letters', ylabel= 'Letters', xlabel= 'Frequency')

most_common_letters








number_list = ['$796,459.41', '$278.60', '$482,571.67', '$4,503,915.98', '$2,121,418.3', '$1,260,813.3', '$87,231.01', '$1,509,175.45', '$4,138,548.00', '$2,848,913.80', '$594,715.39', '$4,789,988.17', '$4,513,644.5', '$3,191,059.97', '$1,758,712.24', '$4,338,283.54', '$4,738,303.38', '$2,791,759.67', '$769,681.94', '$452,650.23']
numbers = pd.Series(number_list)
numbers

# number = pd.Series





numbers.dtypes





numbers.size





numbers = numbers.str.replace('[\$,]','', regex=True).astype(float)
numbers





max = numbers.max()
max





min =numbers.min()
min





range_of_series = max - min
range_of_series





bins = pd.cut(numbers, 4)
bin_counts = bins.value_counts()

print(bin_counts)





bin_counts.plot.barh(title= 'Binned Data', xlabel="Counts", ylabel='numbers', color= 'magenta')








score_list = [60, 86, 75, 62, 93, 71, 60, 83, 95, 78, 65, 72, 69, 81, 96, 80, 85, 92, 82, 78]
exam_scores = pd.Series(score_list)
exam_scores





exam_scores.size





min_score = exam_scores.min()
min_score


max_score = exam_scores.max()
max_score


mean_score = exam_scores.mean()
mean_score


median_score = exam_scores.median()
median_score





exam_scores.plot.barh(title='Exam Scores', xlabel='Scores', ylabel='Test Taker ID')





exam_grades = (100 - max_score) + exam_scores
curved_grades = pd.Series(exam_grades)
curved_grades





# def letter_grade(exam_scores):

#     if exam_scores >= 90 | exam_scores <= 100:

#         return 'A'

#     elif exam_scores >= 80:

#         return 'B'

#     elif exam_scores >= 70:

#         return 'C'

#     elif exam_scores >= 60:
#         return 'D'
    
#     else:

#         return 'F'

# curved_grades = curved_grades.apply(letter_grade)
# letter_grades = pd.Series(curved_grades)
# letter_grades
    


bins = [0, 59, 69, 79, 89, 100]
labels = ['F', 'D', 'C', 'B', 'A']

letter_grades = pd.cut(x=curved_grades, bins=bins, labels=labels)





letter_grades.value_counts().plot.barh(title= 'Exam Grades', xlabel='Number of Grades', ylabel='Letter Grades', color = 'green')
