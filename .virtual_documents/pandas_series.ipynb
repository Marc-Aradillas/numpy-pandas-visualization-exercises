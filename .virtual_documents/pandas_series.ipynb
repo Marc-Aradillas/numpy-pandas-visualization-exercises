








#import standard for pandas
import pandas as pd
import numpy as np
from pydataset import data



["kiwi", "mango", "strawberry", "pineapple", "gala apple", "honeycrisp apple", "tomato", "watermelon", "honeydew", "kiwi", "kiwi", "kiwi", "mango", "blueberry", "blackberry", "gooseberry", "papaya"]



fruits = ["kiwi", "mango", "strawberry", "pineapple", "gala apple", "honeycrisp apple", "tomato", "watermelon", 
 "honeydew", "kiwi", "kiwi", "kiwi", "mango", "blueberry", "blackberry", "gooseberry", "papaya"]

pd.Series(fruits)








pd.Series(fruits).count





pd.Series(fruits).index





pd.Series(fruits).values





pd.Series(fruits).dtypes





pd.Series(fruits).head()


pd.Series(fruits).tail(3)


pd.Series(fruits).sample(2)





pd.Series(fruits).describe()





pd.Series(fruits).unique()





pd.Series(fruits).nunique()

# Counting occurences as well as missing values:
# pd.Series(fruits).value_counts(dropna=False)





pd.Series(fruits).value_counts().nlargest(1)





pd.Series(fruits).value_counts().nsmallest()
