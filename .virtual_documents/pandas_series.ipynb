








#import standard for pandas
import pandas as pd
import numpy as np
from pydataset import data



["kiwi", "mango", "strawberry", "pineapple", "gala apple", "honeycrisp apple", "tomato", "watermelon", "honeydew", "kiwi", "kiwi", "kiwi", "mango", "blueberry", "blackberry", "gooseberry", "papaya"]



fruits = ["kiwi", "mango", "strawberry", "pineapple", "gala apple", "honeycrisp apple", "tomato", "wate`rmelon", 
 "honeydew", "kiwi", "kiwi", "kiwi", "mango", "blueberry", "blackberry", "gooseberry", "papaya"]

pd.Series(fruits)


Use Series attributes and methods to explore your fruits Series.





Determine the number of elements in fruits.





Output only the index from fruits.





Output only the values from fruits.





Confirm the data type of the values in fruits.





Output only the first five values from fruits. Output the last three values. Output two random values from fruits.





Run the .describe() on fruits to see what information it returns when called on a Series with string values.





Run the code necessary to produce only the unique string values from fruits.





Determine how many times each unique string value occurs in fruits.





Determine the string value that occurs most frequently in fruits.





Determine the string value that occurs least frequently in fruits.



