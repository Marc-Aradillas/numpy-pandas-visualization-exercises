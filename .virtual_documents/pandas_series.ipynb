








#import standard for pandas
import pandas as pd
import numpy as np
from pydataset import data



["kiwi", "mango", "strawberry", "pineapple", "gala apple", "honeycrisp apple", "tomato", "watermelon", "honeydew", "kiwi", "kiwi", "kiwi", "mango", "blueberry", "blackberry", "gooseberry", "papaya"]



fruits = ["kiwi", "mango", "strawberry", "pineapple", "gala apple", "honeycrisp apple", "tomato", "watermelon", 
 "honeydew", "kiwi", "kiwi", "kiwi", "mango", "blueberry", "blackberry", "gooseberry", "papaya"]

pd.Series(fruits)


# assign variable
fruit = pd.Series(fruits)








fruit.count





fruit.index





fruit.values





fruit.dtypes





fruit.head()


fruit.tail(3)


fruit.sample(2)





fruit.describe()





fruit.unique()





fruit.nunique()

# Counting occurences as well as missing values:
# pd.Series(fruits).value_counts(dropna=False)





fruit.value_counts().nlargest(1)





fruit.value_counts().nsmallest(11)
