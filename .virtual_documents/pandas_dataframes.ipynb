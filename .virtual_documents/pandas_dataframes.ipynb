%autosave 0


import pandas as pd
from pydataset import data





mpg = data('mpg')
mpg.head()





mpg.info


mpg.describe


mpg.shape


mpg.dtypes


mpg.index





# passed in a list of cloumn names in my output
mpg[['manufacturer', 'model']]


mpg.manufacturer


# this also achieved the same result
mpg['manufacturer']





# the dot notation when boolean masking our df. we can make comparison between specific values in the dataframe versus the entire dataframe
mpg.cty > 20


# returns all our information from the dataframe that satifies this particular inequality.
mpg[mpg.cty > 20].head()





# if you want to drop a cloumn it still needs to be passed in a list
mpg.drop(columns=['manufacturer', 'model'])


mpg.head()


# i can reassign this operation to the same variable and return new colum names
mpg.rename(columns={'manufacturer': 'man', 'model': 'mode'})

# ', inplace=True)' * could use this to keep new info and erase the older result/implementation. ; may affect objects outside.





# created a column this is common syntax to implement this.

# add to your dataframe output
mpg['total_mpg'] = mpg['cty'] + mpg['hwy']
mpg.head()


#.assign method to create a new column
# outputs the new data in output for that instance
mpg.assign(mpg_by_cty = mpg['total_mpg'] / mpg['cty'])








# we sorted using 2 common arguments

mpg.sort_values(by = 'total_mpg', ascending=False)





mpg.sort_values(by = 'total_mpg', ascending=False).head(2)





data('mpg', show_doc=True)



