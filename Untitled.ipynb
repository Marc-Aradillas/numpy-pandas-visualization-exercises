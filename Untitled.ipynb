{
 "cells": [
  {
   "cell_type": "code",
   "execution_count": null,
   "id": "8b1bb940-5c2c-4079-bdf2-87f54e6e1e80",
   "metadata": {},
   "outputs": [],
   "source": [
    "Exercises I\n",
    "Run python -m pip install pymysql from your terminal to install pymysql."
   ]
  },
  {
   "cell_type": "code",
   "execution_count": null,
   "id": "f36ad076-3fa6-4cd6-b254-9f87305e545d",
   "metadata": {},
   "outputs": [],
   "source": [
    "Create a notebook or python script named advanced_dataframes to do your work in for these exercises."
   ]
  },
  {
   "cell_type": "code",
   "execution_count": null,
   "id": "c6f4b708-080d-4338-9972-c8b10a14f53a",
   "metadata": {},
   "outputs": [],
   "source": [
    "Run python -m pip install pymysql from your terminal to install the mysql client (any folder is fine)\n",
    "cd into your exercises folder for this module and run echo env.py >> .gitignore\n",
    "Create a function named get_db_url. It should accept a username, hostname, password, and database name and return a url connection string formatted like in the example at the start of this lesson.\n",
    "\n",
    "Use your function to obtain a connection to the employees database.\n",
    "\n",
    "Once you have successfully run a query:\n",
    "\n",
    "a. Intentionally make a typo in the database url. What kind of error message do you see?\n",
    "\n",
    "b. Intentionally make an error in your SQL query. What does the error message look like?\n",
    "\n",
    "Read the employees and titles tables into two separate DataFrames.\n",
    "\n",
    "How many rows and columns do you have in each DataFrame? Is that what you expected?\n",
    "\n",
    "Display the summary statistics for each DataFrame.\n",
    "\n",
    "How many unique titles are in the titles DataFrame?\n",
    "\n",
    "What is the oldest date in the to_date column?\n",
    "\n",
    "What is the most recent date in the to_date column?"
   ]
  }
 ],
 "metadata": {
  "kernelspec": {
   "display_name": "Python 3 (ipykernel)",
   "language": "python",
   "name": "python3"
  },
  "language_info": {
   "codemirror_mode": {
    "name": "ipython",
    "version": 3
   },
   "file_extension": ".py",
   "mimetype": "text/x-python",
   "name": "python",
   "nbconvert_exporter": "python",
   "pygments_lexer": "ipython3",
   "version": "3.10.9"
  }
 },
 "nbformat": 4,
 "nbformat_minor": 5
}
