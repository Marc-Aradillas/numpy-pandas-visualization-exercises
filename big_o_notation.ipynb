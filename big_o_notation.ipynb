{
 "cells": [
  {
   "cell_type": "markdown",
   "id": "caf9d935-5f14-43a6-850d-450e00bcc509",
   "metadata": {},
   "source": [
    "5. Make a new Jupyter notebook named **big_o_notation.ipynb**"
   ]
  },
  {
   "cell_type": "markdown",
   "id": "4d3e7f35-f1d2-4637-b9d4-2c968af09a5f",
   "metadata": {},
   "source": [
    "- Title your chart \"Big O Notation\"\n",
    "- Label your x axis \"Elements\"\n",
    "- Label your y axis \"Operations\"\n",
    "- Label your curves or make a legend for the curves\n",
    "- Use LaTex notation where possible"
   ]
  },
  {
   "cell_type": "code",
   "execution_count": 1,
   "id": "49a8a85f-6f4f-4f6d-87c7-7812e40123c0",
   "metadata": {},
   "outputs": [
    {
     "ename": "NameError",
     "evalue": "name 'y1' is not defined",
     "output_type": "error",
     "traceback": [
      "\u001b[0;31m---------------------------------------------------------------------------\u001b[0m",
      "\u001b[0;31mNameError\u001b[0m                                 Traceback (most recent call last)",
      "Cell \u001b[0;32mIn[1], line 19\u001b[0m\n\u001b[1;32m     16\u001b[0m plt\u001b[38;5;241m.\u001b[39mfigure(figsize\u001b[38;5;241m=\u001b[39m(\u001b[38;5;241m10\u001b[39m, \u001b[38;5;241m6\u001b[39m))\n\u001b[1;32m     18\u001b[0m \u001b[38;5;66;03m# Plot the curves with appropriate labels and colors\u001b[39;00m\n\u001b[0;32m---> 19\u001b[0m plt\u001b[38;5;241m.\u001b[39mplot(x, \u001b[43my1\u001b[49m, label\u001b[38;5;241m=\u001b[39m\u001b[38;5;124m'\u001b[39m\u001b[38;5;124m$O(1)$\u001b[39m\u001b[38;5;124m'\u001b[39m, color\u001b[38;5;241m=\u001b[39m\u001b[38;5;124m'\u001b[39m\u001b[38;5;124mred\u001b[39m\u001b[38;5;124m'\u001b[39m)\n\u001b[1;32m     20\u001b[0m plt\u001b[38;5;241m.\u001b[39mplot(x, y2, label\u001b[38;5;241m=\u001b[39m\u001b[38;5;124m'\u001b[39m\u001b[38;5;124m$O(\u001b[39m\u001b[38;5;124m\\\u001b[39m\u001b[38;5;124mlog n)$\u001b[39m\u001b[38;5;124m'\u001b[39m, color\u001b[38;5;241m=\u001b[39m\u001b[38;5;124m'\u001b[39m\u001b[38;5;124mblue\u001b[39m\u001b[38;5;124m'\u001b[39m)\n\u001b[1;32m     21\u001b[0m plt\u001b[38;5;241m.\u001b[39mplot(x, y3, label\u001b[38;5;241m=\u001b[39m\u001b[38;5;124m'\u001b[39m\u001b[38;5;124m$O(n)$\u001b[39m\u001b[38;5;124m'\u001b[39m, color\u001b[38;5;241m=\u001b[39m\u001b[38;5;124m'\u001b[39m\u001b[38;5;124mgreen\u001b[39m\u001b[38;5;124m'\u001b[39m)\n",
      "\u001b[0;31mNameError\u001b[0m: name 'y1' is not defined"
     ]
    },
    {
     "data": {
      "text/plain": [
       "<Figure size 1000x600 with 0 Axes>"
      ]
     },
     "metadata": {},
     "output_type": "display_data"
    }
   ],
   "source": [
    "import numpy as np\n",
    "import matplotlib.pyplot as plt\n",
    "\n",
    "# Generated x points from 1 to 10\n",
    "x = np.arange(1, 11)\n",
    "\n",
    "# Calculated y values for different Big O notations\n",
    "y_constant = np.ones_like(x)         # O(1)\n",
    "y_logarithmic = np.log2(x)           # O(log n)\n",
    "y_linear = x                         # O(n)\n",
    "y_linearithmic = x * np.log2(x)      # O(n log n)\n",
    "y_quadratic = x ** 2                 # O(n^2)\n",
    "y_exponential = 2 ** x               # O(2^n)\n",
    "\n",
    "# Created the chart\n",
    "plt.figure(figsize=(10, 6))\n",
    "\n",
    "# Plot the curves with appropriate labels and colors\n",
    "plt.plot(x, y1, label='$O(1)$', color='red')\n",
    "plt.plot(x, y2, label='$O(\\log n)$', color='blue')\n",
    "plt.plot(x, y3, label='$O(n)$', color='green')\n",
    "plt.plot(x, y4, label='$O(n \\log n)$', color='purple')\n",
    "\n",
    "# Add labels, title, and legend with LaTex notation\n",
    "plt.xlabel('Elements', fontsize=14)\n",
    "plt.ylabel('Operations', fontsize=14)\n",
    "plt.title('Big O Notation', fontsize=16)\n",
    "plt.legend(fontsize=12)\n",
    "\n",
    "plt.ylim(0, 10)\n",
    "\n",
    "plt.grid(True)\n",
    "plt.show()"
   ]
  }
 ],
 "metadata": {
  "kernelspec": {
   "display_name": "Python 3 (ipykernel)",
   "language": "python",
   "name": "python3"
  },
  "language_info": {
   "codemirror_mode": {
    "name": "ipython",
    "version": 3
   },
   "file_extension": ".py",
   "mimetype": "text/x-python",
   "name": "python",
   "nbconvert_exporter": "python",
   "pygments_lexer": "ipython3",
   "version": "3.10.9"
  }
 },
 "nbformat": 4,
 "nbformat_minor": 5
}
