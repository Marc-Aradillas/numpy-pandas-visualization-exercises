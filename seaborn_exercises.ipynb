{
 "cells": [
  {
   "cell_type": "markdown",
   "id": "961215b0-a634-4296-8466-4f3b504a7b44",
   "metadata": {},
   "source": [
    "# Exercises"
   ]
  },
  {
   "cell_type": "markdown",
   "id": "e89c38b4-1197-463b-bb19-57d92896b3f9",
   "metadata": {},
   "source": [
    "## Use seaborn's load_dataset function to load the iris database to answer the following questions:"
   ]
  },
  {
   "cell_type": "markdown",
   "id": "04614ab8-8398-4477-8777-6d8155736128",
   "metadata": {},
   "source": [
    "1. What does the distribution of petal lengths look like?"
   ]
  },
  {
   "cell_type": "code",
   "execution_count": null,
   "id": "290b683d-b030-421c-925d-b28b4b125ac9",
   "metadata": {},
   "outputs": [],
   "source": []
  },
  {
   "cell_type": "markdown",
   "id": "f905b1b6-2039-47d5-9448-8f16ebc23806",
   "metadata": {},
   "source": [
    "2. Is there a relationship between petal length and petal width?"
   ]
  },
  {
   "cell_type": "code",
   "execution_count": null,
   "id": "5a5a0051-3be1-404f-9b6d-bc8d6acb47e9",
   "metadata": {},
   "outputs": [],
   "source": []
  },
  {
   "cell_type": "markdown",
   "id": "3de197f5-9fac-4e12-ad9f-e403434ea450",
   "metadata": {},
   "source": [
    "3. Would it be reasonable to predict species based on sepal width and sepal length? For this, you'll visualize two numeric columns through the lense of a categorical column."
   ]
  },
  {
   "cell_type": "code",
   "execution_count": null,
   "id": "ee2479b1-20a9-4b96-99b5-156d2c555eaf",
   "metadata": {},
   "outputs": [],
   "source": []
  },
  {
   "cell_type": "markdown",
   "id": "35ca24e3-3d9a-4bcf-9ade-be35a6020ee0",
   "metadata": {},
   "source": [
    "4. Which features would be best used to predict species?"
   ]
  },
  {
   "cell_type": "code",
   "execution_count": null,
   "id": "385337f7-d857-4a4f-9544-b70ec8d098cc",
   "metadata": {},
   "outputs": [],
   "source": []
  },
  {
   "cell_type": "markdown",
   "id": "50a0adbf-636d-43d2-9ce4-128a13b97b43",
   "metadata": {},
   "source": [
    "----------------------------------------------------------------------------------------------------------------------------------------------------------------------------------------------------------------------------------------------------------------------------------------------------------------------------------------------------------------------------------------------------------------------------------------------------------"
   ]
  },
  {
   "cell_type": "markdown",
   "id": "29acacd7-39ac-4c7a-831a-f7a4f9a38e4a",
   "metadata": {},
   "source": [
    "1. Load the anscombe dataset from seaborn. Use pandas to group the data by the dataset column, and calculate summary statistics for each dataset. What do you notice?"
   ]
  },
  {
   "cell_type": "markdown",
   "id": "16780738-f7af-4f0c-bdf0-c9b39b09a425",
   "metadata": {},
   "source": [
    "    - Plot the x and y values from the anscombe data. Each dataset should be in a separate column."
   ]
  },
  {
   "cell_type": "code",
   "execution_count": null,
   "id": "2041b002-d6c8-4abc-8aa9-3d5890ee6950",
   "metadata": {},
   "outputs": [],
   "source": []
  },
  {
   "cell_type": "markdown",
   "id": "96abe761-7b7b-4ca2-b3fa-0a6c3f1b7c86",
   "metadata": {},
   "source": [
    "2. Load the InsectSprays dataset from pydataset and read it's documentation. Create a boxplot that shows the effectiveness of the different insect sprays."
   ]
  },
  {
   "cell_type": "code",
   "execution_count": null,
   "id": "9d32975a-8062-4a94-839f-99d2be385b34",
   "metadata": {},
   "outputs": [],
   "source": []
  },
  {
   "cell_type": "markdown",
   "id": "4e86bb19-8e07-4fc0-adce-09998451dbeb",
   "metadata": {},
   "source": [
    "3. Load the swiss dataset from pydataset and read it's documentation. Create visualizations to answer the following questions:"
   ]
  },
  {
   "cell_type": "markdown",
   "id": "c4d8a56a-6456-4ea0-8716-137cc4f2dfdc",
   "metadata": {},
   "source": [
    "    - Create an attribute named is_catholic that holds a boolean value of whether or not the province is Catholic. (Choose a cutoff point for what constitutes catholic)"
   ]
  },
  {
   "cell_type": "markdown",
   "id": "061136a6-d7c4-4d6d-ae96-9681e210ef12",
   "metadata": {},
   "source": [
    "    - Does whether or not a province is Catholic influence fertility?"
   ]
  },
  {
   "cell_type": "markdown",
   "id": "266393f8-7b9b-4071-854f-b8d1ee4901fa",
   "metadata": {},
   "source": [
    "    - What measure correlates most strongly with fertility?"
   ]
  },
  {
   "cell_type": "code",
   "execution_count": null,
   "id": "4bdbd24c-ffcd-4d2c-ad53-86c5fe08723c",
   "metadata": {},
   "outputs": [],
   "source": []
  },
  {
   "cell_type": "markdown",
   "id": "d3b615e6-7a9a-4deb-a671-4c7ba8eebdd6",
   "metadata": {},
   "source": [
    "4. Load the chipotle dataset from SQL, create a bar chart that shows the 4 most popular items and the revenue produced by each."
   ]
  },
  {
   "cell_type": "code",
   "execution_count": null,
   "id": "17946f28-7b83-442f-9d9c-85f66b6fce17",
   "metadata": {},
   "outputs": [],
   "source": []
  },
  {
   "cell_type": "markdown",
   "id": "9abe4c78-c335-4165-b02e-99daf848bb37",
   "metadata": {},
   "source": [
    "5. Load the sleepstudy dataset from pydataset and read it's documentation. Use seaborn to create a line chart of all the individual subject's reaction times and a more prominant line showing the average change in reaction time."
   ]
  },
  {
   "cell_type": "code",
   "execution_count": null,
   "id": "1ad6305e-b27a-4302-86ae-0bce0d973184",
   "metadata": {},
   "outputs": [],
   "source": []
  }
 ],
 "metadata": {
  "kernelspec": {
   "display_name": "Python 3 (ipykernel)",
   "language": "python",
   "name": "python3"
  },
  "language_info": {
   "codemirror_mode": {
    "name": "ipython",
    "version": 3
   },
   "file_extension": ".py",
   "mimetype": "text/x-python",
   "name": "python",
   "nbconvert_exporter": "python",
   "pygments_lexer": "ipython3",
   "version": "3.10.9"
  }
 },
 "nbformat": 4,
 "nbformat_minor": 5
}
