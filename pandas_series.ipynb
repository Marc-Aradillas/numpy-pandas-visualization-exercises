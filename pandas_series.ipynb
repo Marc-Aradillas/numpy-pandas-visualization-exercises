{
 "cells": [
  {
   "cell_type": "markdown",
   "id": "ec6c65de-ef97-4b36-90d5-9cab6cdee583",
   "metadata": {},
   "source": [
    "# Exercises Part I"
   ]
  },
  {
   "cell_type": "markdown",
   "id": "2d54f15d-1ca1-404a-a0c7-280aff995f28",
   "metadata": {},
   "source": [
    "## Make a file named pandas_series.py or pandas_series.ipynb for the following exercises."
   ]
  },
  {
   "cell_type": "markdown",
   "id": "aaaee422-8ebf-423b-9e19-d8e24403468c",
   "metadata": {},
   "source": [
    "## Use pandas to create a Series named fruits from the following list:"
   ]
  },
  {
   "cell_type": "code",
   "execution_count": 1,
   "id": "5d4afbca-37d8-4825-b7b4-003c401ecb19",
   "metadata": {},
   "outputs": [],
   "source": [
    "#import standard for pandas\n",
    "import pandas as pd\n",
    "import numpy as np\n",
    "from pydataset import data\n",
    "import matplotlib.pyplot as plt"
   ]
  },
  {
   "cell_type": "code",
   "execution_count": 2,
   "id": "60efd76f-e01c-4619-a6be-0c1b12ebe3bf",
   "metadata": {},
   "outputs": [
    {
     "data": {
      "text/plain": [
       "['kiwi',\n",
       " 'mango',\n",
       " 'strawberry',\n",
       " 'pineapple',\n",
       " 'gala apple',\n",
       " 'honeycrisp apple',\n",
       " 'tomato',\n",
       " 'watermelon',\n",
       " 'honeydew',\n",
       " 'kiwi',\n",
       " 'kiwi',\n",
       " 'kiwi',\n",
       " 'mango',\n",
       " 'blueberry',\n",
       " 'blackberry',\n",
       " 'gooseberry',\n",
       " 'papaya']"
      ]
     },
     "execution_count": 2,
     "metadata": {},
     "output_type": "execute_result"
    }
   ],
   "source": [
    "\n",
    "[\"kiwi\", \"mango\", \"strawberry\", \"pineapple\", \"gala apple\", \"honeycrisp apple\", \"tomato\", \"watermelon\", \"honeydew\", \"kiwi\", \"kiwi\", \"kiwi\", \"mango\", \"blueberry\", \"blackberry\", \"gooseberry\", \"papaya\"]\n"
   ]
  },
  {
   "cell_type": "code",
   "execution_count": 3,
   "id": "6dd9188d-4adf-4d87-8342-44d5fc4845df",
   "metadata": {},
   "outputs": [
    {
     "data": {
      "text/plain": [
       "0                 kiwi\n",
       "1                mango\n",
       "2           strawberry\n",
       "3            pineapple\n",
       "4           gala apple\n",
       "5     honeycrisp apple\n",
       "6               tomato\n",
       "7           watermelon\n",
       "8             honeydew\n",
       "9                 kiwi\n",
       "10                kiwi\n",
       "11                kiwi\n",
       "12               mango\n",
       "13           blueberry\n",
       "14          blackberry\n",
       "15          gooseberry\n",
       "16              papaya\n",
       "dtype: object"
      ]
     },
     "execution_count": 3,
     "metadata": {},
     "output_type": "execute_result"
    }
   ],
   "source": [
    "fruits = [\"kiwi\", \"mango\", \"strawberry\", \"pineapple\", \"gala apple\", \"honeycrisp apple\", \"tomato\", \"watermelon\", \n",
    " \"honeydew\", \"kiwi\", \"kiwi\", \"kiwi\", \"mango\", \"blueberry\", \"blackberry\", \"gooseberry\", \"papaya\"]\n",
    "\n",
    "pd.Series(fruits)"
   ]
  },
  {
   "cell_type": "code",
   "execution_count": 4,
   "id": "fe0725ec-6bdb-45ef-8412-f6113fe40faa",
   "metadata": {},
   "outputs": [],
   "source": [
    "# assigned variable\n",
    "fruit = pd.Series(fruits)"
   ]
  },
  {
   "cell_type": "markdown",
   "id": "08dbce16-1c2a-4509-a3e9-6447580df2f0",
   "metadata": {},
   "source": [
    "## Use Series attributes and methods to explore your fruits Series."
   ]
  },
  {
   "cell_type": "markdown",
   "id": "2b8836c6-6163-4dec-a681-d60e23fab04a",
   "metadata": {},
   "source": [
    "1. Determine the number of elements in fruits."
   ]
  },
  {
   "cell_type": "code",
   "execution_count": 5,
   "id": "ed455047-eafc-4132-b3d6-db5a83192aef",
   "metadata": {},
   "outputs": [
    {
     "data": {
      "text/plain": [
       "17"
      ]
     },
     "execution_count": 5,
     "metadata": {},
     "output_type": "execute_result"
    }
   ],
   "source": [
    "fruit.size"
   ]
  },
  {
   "cell_type": "markdown",
   "id": "d88a3e24-4795-4dc8-a53c-4b4874921c46",
   "metadata": {},
   "source": [
    "2. Output only the index from fruits."
   ]
  },
  {
   "cell_type": "code",
   "execution_count": 6,
   "id": "3f35ce54-cdd5-4f75-b998-a4472adbc3f3",
   "metadata": {},
   "outputs": [
    {
     "data": {
      "text/plain": [
       "RangeIndex(start=0, stop=17, step=1)"
      ]
     },
     "execution_count": 6,
     "metadata": {},
     "output_type": "execute_result"
    }
   ],
   "source": [
    "fruit.index"
   ]
  },
  {
   "cell_type": "markdown",
   "id": "d755fa4e-4ed6-4d60-b341-80e8df2b2f47",
   "metadata": {},
   "source": [
    "3. Output only the values from fruits."
   ]
  },
  {
   "cell_type": "code",
   "execution_count": 7,
   "id": "d6cf8786-8e49-471b-826f-d92d4c1aa84b",
   "metadata": {},
   "outputs": [
    {
     "data": {
      "text/plain": [
       "array(['kiwi', 'mango', 'strawberry', 'pineapple', 'gala apple',\n",
       "       'honeycrisp apple', 'tomato', 'watermelon', 'honeydew', 'kiwi',\n",
       "       'kiwi', 'kiwi', 'mango', 'blueberry', 'blackberry', 'gooseberry',\n",
       "       'papaya'], dtype=object)"
      ]
     },
     "execution_count": 7,
     "metadata": {},
     "output_type": "execute_result"
    }
   ],
   "source": [
    "fruit.values"
   ]
  },
  {
   "cell_type": "markdown",
   "id": "fef9b861-1066-45eb-81c6-a972a790059a",
   "metadata": {},
   "source": [
    "4. Confirm the data type of the values in fruits."
   ]
  },
  {
   "cell_type": "code",
   "execution_count": 8,
   "id": "59a4fd4f-dc21-4270-bcc4-db692466d368",
   "metadata": {},
   "outputs": [
    {
     "data": {
      "text/plain": [
       "dtype('O')"
      ]
     },
     "execution_count": 8,
     "metadata": {},
     "output_type": "execute_result"
    }
   ],
   "source": [
    "fruit.dtypes"
   ]
  },
  {
   "cell_type": "markdown",
   "id": "928b63a4-c1e7-4a54-a2b4-28989176d998",
   "metadata": {},
   "source": [
    "5. Output only the first five values from fruits. Output the last three values. Output two random values from fruits."
   ]
  },
  {
   "cell_type": "code",
   "execution_count": 9,
   "id": "00803eb4-8456-4b8e-b7be-54a2c498850b",
   "metadata": {},
   "outputs": [
    {
     "data": {
      "text/plain": [
       "0          kiwi\n",
       "1         mango\n",
       "2    strawberry\n",
       "3     pineapple\n",
       "4    gala apple\n",
       "dtype: object"
      ]
     },
     "execution_count": 9,
     "metadata": {},
     "output_type": "execute_result"
    }
   ],
   "source": [
    "fruit.head()"
   ]
  },
  {
   "cell_type": "code",
   "execution_count": 10,
   "id": "34c39a73-09ba-4486-bb3d-e5a848cfa047",
   "metadata": {},
   "outputs": [
    {
     "data": {
      "text/plain": [
       "14    blackberry\n",
       "15    gooseberry\n",
       "16        papaya\n",
       "dtype: object"
      ]
     },
     "execution_count": 10,
     "metadata": {},
     "output_type": "execute_result"
    }
   ],
   "source": [
    "fruit.tail(3)"
   ]
  },
  {
   "cell_type": "code",
   "execution_count": 11,
   "id": "fe39ecbc-1552-41cd-8ffe-6fc7b600754b",
   "metadata": {},
   "outputs": [
    {
     "data": {
      "text/plain": [
       "13     blueberry\n",
       "14    blackberry\n",
       "dtype: object"
      ]
     },
     "execution_count": 11,
     "metadata": {},
     "output_type": "execute_result"
    }
   ],
   "source": [
    "fruit.sample(2)"
   ]
  },
  {
   "cell_type": "markdown",
   "id": "be0017d8-9fdd-4a93-a17b-ec0eaaa09e52",
   "metadata": {},
   "source": [
    "6. Run the .describe() on fruits to see what information it returns when called on a Series with string values."
   ]
  },
  {
   "cell_type": "code",
   "execution_count": 12,
   "id": "5d78838d-5062-4bfe-b3f9-acaddedcc3ef",
   "metadata": {},
   "outputs": [
    {
     "data": {
      "text/plain": [
       "count       17\n",
       "unique      13\n",
       "top       kiwi\n",
       "freq         4\n",
       "dtype: object"
      ]
     },
     "execution_count": 12,
     "metadata": {},
     "output_type": "execute_result"
    }
   ],
   "source": [
    "fruit.describe()"
   ]
  },
  {
   "cell_type": "markdown",
   "id": "a0359675-ed55-45b6-ace9-6a52788b92c0",
   "metadata": {},
   "source": [
    "7. Run the code necessary to produce only the unique string values from fruits."
   ]
  },
  {
   "cell_type": "code",
   "execution_count": 13,
   "id": "a9323f82-b54c-4344-8684-f21ceaf9acc7",
   "metadata": {},
   "outputs": [
    {
     "data": {
      "text/plain": [
       "array(['kiwi', 'mango', 'strawberry', 'pineapple', 'gala apple',\n",
       "       'honeycrisp apple', 'tomato', 'watermelon', 'honeydew',\n",
       "       'blueberry', 'blackberry', 'gooseberry', 'papaya'], dtype=object)"
      ]
     },
     "execution_count": 13,
     "metadata": {},
     "output_type": "execute_result"
    }
   ],
   "source": [
    "fruit.unique()"
   ]
  },
  {
   "cell_type": "markdown",
   "id": "d55eb047-42b3-4d0b-93bc-ddbdb5d6f534",
   "metadata": {},
   "source": [
    "8. Determine how many times each unique string value occurs in fruits."
   ]
  },
  {
   "cell_type": "code",
   "execution_count": 14,
   "id": "9d08a823-4cf2-4c11-9fdf-7f8f7751cc47",
   "metadata": {
    "scrolled": true
   },
   "outputs": [
    {
     "data": {
      "text/plain": [
       "13"
      ]
     },
     "execution_count": 14,
     "metadata": {},
     "output_type": "execute_result"
    }
   ],
   "source": [
    "fruit.nunique()\n",
    "\n",
    "# Counting occurences as well as missing values:\n",
    "# pd.Series(fruits).value_counts(dropna=False)"
   ]
  },
  {
   "cell_type": "markdown",
   "id": "ca82df74-be4e-4c51-8d15-ecafcb25bdd0",
   "metadata": {},
   "source": [
    "9. Determine the string value that occurs most frequently in fruits."
   ]
  },
  {
   "cell_type": "code",
   "execution_count": 15,
   "id": "82b4aa03-56a2-4bf1-9695-eea833ca9617",
   "metadata": {},
   "outputs": [
    {
     "data": {
      "text/plain": [
       "kiwi    4\n",
       "dtype: int64"
      ]
     },
     "execution_count": 15,
     "metadata": {},
     "output_type": "execute_result"
    }
   ],
   "source": [
    "fruit.value_counts().nlargest(1)"
   ]
  },
  {
   "cell_type": "markdown",
   "id": "d1593173-6e34-4b73-a14d-edd1f3424d91",
   "metadata": {},
   "source": [
    "10. Determine the string value that occurs least frequently in fruits."
   ]
  },
  {
   "cell_type": "code",
   "execution_count": 16,
   "id": "e0161fa3-000e-4962-a8f2-a5899b9de441",
   "metadata": {
    "scrolled": true
   },
   "outputs": [
    {
     "data": {
      "text/plain": [
       "strawberry          1\n",
       "pineapple           1\n",
       "gala apple          1\n",
       "honeycrisp apple    1\n",
       "tomato              1\n",
       "watermelon          1\n",
       "honeydew            1\n",
       "blueberry           1\n",
       "blackberry          1\n",
       "gooseberry          1\n",
       "papaya              1\n",
       "dtype: int64"
      ]
     },
     "execution_count": 16,
     "metadata": {},
     "output_type": "execute_result"
    }
   ],
   "source": [
    "fruit.value_counts().nsmallest(11)"
   ]
  },
  {
   "cell_type": "code",
   "execution_count": 17,
   "id": "9d374da6-bf3d-4605-9782-687336d8fefc",
   "metadata": {},
   "outputs": [
    {
     "data": {
      "text/plain": [
       "kiwi    4\n",
       "dtype: int64"
      ]
     },
     "execution_count": 17,
     "metadata": {},
     "output_type": "execute_result"
    }
   ],
   "source": [
    "list_fruit = fruit.value_counts() # theo's implementation\n",
    "list_fruit.head(1)"
   ]
  },
  {
   "cell_type": "code",
   "execution_count": 18,
   "id": "90d4f90f-0573-4b16-ad84-7b627d7e2d51",
   "metadata": {},
   "outputs": [
    {
     "data": {
      "text/plain": [
       "strawberry          1\n",
       "pineapple           1\n",
       "gala apple          1\n",
       "honeycrisp apple    1\n",
       "tomato              1\n",
       "watermelon          1\n",
       "honeydew            1\n",
       "blueberry           1\n",
       "blackberry          1\n",
       "gooseberry          1\n",
       "papaya              1\n",
       "dtype: int64"
      ]
     },
     "execution_count": 18,
     "metadata": {},
     "output_type": "execute_result"
    }
   ],
   "source": [
    "list_fruit[list_fruit <= 1] # theo's implementation"
   ]
  },
  {
   "cell_type": "markdown",
   "id": "791a51d0-a13a-4966-a1c8-486ef16258f8",
   "metadata": {},
   "source": [
    "# Exercises part II"
   ]
  },
  {
   "cell_type": "markdown",
   "id": "748153a1-ff8c-4ef1-9405-a3cdc544094f",
   "metadata": {},
   "source": [
    "## Explore more attributes and methods while you continue to work with the fruits Series."
   ]
  },
  {
   "cell_type": "markdown",
   "id": "7b409ebf-00d2-497b-9d25-5d8f8cb8938b",
   "metadata": {},
   "source": [
    "1. Capitalize all the string values in fruits."
   ]
  },
  {
   "cell_type": "code",
   "execution_count": 19,
   "id": "7648925f-0866-4fed-9ff9-430ccbdc989f",
   "metadata": {},
   "outputs": [
    {
     "data": {
      "text/plain": [
       "0                 Kiwi\n",
       "1                Mango\n",
       "2           Strawberry\n",
       "3            Pineapple\n",
       "4           Gala apple\n",
       "5     Honeycrisp apple\n",
       "6               Tomato\n",
       "7           Watermelon\n",
       "8             Honeydew\n",
       "9                 Kiwi\n",
       "10                Kiwi\n",
       "11                Kiwi\n",
       "12               Mango\n",
       "13           Blueberry\n",
       "14          Blackberry\n",
       "15          Gooseberry\n",
       "16              Papaya\n",
       "dtype: object"
      ]
     },
     "execution_count": 19,
     "metadata": {},
     "output_type": "execute_result"
    }
   ],
   "source": [
    "# used str.capitalize() method to take the value attributes and capitalize\n",
    "capitalized_fruits = fruit.str.capitalize()\n",
    "capitalized_fruits"
   ]
  },
  {
   "cell_type": "markdown",
   "id": "76bda2a9-7714-4c58-9874-c029a6e029c4",
   "metadata": {},
   "source": [
    "2. Count the letter \"a\" in all the string values (use string vectorization)."
   ]
  },
  {
   "cell_type": "code",
   "execution_count": 20,
   "id": "290c7cb9-d4ec-4c3b-adfb-df417bc4610d",
   "metadata": {},
   "outputs": [
    {
     "data": {
      "text/plain": [
       "14"
      ]
     },
     "execution_count": 20,
     "metadata": {},
     "output_type": "execute_result"
    }
   ],
   "source": [
    "# used str.count(string).sum() methods to count and sum applied by vectorization\n",
    "count_a = fruit.str.count('a').sum()\n",
    "count_a"
   ]
  },
  {
   "cell_type": "markdown",
   "id": "623a94dd-c6f2-418d-b7f7-699a307d2ac9",
   "metadata": {},
   "source": [
    "3. Output the number of vowels in each and every string value."
   ]
  },
  {
   "cell_type": "code",
   "execution_count": 21,
   "id": "4463cb53-e6ac-4457-815c-8c00ee93a78a",
   "metadata": {},
   "outputs": [
    {
     "data": {
      "text/plain": [
       "0     2\n",
       "1     2\n",
       "2     2\n",
       "3     4\n",
       "4     4\n",
       "5     5\n",
       "6     3\n",
       "7     4\n",
       "8     3\n",
       "9     2\n",
       "10    2\n",
       "11    2\n",
       "12    2\n",
       "13    3\n",
       "14    2\n",
       "15    4\n",
       "16    3\n",
       "dtype: int64"
      ]
     },
     "execution_count": 21,
     "metadata": {},
     "output_type": "execute_result"
    }
   ],
   "source": [
    "# used str.lower().str.count(string) methods with vowels in the string argument to output the number of vowels\n",
    "vowels_count = fruit.str.lower().str.count('[aeiou]')\n",
    "vowels_count"
   ]
  },
  {
   "cell_type": "markdown",
   "id": "232df9c0-b43e-4210-b8d4-5ef1e635361c",
   "metadata": {},
   "source": [
    "4. Write the code to get the longest string value from fruits."
   ]
  },
  {
   "cell_type": "code",
   "execution_count": 22,
   "id": "1524fce6-7094-4e4c-bc7a-81f6d4209fa9",
   "metadata": {},
   "outputs": [
    {
     "data": {
      "text/plain": [
       "'honeycrisp apple'"
      ]
     },
     "execution_count": 22,
     "metadata": {},
     "output_type": "execute_result"
    }
   ],
   "source": [
    "#DataFrame.idxmax(axis=0, skipna=True, numeric_only=False)\n",
    "    # Return index of first occurrence of maximum over requested axis.\n",
    "\"\"\"\n",
    "- reference: https://pandas.pydata.org/docs/reference/api/pandas.DataFrame.idxmax.html\n",
    "\n",
    "\"\"\"\n",
    "\n",
    "# used a varible to assign to the series and return with the series' longest string value using the following methods as mask\n",
    "# series.str.len().idxmax()\n",
    "longest_fruit = fruit[fruit.str.len().idxmax()]\n",
    "longest_fruit"
   ]
  },
  {
   "cell_type": "markdown",
   "id": "c6f93656-ff6c-428a-bda9-452fad2e477e",
   "metadata": {},
   "source": [
    "5. Write the code to get the string values with 5 or more letters in the name."
   ]
  },
  {
   "cell_type": "code",
   "execution_count": 23,
   "id": "289e45d3-92d5-4420-a799-0fb7e60bd560",
   "metadata": {},
   "outputs": [
    {
     "data": {
      "text/plain": [
       "1                mango\n",
       "2           strawberry\n",
       "3            pineapple\n",
       "4           gala apple\n",
       "5     honeycrisp apple\n",
       "6               tomato\n",
       "7           watermelon\n",
       "8             honeydew\n",
       "12               mango\n",
       "13           blueberry\n",
       "14          blackberry\n",
       "15          gooseberry\n",
       "16              papaya\n",
       "dtype: object"
      ]
     },
     "execution_count": 23,
     "metadata": {},
     "output_type": "execute_result"
    }
   ],
   "source": [
    "# Assigned variable to the series and used the methods below to mask and return the requirement.\n",
    "# series.str.len(), and an operations to set boundary using the comparison bit-wise operator.\n",
    "five_or_more_letters = fruit[fruit.str.len() >= 5]\n",
    "five_or_more_letters"
   ]
  },
  {
   "cell_type": "markdown",
   "id": "d4c29c89-8df2-42f8-9b8c-0285161aac0d",
   "metadata": {},
   "source": [
    "6. Find the fruit(s) containing the letter \"o\" two or more times."
   ]
  },
  {
   "cell_type": "code",
   "execution_count": 24,
   "id": "cb8a327b-60a6-4879-90fe-ab04f8cb61f0",
   "metadata": {},
   "outputs": [
    {
     "data": {
      "text/plain": [
       "6         tomato\n",
       "15    gooseberry\n",
       "dtype: object"
      ]
     },
     "execution_count": 24,
     "metadata": {},
     "output_type": "execute_result"
    }
   ],
   "source": [
    "# used str.count('string') methods then a bit wise comparison operator to set condition upon return\n",
    "contains_two_o = fruit[fruit.str.count('o') >= 2]\n",
    "contains_two_o"
   ]
  },
  {
   "cell_type": "markdown",
   "id": "c2010513-7762-4a89-84d8-968c98a0a569",
   "metadata": {},
   "source": [
    "7. Write the code to get only the string values containing the substring \"berry\"."
   ]
  },
  {
   "cell_type": "code",
   "execution_count": 25,
   "id": "8ff4ed30-8d78-448b-a45b-0bacc4b99105",
   "metadata": {},
   "outputs": [
    {
     "data": {
      "text/plain": [
       "2     strawberry\n",
       "13     blueberry\n",
       "14    blackberry\n",
       "15    gooseberry\n",
       "dtype: object"
      ]
     },
     "execution_count": 25,
     "metadata": {},
     "output_type": "execute_result"
    }
   ],
   "source": [
    "#  used the str.contains methods to return values with berry in them.\n",
    "contains_berry = fruit[fruit.str.contains('berry')]\n",
    "contains_berry"
   ]
  },
  {
   "cell_type": "markdown",
   "id": "12cff35c-113e-4afd-b6f4-6c74de865ae8",
   "metadata": {},
   "source": [
    "8. Write the code to get only the string values containing the substring \"apple\"."
   ]
  },
  {
   "cell_type": "code",
   "execution_count": 26,
   "id": "c9138c2f-47b3-4358-b553-bd87c469fd0c",
   "metadata": {},
   "outputs": [
    {
     "data": {
      "text/plain": [
       "3           pineapple\n",
       "4          gala apple\n",
       "5    honeycrisp apple\n",
       "dtype: object"
      ]
     },
     "execution_count": 26,
     "metadata": {},
     "output_type": "execute_result"
    }
   ],
   "source": [
    "# appled the same methods to return apple in values\n",
    "contains_apple = fruit[fruit.str.contains('apple')]\n",
    "contains_apple"
   ]
  },
  {
   "cell_type": "markdown",
   "id": "3be3a472-da6c-48b4-98bf-33c411ee17f4",
   "metadata": {},
   "source": [
    "9. Which string value contains the most vowels?"
   ]
  },
  {
   "cell_type": "code",
   "execution_count": 27,
   "id": "e66d4214-e88c-4809-afbc-5e5dc23f673a",
   "metadata": {},
   "outputs": [
    {
     "data": {
      "text/plain": [
       "'honeycrisp apple'"
      ]
     },
     "execution_count": 27,
     "metadata": {},
     "output_type": "execute_result"
    }
   ],
   "source": [
    "# used idxmax() from earlier reference to apply to the vowels_count variable for the mask to return the value\n",
    "most_vowels_fruit = fruit[vowels_count.idxmax()]\n",
    "most_vowels_fruit"
   ]
  },
  {
   "cell_type": "markdown",
   "id": "6ca3d0a4-8259-45d0-bd25-5212f858af84",
   "metadata": {},
   "source": [
    "# Exercises Part III"
   ]
  },
  {
   "cell_type": "markdown",
   "id": "4f19db28-2c5b-4bfb-a824-f8ff811dd75c",
   "metadata": {},
   "source": [
    "## Section 1"
   ]
  },
  {
   "cell_type": "markdown",
   "id": "a15808df-4a19-4ebd-9a9d-60b4deea2821",
   "metadata": {},
   "source": [
    "## Use pandas to create a Series named letters from the following string. The easiest way to make this string into a Pandas series is to use list to convert each individual letter into a single string on a basic Python list."
   ]
  },
  {
   "cell_type": "code",
   "execution_count": 28,
   "id": "04396cc7-f852-48e7-af14-64bc164ab62c",
   "metadata": {},
   "outputs": [
    {
     "data": {
      "text/plain": [
       "0      h\n",
       "1      n\n",
       "2      v\n",
       "3      i\n",
       "4      d\n",
       "      ..\n",
       "195    r\n",
       "196    o\n",
       "197    g\n",
       "198    u\n",
       "199    y\n",
       "Length: 200, dtype: object"
      ]
     },
     "execution_count": 28,
     "metadata": {},
     "output_type": "execute_result"
    }
   ],
   "source": [
    "# used given_string to assign to list of strings.\n",
    "given_string = 'hnvidduckkqxwymbimkccexbkmqygkxoyndmcxnwqarhyffsjpsrabtjzsypmzadfavyrnndndvswreauxovncxtwzpwejilzjrmmbbgbyxvjtewqthafnbkqplarokkyydtubbmnexoypulzwfhqvckdpqtpoppzqrmcvhhpwgjwupgzhiofohawytlsiyecuproguy'\n",
    "# assigned letters_lits to list function on the list of strings\n",
    "letters_list = list(given_string)\n",
    "# itemized strings from list onto column listed values for each letter in list\n",
    "letters = pd.Series(letters_list)\n",
    "# name assigned for series; should return a list with a index for each character\n",
    "letters"
   ]
  },
  {
   "cell_type": "markdown",
   "id": "025a9604-71dd-40d5-8b26-15ba949574b5",
   "metadata": {},
   "source": [
    "1. Which letter occurs the most frequently in the letters Series?"
   ]
  },
  {
   "cell_type": "code",
   "execution_count": 29,
   "id": "0cc2c8c5-3b86-4b82-99e1-958ba997f21a",
   "metadata": {},
   "outputs": [
    {
     "data": {
      "text/plain": [
       "y    13\n",
       "dtype: int64"
      ]
     },
     "execution_count": 29,
     "metadata": {},
     "output_type": "execute_result"
    }
   ],
   "source": [
    "most_frequent_letter = letters.value_counts().head(1)\n",
    "\n",
    "most_frequent_letter"
   ]
  },
  {
   "cell_type": "markdown",
   "id": "0357b3f7-67fb-453c-a167-e8a85774a82d",
   "metadata": {},
   "source": [
    "2. Which letter occurs the Least frequently?"
   ]
  },
  {
   "cell_type": "code",
   "execution_count": 30,
   "id": "d41bd59c-56ee-488e-83a8-a1e905ec8bd3",
   "metadata": {},
   "outputs": [
    {
     "data": {
      "text/plain": [
       "l    4\n",
       "dtype: int64"
      ]
     },
     "execution_count": 30,
     "metadata": {},
     "output_type": "execute_result"
    }
   ],
   "source": [
    "least_frequent_letter = letters.value_counts().tail(1)\n",
    "\n",
    "least_frequent_letter"
   ]
  },
  {
   "cell_type": "markdown",
   "id": "dfca68e5-1ccf-43bc-a828-704e5142a01b",
   "metadata": {},
   "source": [
    "3. How many vowels are in the Series?"
   ]
  },
  {
   "cell_type": "code",
   "execution_count": 31,
   "id": "81b6ea3d-c089-4c1d-8422-34107e5f33f2",
   "metadata": {},
   "outputs": [
    {
     "data": {
      "text/plain": [
       "False    166\n",
       "True      34\n",
       "dtype: int64"
      ]
     },
     "execution_count": 31,
     "metadata": {},
     "output_type": "execute_result"
    }
   ],
   "source": [
    "# set variable vowels as a list of vowels in a string list.\n",
    "vowels = set(['a', 'e', 'i', 'o', 'u'])\n",
    "# used 'isin()' to tell whether each value is in a set of known values.\n",
    "letters.isin(vowels).value_counts()"
   ]
  },
  {
   "cell_type": "code",
   "execution_count": 32,
   "id": "dc570d9f-c17b-47f9-b65c-a76b400846e4",
   "metadata": {},
   "outputs": [
    {
     "data": {
      "text/plain": [
       "3      i\n",
       "6      u\n",
       "16     i\n",
       "21     e\n",
       "31     o\n",
       "41     a\n",
       "52     a\n",
       "62     a\n",
       "65     a\n",
       "78     e\n",
       "79     a\n",
       "80     u\n",
       "82     o\n",
       "92     e\n",
       "94     i\n",
       "110    e\n",
       "115    a\n",
       "123    a\n",
       "125    o\n",
       "132    u\n",
       "137    e\n",
       "139    o\n",
       "142    u\n",
       "157    o\n",
       "173    u\n",
       "178    i\n",
       "179    o\n",
       "181    o\n",
       "183    a\n",
       "189    i\n",
       "191    e\n",
       "193    u\n",
       "196    o\n",
       "198    u\n",
       "dtype: object"
      ]
     },
     "execution_count": 32,
     "metadata": {},
     "output_type": "execute_result"
    }
   ],
   "source": [
    "# Filtered to letters that are in teh list of vowels by subsetting with a conditional.\n",
    "letters[letters.isin(vowels)]"
   ]
  },
  {
   "cell_type": "markdown",
   "id": "7d7a5c4a-5aa4-4d03-9242-9fc7b73a3485",
   "metadata": {},
   "source": [
    "4. How many consonants are in the Series?"
   ]
  },
  {
   "cell_type": "code",
   "execution_count": 33,
   "id": "6c5d0729-23fa-4b53-a626-2d7c37c6273c",
   "metadata": {},
   "outputs": [
    {
     "data": {
      "text/plain": [
       "166"
      ]
     },
     "execution_count": 33,
     "metadata": {},
     "output_type": "execute_result"
    }
   ],
   "source": [
    "# used 'str.isalpha()' method to check each string is alphabetic\n",
    "# and used the 'tilde' '~' a (bit-wise NOT operator) with 'isin(vowels) to get any other letter other than vowels\n",
    "# finally used a sum() method to get a sum of all consonants.\n",
    "consonant_count = (letters.str.isalpha() & ~letters.isin(vowels)).sum()\n",
    "\n",
    "consonant_count"
   ]
  },
  {
   "cell_type": "markdown",
   "id": "dc833dc4-1cd9-4c2a-9711-ca6ff935286d",
   "metadata": {},
   "source": [
    "5. Create a Series that has all of the same letters but uppercased."
   ]
  },
  {
   "cell_type": "code",
   "execution_count": 34,
   "id": "5e48e3b5-dad0-486f-a3d0-934717e6ad78",
   "metadata": {},
   "outputs": [
    {
     "data": {
      "text/plain": [
       "0      H\n",
       "1      N\n",
       "2      V\n",
       "3      I\n",
       "4      D\n",
       "      ..\n",
       "195    R\n",
       "196    O\n",
       "197    G\n",
       "198    U\n",
       "199    Y\n",
       "Length: 200, dtype: object"
      ]
     },
     "execution_count": 34,
     "metadata": {},
     "output_type": "execute_result"
    }
   ],
   "source": [
    "# upper cased letters using  '.str.upper()' metho and prefixing pd.Series to create a new series\n",
    "letters_upper_cased = pd.Series(letters.str.upper())\n",
    "\n",
    "letters_upper_cased"
   ]
  },
  {
   "cell_type": "markdown",
   "id": "e5884157-bad1-4e42-8756-82648baa1e55",
   "metadata": {},
   "source": [
    "6. Create a bar plot of the frequencies of the 6 most commonly occuring letters."
   ]
  },
  {
   "cell_type": "code",
   "execution_count": 35,
   "id": "b1de8029-cbf7-42bd-9ca1-b577cafc8314",
   "metadata": {},
   "outputs": [
    {
     "data": {
      "text/plain": [
       "<Axes: title={'center': 'Most commonly occuring letters'}, xlabel='Frequency', ylabel='Letters'>"
      ]
     },
     "execution_count": 35,
     "metadata": {},
     "output_type": "execute_result"
    },
    {
     "data": {
      "image/png": "[encoded data removed]",
      "text/plain": [
       "<Figure size 640x480 with 1 Axes>"
      ]
     },
     "metadata": {},
     "output_type": "display_data"
    }
   ],
   "source": [
    "most_common_letters = letters.value_counts().head().plot.barh(title= 'Most commonly occuring letters', ylabel= 'Letters', xlabel= 'Frequency')\n",
    "\n",
    "most_common_letters"
   ]
  },
  {
   "cell_type": "markdown",
   "id": "ba931bde-edce-4ac8-9ec5-e40929a0cb37",
   "metadata": {},
   "source": [
    "### Section 2"
   ]
  },
  {
   "cell_type": "markdown",
   "id": "85f34200-4438-474b-9456-afe116ed2d79",
   "metadata": {},
   "source": [
    "## Use pandas to create a Series named numbers from the following list:"
   ]
  },
  {
   "cell_type": "code",
   "execution_count": 36,
   "id": "c5c035fc-1ca8-4a60-b6e5-9ff28dd55c9c",
   "metadata": {},
   "outputs": [
    {
     "data": {
      "text/plain": [
       "0       $796,459.41\n",
       "1           $278.60\n",
       "2       $482,571.67\n",
       "3     $4,503,915.98\n",
       "4      $2,121,418.3\n",
       "5      $1,260,813.3\n",
       "6        $87,231.01\n",
       "7     $1,509,175.45\n",
       "8     $4,138,548.00\n",
       "9     $2,848,913.80\n",
       "10      $594,715.39\n",
       "11    $4,789,988.17\n",
       "12     $4,513,644.5\n",
       "13    $3,191,059.97\n",
       "14    $1,758,712.24\n",
       "15    $4,338,283.54\n",
       "16    $4,738,303.38\n",
       "17    $2,791,759.67\n",
       "18      $769,681.94\n",
       "19      $452,650.23\n",
       "dtype: object"
      ]
     },
     "execution_count": 36,
     "metadata": {},
     "output_type": "execute_result"
    }
   ],
   "source": [
    "number_list = ['$796,459.41', '$278.60', '$482,571.67', '$4,503,915.98', '$2,121,418.3', '$1,260,813.3', '$87,231.01', '$1,509,175.45', '$4,138,548.00', '$2,848,913.80', '$594,715.39', '$4,789,988.17', '$4,513,644.5', '$3,191,059.97', '$1,758,712.24', '$4,338,283.54', '$4,738,303.38', '$2,791,759.67', '$769,681.94', '$452,650.23']\n",
    "numbers = pd.Series(number_list)\n",
    "numbers"
   ]
  },
  {
   "cell_type": "markdown",
   "id": "e31429bf-2d1e-43b4-92cf-aff7c815a8da",
   "metadata": {},
   "source": [
    "1. What is the data type of the numbers Series?"
   ]
  },
  {
   "cell_type": "code",
   "execution_count": 37,
   "id": "337daab1-29b2-4dc1-b0da-5dbfef1b84be",
   "metadata": {},
   "outputs": [
    {
     "data": {
      "text/plain": [
       "dtype('O')"
      ]
     },
     "execution_count": 37,
     "metadata": {},
     "output_type": "execute_result"
    }
   ],
   "source": [
    "numbers.dtypes"
   ]
  },
  {
   "cell_type": "markdown",
   "id": "d114e767-bed6-4469-a3b6-1cb59fa3e820",
   "metadata": {},
   "source": [
    "2. How many elements are in the number Series?"
   ]
  },
  {
   "cell_type": "code",
   "execution_count": 38,
   "id": "be6ab7af-3cd4-4a6e-a586-8cfcfc3ae372",
   "metadata": {},
   "outputs": [
    {
     "data": {
      "text/plain": [
       "20"
      ]
     },
     "execution_count": 38,
     "metadata": {},
     "output_type": "execute_result"
    }
   ],
   "source": [
    "numbers.size"
   ]
  },
  {
   "cell_type": "markdown",
   "id": "feba724f-c38c-42e6-af2b-6d6f7f5cf8c1",
   "metadata": {},
   "source": [
    "3. Perform the necessary manipulations by accessing Series attributes and methods to convert the numbers Series to a numeric data type."
   ]
  },
  {
   "cell_type": "code",
   "execution_count": 39,
   "id": "5bdbd2ed-fe7f-4849-9912-17f6c9b4ecf5",
   "metadata": {},
   "outputs": [
    {
     "data": {
      "text/plain": [
       "0      796459.41\n",
       "1         278.60\n",
       "2      482571.67\n",
       "3     4503915.98\n",
       "4     2121418.30\n",
       "5     1260813.30\n",
       "6       87231.01\n",
       "7     1509175.45\n",
       "8     4138548.00\n",
       "9     2848913.80\n",
       "10     594715.39\n",
       "11    4789988.17\n",
       "12    4513644.50\n",
       "13    3191059.97\n",
       "14    1758712.24\n",
       "15    4338283.54\n",
       "16    4738303.38\n",
       "17    2791759.67\n",
       "18     769681.94\n",
       "19     452650.23\n",
       "dtype: float64"
      ]
     },
     "execution_count": 39,
     "metadata": {},
     "output_type": "execute_result"
    }
   ],
   "source": [
    "numbers = numbers.str.replace('[\\$,]','', regex=True).astype(float)\n",
    "numbers"
   ]
  },
  {
   "cell_type": "markdown",
   "id": "7c8259f9-6dc9-4295-87e1-93941a51e165",
   "metadata": {},
   "source": [
    "4. Run the code to discover the maximum value from the Series."
   ]
  },
  {
   "cell_type": "code",
   "execution_count": 40,
   "id": "ed1faa39-ac14-4b86-b8b8-0757885a8f26",
   "metadata": {},
   "outputs": [
    {
     "data": {
      "text/plain": [
       "4789988.17"
      ]
     },
     "execution_count": 40,
     "metadata": {},
     "output_type": "execute_result"
    }
   ],
   "source": [
    "max = numbers.max()\n",
    "max"
   ]
  },
  {
   "cell_type": "markdown",
   "id": "aabc2a70-c36e-4094-b1b8-14c89926e61c",
   "metadata": {},
   "source": [
    "5. Run the code to discover the minimum value from the Series."
   ]
  },
  {
   "cell_type": "code",
   "execution_count": 41,
   "id": "2bd8d16a-8da5-45e3-bfe9-c1e80692789e",
   "metadata": {},
   "outputs": [
    {
     "data": {
      "text/plain": [
       "278.6"
      ]
     },
     "execution_count": 41,
     "metadata": {},
     "output_type": "execute_result"
    }
   ],
   "source": [
    "min =numbers.min()\n",
    "min"
   ]
  },
  {
   "cell_type": "markdown",
   "id": "056d6100-f4a7-479d-94e6-c27b97de6284",
   "metadata": {},
   "source": [
    "6. What is the range of the values in the Series?"
   ]
  },
  {
   "cell_type": "code",
   "execution_count": 42,
   "id": "5603dc59-fafa-4f89-b93e-5f1d6db33670",
   "metadata": {},
   "outputs": [
    {
     "data": {
      "text/plain": [
       "4789709.57"
      ]
     },
     "execution_count": 42,
     "metadata": {},
     "output_type": "execute_result"
    }
   ],
   "source": [
    "range_of_series = max - min\n",
    "range_of_series"
   ]
  },
  {
   "cell_type": "markdown",
   "id": "8befc6f0-fb3f-4318-ae6d-e8d90874dd84",
   "metadata": {},
   "source": [
    "7. Bin the data into 4 equally sized intervals or bins and output how many values fall into each bin."
   ]
  },
  {
   "cell_type": "code",
   "execution_count": 56,
   "id": "f15719dd-4918-4baf-9db5-958fd77df0c0",
   "metadata": {},
   "outputs": [
    {
     "ename": "TypeError",
     "evalue": "cut() got an unexpected keyword argument 'q'",
     "output_type": "error",
     "traceback": [
      "\u001b[0;31m---------------------------------------------------------------------------\u001b[0m",
      "\u001b[0;31mTypeError\u001b[0m                                 Traceback (most recent call last)",
      "Cell \u001b[0;32mIn[56], line 1\u001b[0m\n\u001b[0;32m----> 1\u001b[0m bins \u001b[38;5;241m=\u001b[39m \u001b[43mpd\u001b[49m\u001b[38;5;241;43m.\u001b[39;49m\u001b[43mcut\u001b[49m\u001b[43m(\u001b[49m\u001b[43mnumbers\u001b[49m\u001b[43m,\u001b[49m\u001b[43m \u001b[49m\u001b[43mq\u001b[49m\u001b[38;5;241;43m=\u001b[39;49m\u001b[38;5;241;43m4\u001b[39;49m\u001b[43m)\u001b[49m\n\u001b[1;32m      2\u001b[0m bin_counts \u001b[38;5;241m=\u001b[39m bins\u001b[38;5;241m.\u001b[39mvalue_counts()\n\u001b[1;32m      4\u001b[0m \u001b[38;5;28mprint\u001b[39m(bin_counts)\n",
      "\u001b[0;31mTypeError\u001b[0m: cut() got an unexpected keyword argument 'q'"
     ]
    }
   ],
   "source": [
    "bins = pd.cut(numbers, q=4)\n",
    "bin_counts = bins.value_counts()\n",
    "\n",
    "print(bin_counts)"
   ]
  },
  {
   "cell_type": "markdown",
   "id": "c49d9b39-0b7c-4976-9051-e2b47b578927",
   "metadata": {},
   "source": [
    "8. Plot the binned data in a meaningful way. Be sure to include a title and axis labels."
   ]
  },
  {
   "cell_type": "code",
   "execution_count": 44,
   "id": "1627929c-5cee-43b5-8e5f-56323e65f645",
   "metadata": {},
   "outputs": [
    {
     "data": {
      "text/plain": [
       "<Axes: title={'center': 'Binned Data'}, xlabel='Counts', ylabel='numbers'>"
      ]
     },
     "execution_count": 44,
     "metadata": {},
     "output_type": "execute_result"
    },
    {
     "data": {
      "image/png": "[encoded data removed]",
      "text/plain": [
       "<Figure size 640x480 with 1 Axes>"
      ]
     },
     "metadata": {},
     "output_type": "display_data"
    }
   ],
   "source": [
    "bin_counts.plot.barh(title= 'Binned Data', xlabel=\"Counts\", ylabel='numbers')"
   ]
  },
  {
   "cell_type": "markdown",
   "id": "c7b91549-45f0-4a76-9440-16365b921adf",
   "metadata": {},
   "source": [
    "### Section 3"
   ]
  },
  {
   "cell_type": "markdown",
   "id": "9d43efb1-3f5b-4736-a395-65574a03bdb4",
   "metadata": {},
   "source": [
    "## Use pandas to create a Series named exam_scores from the following list:"
   ]
  },
  {
   "cell_type": "code",
   "execution_count": 45,
   "id": "3d1d1c0e-d7cf-45cb-ab2a-d0ab89923172",
   "metadata": {},
   "outputs": [
    {
     "data": {
      "text/plain": [
       "0     60\n",
       "1     86\n",
       "2     75\n",
       "3     62\n",
       "4     93\n",
       "5     71\n",
       "6     60\n",
       "7     83\n",
       "8     95\n",
       "9     78\n",
       "10    65\n",
       "11    72\n",
       "12    69\n",
       "13    81\n",
       "14    96\n",
       "15    80\n",
       "16    85\n",
       "17    92\n",
       "18    82\n",
       "19    78\n",
       "dtype: int64"
      ]
     },
     "execution_count": 45,
     "metadata": {},
     "output_type": "execute_result"
    }
   ],
   "source": [
    "score_list = [60, 86, 75, 62, 93, 71, 60, 83, 95, 78, 65, 72, 69, 81, 96, 80, 85, 92, 82, 78]\n",
    "exam_scores = pd.Series(score_list)\n",
    "exam_scores"
   ]
  },
  {
   "cell_type": "markdown",
   "id": "fe1baecd-baeb-4ca3-a899-8891a29aa33d",
   "metadata": {},
   "source": [
    "1. How many elements are in the exam_scores Series?"
   ]
  },
  {
   "cell_type": "code",
   "execution_count": 46,
   "id": "d3779df4-a2cd-49e2-bc04-2c15dbf22256",
   "metadata": {},
   "outputs": [
    {
     "data": {
      "text/plain": [
       "20"
      ]
     },
     "execution_count": 46,
     "metadata": {},
     "output_type": "execute_result"
    }
   ],
   "source": [
    "exam_scores.size"
   ]
  },
  {
   "cell_type": "markdown",
   "id": "2419c6c2-f737-4bd9-8f65-53d0cb6186e5",
   "metadata": {},
   "source": [
    "2. Run the code to discover the minimum, the maximum, the mean, and the median scores for the exam_scores Series."
   ]
  },
  {
   "cell_type": "code",
   "execution_count": 47,
   "id": "0b75f3be-5722-453c-a558-b5f405241ef9",
   "metadata": {},
   "outputs": [
    {
     "data": {
      "text/plain": [
       "60"
      ]
     },
     "execution_count": 47,
     "metadata": {},
     "output_type": "execute_result"
    }
   ],
   "source": [
    "min_score = exam_scores.min()\n",
    "min_score"
   ]
  },
  {
   "cell_type": "code",
   "execution_count": 48,
   "id": "f828a210-59e3-47b6-90a2-abfe39bed21f",
   "metadata": {},
   "outputs": [
    {
     "data": {
      "text/plain": [
       "96"
      ]
     },
     "execution_count": 48,
     "metadata": {},
     "output_type": "execute_result"
    }
   ],
   "source": [
    "max_score = exam_scores.max()\n",
    "max_score"
   ]
  },
  {
   "cell_type": "code",
   "execution_count": 49,
   "id": "25258f27-ec0e-4837-9bd1-6d2e67424d66",
   "metadata": {},
   "outputs": [
    {
     "data": {
      "text/plain": [
       "78.15"
      ]
     },
     "execution_count": 49,
     "metadata": {},
     "output_type": "execute_result"
    }
   ],
   "source": [
    "mean_score = exam_scores.mean()\n",
    "mean_score"
   ]
  },
  {
   "cell_type": "code",
   "execution_count": 50,
   "id": "e91b9b0b-8fb2-44ef-89fd-55649532e680",
   "metadata": {},
   "outputs": [
    {
     "data": {
      "text/plain": [
       "79.0"
      ]
     },
     "execution_count": 50,
     "metadata": {},
     "output_type": "execute_result"
    }
   ],
   "source": [
    "median_score = exam_scores.median()\n",
    "median_score"
   ]
  },
  {
   "cell_type": "markdown",
   "id": "3432ada4-902f-41f6-8fc0-459fd67297ff",
   "metadata": {},
   "source": [
    "3. Plot the Series in a meaningful way and make sure your chart has a title and axis labels."
   ]
  },
  {
   "cell_type": "code",
   "execution_count": 51,
   "id": "dbe30343-e8fa-4ad4-98f7-3b91a16032cd",
   "metadata": {
    "scrolled": true
   },
   "outputs": [
    {
     "data": {
      "text/plain": [
       "<Axes: title={'center': 'Exam Scores'}, xlabel='Scores', ylabel='Test Taker ID'>"
      ]
     },
     "execution_count": 51,
     "metadata": {},
     "output_type": "execute_result"
    },
    {
     "data": {
      "image/png": "[encoded data removed]",
      "text/plain": [
       "<Figure size 640x480 with 1 Axes>"
      ]
     },
     "metadata": {},
     "output_type": "display_data"
    }
   ],
   "source": [
    "exam_scores.plot.barh(title='Exam Scores', xlabel='Scores', ylabel='Test Taker ID')"
   ]
  },
  {
   "cell_type": "markdown",
   "id": "9bb0cd65-d6bf-4c2e-bf36-18991cd0cd36",
   "metadata": {},
   "source": [
    "4. Write the code necessary to implement a curve for your exam_grades Series and save this as curved_grades. Add the necessary points to the highest grade to make it 100, and add the same number of points to every other score in the Series as well."
   ]
  },
  {
   "cell_type": "code",
   "execution_count": 52,
   "id": "77f70a4d-8ccb-46b9-8ecc-0b4f18ffdb75",
   "metadata": {},
   "outputs": [
    {
     "data": {
      "text/plain": [
       "0      64\n",
       "1      90\n",
       "2      79\n",
       "3      66\n",
       "4      97\n",
       "5      75\n",
       "6      64\n",
       "7      87\n",
       "8      99\n",
       "9      82\n",
       "10     69\n",
       "11     76\n",
       "12     73\n",
       "13     85\n",
       "14    100\n",
       "15     84\n",
       "16     89\n",
       "17     96\n",
       "18     86\n",
       "19     82\n",
       "dtype: int64"
      ]
     },
     "execution_count": 52,
     "metadata": {},
     "output_type": "execute_result"
    }
   ],
   "source": [
    "exam_grades = (100 - max_score) + exam_scores\n",
    "curved_grades = pd.Series(exam_grades)\n",
    "curved_grades"
   ]
  },
  {
   "cell_type": "markdown",
   "id": "5a66719b-8d2a-4cd8-843f-dbb3661e19c2",
   "metadata": {},
   "source": [
    "5. Use a method to convert each of the numeric values in the curved_grades Series into a categorical value of letter grades. For example, 86 should be a 'B' and 95 should be an 'A'. Save this as a Series named letter_grades."
   ]
  },
  {
   "cell_type": "code",
   "execution_count": 53,
   "id": "6d242411-5680-4d6f-8e89-06d5fe16635a",
   "metadata": {},
   "outputs": [],
   "source": [
    "# def letter_grade(exam_scores):\n",
    "\n",
    "#     if exam_scores >= 90 | exam_scores <= 100:\n",
    "\n",
    "#         return 'A'\n",
    "\n",
    "#     elif exam_scores >= 80:\n",
    "\n",
    "#         return 'B'\n",
    "\n",
    "#     elif exam_scores >= 70:\n",
    "\n",
    "#         return 'C'\n",
    "\n",
    "#     elif exam_scores >= 60:\n",
    "#         return 'D'\n",
    "    \n",
    "#     else:\n",
    "\n",
    "#         return 'F'\n",
    "\n",
    "# curved_grades = curved_grades.apply(letter_grade)\n",
    "# letter_grades = pd.Series(curved_grades)\n",
    "# letter_grades\n",
    "    "
   ]
  },
  {
   "cell_type": "code",
   "execution_count": 54,
   "id": "30a4bc64-c94c-40e1-818d-c9289908eca3",
   "metadata": {},
   "outputs": [],
   "source": [
    "bins = [0, 59, 69, 79, 89, 100]\n",
    "labels = ['F', 'D', 'C', 'B', 'A']\n",
    "\n",
    "letter_grades = pd.cut(x=curved_grades, bins=bins, labels=labels)"
   ]
  },
  {
   "cell_type": "markdown",
   "id": "af46875d-0103-4f2e-9612-09523bd901dc",
   "metadata": {},
   "source": [
    "6. Plot your new categorical letter_grades Series in a meaninful way and include a title and axis labels."
   ]
  },
  {
   "cell_type": "code",
   "execution_count": 55,
   "id": "8f72d3ee-ffbd-4746-b25e-116f1a3fe946",
   "metadata": {},
   "outputs": [
    {
     "data": {
      "text/plain": [
       "<Axes: title={'center': 'Exam Grades'}, xlabel='Number of Grades', ylabel='Letter Grades'>"
      ]
     },
     "execution_count": 55,
     "metadata": {},
     "output_type": "execute_result"
    },
    {
     "data": {
      "image/png": "[encoded data removed]",
      "text/plain": [
       "<Figure size 640x480 with 1 Axes>"
      ]
     },
     "metadata": {},
     "output_type": "display_data"
    }
   ],
   "source": [
    "letter_grades.value_counts().plot.barh(title= 'Exam Grades', xlabel='Number of Grades', ylabel='Letter Grades', color = 'green')"
   ]
  }
 ],
 "metadata": {
  "kernelspec": {
   "display_name": "Python 3 (ipykernel)",
   "language": "python",
   "name": "python3"
  },
  "language_info": {
   "codemirror_mode": {
    "name": "ipython",
    "version": 3
   },
   "file_extension": ".py",
   "mimetype": "text/x-python",
   "name": "python",
   "nbconvert_exporter": "python",
   "pygments_lexer": "ipython3",
   "version": "3.10.9"
  }
 },
 "nbformat": 4,
 "nbformat_minor": 5
}
