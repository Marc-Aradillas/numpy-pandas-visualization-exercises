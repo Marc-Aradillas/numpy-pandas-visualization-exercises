{
 "cells": [
  {
   "cell_type": "markdown",
   "id": "ec6c65de-ef97-4b36-90d5-9cab6cdee583",
   "metadata": {},
   "source": [
    "# Exercises Part I"
   ]
  },
  {
   "cell_type": "markdown",
   "id": "2d54f15d-1ca1-404a-a0c7-280aff995f28",
   "metadata": {},
   "source": [
    "## Make a file named pandas_series.py or pandas_series.ipynb for the following exercises."
   ]
  },
  {
   "cell_type": "markdown",
   "id": "aaaee422-8ebf-423b-9e19-d8e24403468c",
   "metadata": {},
   "source": [
    "## Use pandas to create a Series named fruits from the following list:"
   ]
  },
  {
   "cell_type": "code",
   "execution_count": 1,
   "id": "60efd76f-e01c-4619-a6be-0c1b12ebe3bf",
   "metadata": {},
   "outputs": [
    {
     "data": {
      "text/plain": [
       "['kiwi',\n",
       " 'mango',\n",
       " 'strawberry',\n",
       " 'pineapple',\n",
       " 'gala apple',\n",
       " 'honeycrisp apple',\n",
       " 'tomato',\n",
       " 'watermelon',\n",
       " 'honeydew',\n",
       " 'kiwi',\n",
       " 'kiwi',\n",
       " 'kiwi',\n",
       " 'mango',\n",
       " 'blueberry',\n",
       " 'blackberry',\n",
       " 'gooseberry',\n",
       " 'papaya']"
      ]
     },
     "execution_count": 1,
     "metadata": {},
     "output_type": "execute_result"
    }
   ],
   "source": [
    "\n",
    "[\"kiwi\", \"mango\", \"strawberry\", \"pineapple\", \"gala apple\", \"honeycrisp apple\", \"tomato\", \"watermelon\", \"honeydew\", \"kiwi\", \"kiwi\", \"kiwi\", \"mango\", \"blueberry\", \"blackberry\", \"gooseberry\", \"papaya\"]\n"
   ]
  },
  {
   "cell_type": "code",
   "execution_count": null,
   "id": "6dd9188d-4adf-4d87-8342-44d5fc4845df",
   "metadata": {},
   "outputs": [],
   "source": [
    "Fruits = [\"kiwi\", \"mango\", \"strawberry\", \"pineapple\", \"gala apple\", \"honeycrisp apple\", \"tomato\", \"wate`rmelon\", \n",
    " \"honeydew\", \"kiwi\", \"kiwi\", \"kiwi\", \"mango\", \"blueberry\", \"blackberry\", \"gooseberry\", \"papaya\"]\n",
    "\n",
    "pd.Series\n"
   ]
  },
  {
   "cell_type": "code",
   "execution_count": null,
   "id": "c70fe4cd-0c3c-4396-8b94-b394017d2ef5",
   "metadata": {},
   "outputs": [],
   "source": [
    "Use Series attributes and methods to explore your fruits Series."
   ]
  },
  {
   "cell_type": "code",
   "execution_count": null,
   "id": "1c799127-2e04-45da-aa1d-5feb2dbfd0c8",
   "metadata": {},
   "outputs": [],
   "source": []
  },
  {
   "cell_type": "code",
   "execution_count": null,
   "id": "2108e149-4432-4182-8223-f4e3cabca0ce",
   "metadata": {},
   "outputs": [],
   "source": [
    "Determine the number of elements in fruits."
   ]
  },
  {
   "cell_type": "code",
   "execution_count": null,
   "id": "ed455047-eafc-4132-b3d6-db5a83192aef",
   "metadata": {},
   "outputs": [],
   "source": []
  },
  {
   "cell_type": "code",
   "execution_count": null,
   "id": "0dfcadcf-8023-4f77-a661-b3e790bd6498",
   "metadata": {},
   "outputs": [],
   "source": [
    "Output only the index from fruits."
   ]
  },
  {
   "cell_type": "code",
   "execution_count": null,
   "id": "3f35ce54-cdd5-4f75-b998-a4472adbc3f3",
   "metadata": {},
   "outputs": [],
   "source": []
  },
  {
   "cell_type": "code",
   "execution_count": null,
   "id": "9a2f01e8-1adc-4976-a09f-39bdc9519d3e",
   "metadata": {},
   "outputs": [],
   "source": [
    "Output only the values from fruits."
   ]
  },
  {
   "cell_type": "code",
   "execution_count": null,
   "id": "d6cf8786-8e49-471b-826f-d92d4c1aa84b",
   "metadata": {},
   "outputs": [],
   "source": []
  },
  {
   "cell_type": "code",
   "execution_count": null,
   "id": "0b57970a-a85c-4627-aa30-984dbc6ccecb",
   "metadata": {},
   "outputs": [],
   "source": [
    "Confirm the data type of the values in fruits."
   ]
  },
  {
   "cell_type": "code",
   "execution_count": null,
   "id": "59a4fd4f-dc21-4270-bcc4-db692466d368",
   "metadata": {},
   "outputs": [],
   "source": []
  },
  {
   "cell_type": "code",
   "execution_count": null,
   "id": "4e1cf979-5b32-4858-81a0-d4b4cc146258",
   "metadata": {},
   "outputs": [],
   "source": [
    "Output only the first five values from fruits. Output the last three values. Output two random values from fruits."
   ]
  },
  {
   "cell_type": "code",
   "execution_count": null,
   "id": "00803eb4-8456-4b8e-b7be-54a2c498850b",
   "metadata": {},
   "outputs": [],
   "source": []
  },
  {
   "cell_type": "code",
   "execution_count": null,
   "id": "5f6779b7-64fe-400e-945a-39ec3429cf12",
   "metadata": {},
   "outputs": [],
   "source": [
    "Run the .describe() on fruits to see what information it returns when called on a Series with string values."
   ]
  },
  {
   "cell_type": "code",
   "execution_count": null,
   "id": "5d78838d-5062-4bfe-b3f9-acaddedcc3ef",
   "metadata": {},
   "outputs": [],
   "source": []
  },
  {
   "cell_type": "code",
   "execution_count": null,
   "id": "c9d91e58-4b84-4dbe-a561-7cd6eff2c24e",
   "metadata": {},
   "outputs": [],
   "source": [
    "Run the code necessary to produce only the unique string values from fruits."
   ]
  },
  {
   "cell_type": "code",
   "execution_count": null,
   "id": "a9323f82-b54c-4344-8684-f21ceaf9acc7",
   "metadata": {},
   "outputs": [],
   "source": []
  },
  {
   "cell_type": "code",
   "execution_count": null,
   "id": "c00a5ce0-456e-4b62-bbfb-6c1b4b7ab1e1",
   "metadata": {},
   "outputs": [],
   "source": [
    "Determine how many times each unique string value occurs in fruits."
   ]
  },
  {
   "cell_type": "code",
   "execution_count": null,
   "id": "9d08a823-4cf2-4c11-9fdf-7f8f7751cc47",
   "metadata": {},
   "outputs": [],
   "source": []
  },
  {
   "cell_type": "code",
   "execution_count": null,
   "id": "f4607ce3-2939-4ae7-aa27-a793ee94243e",
   "metadata": {},
   "outputs": [],
   "source": [
    "Determine the string value that occurs most frequently in fruits."
   ]
  },
  {
   "cell_type": "code",
   "execution_count": null,
   "id": "82b4aa03-56a2-4bf1-9695-eea833ca9617",
   "metadata": {},
   "outputs": [],
   "source": []
  },
  {
   "cell_type": "code",
   "execution_count": null,
   "id": "69550371-d638-41e5-a65c-c77e12842a8c",
   "metadata": {},
   "outputs": [],
   "source": [
    "Determine the string value that occurs least frequently in fruits."
   ]
  },
  {
   "cell_type": "code",
   "execution_count": null,
   "id": "e0161fa3-000e-4962-a8f2-a5899b9de441",
   "metadata": {},
   "outputs": [],
   "source": []
  }
 ],
 "metadata": {
  "kernelspec": {
   "display_name": "Python 3 (ipykernel)",
   "language": "python",
   "name": "python3"
  },
  "language_info": {
   "codemirror_mode": {
    "name": "ipython",
    "version": 3
   },
   "file_extension": ".py",
   "mimetype": "text/x-python",
   "name": "python",
   "nbconvert_exporter": "python",
   "pygments_lexer": "ipython3",
   "version": "3.10.9"
  }
 },
 "nbformat": 4,
 "nbformat_minor": 5
}
