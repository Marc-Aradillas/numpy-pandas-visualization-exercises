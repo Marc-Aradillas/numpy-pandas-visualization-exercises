{
 "cells": [
  {
   "cell_type": "code",
   "execution_count": 1,
   "id": "f977ec10",
   "metadata": {},
   "outputs": [
    {
     "data": {
      "application/javascript": [
       "IPython.notebook.set_autosave_interval(0)"
      ]
     },
     "metadata": {},
     "output_type": "display_data"
    },
    {
     "name": "stdout",
     "output_type": "stream",
     "text": [
      "Autosave disabled\n"
     ]
    }
   ],
   "source": [
    "%autosave 0"
   ]
  },
  {
   "cell_type": "code",
   "execution_count": 2,
   "id": "bba8c6de",
   "metadata": {},
   "outputs": [],
   "source": [
    "import pandas as pd\n",
    "from pydataset import data"
   ]
  },
  {
   "cell_type": "markdown",
   "id": "02e2a99e",
   "metadata": {},
   "source": [
    "Boolean masking -  \n",
    "We can use an array of boolean values to return a subset of our series.  \n",
    "We only get back values where the boolean array is True.  \n",
    "We can evaluate multiple statements at once."
   ]
  },
  {
   "cell_type": "code",
   "execution_count": 3,
   "id": "7692b8d6",
   "metadata": {},
   "outputs": [],
   "source": [
    "my_series = pd.Series(range(1, 21, 1))"
   ]
  },
  {
   "cell_type": "code",
   "execution_count": 4,
   "id": "65c86ad4-1448-454a-9758-05fd2ec8f6db",
   "metadata": {},
   "outputs": [
    {
     "data": {
      "text/plain": [
       "10    11\n",
       "11    12\n",
       "12    13\n",
       "13    14\n",
       "14    15\n",
       "15    16\n",
       "16    17\n",
       "17    18\n",
       "18    19\n",
       "19    20\n",
       "dtype: int64"
      ]
     },
     "execution_count": 4,
     "metadata": {},
     "output_type": "execute_result"
    }
   ],
   "source": [
    "my_series[my_series > 10] # creating a boolean mask"
   ]
  },
  {
   "cell_type": "code",
   "execution_count": 5,
   "id": "e5fd6490-a2ff-4071-be66-97ef382be099",
   "metadata": {},
   "outputs": [
    {
     "data": {
      "text/plain": [
       "0      1\n",
       "2      3\n",
       "4      5\n",
       "6      7\n",
       "8      9\n",
       "10    11\n",
       "12    13\n",
       "14    15\n",
       "16    17\n",
       "18    19\n",
       "dtype: int64"
      ]
     },
     "execution_count": 5,
     "metadata": {},
     "output_type": "execute_result"
    }
   ],
   "source": [
    "my_series[my_series % 2 == 1] # returns odd numbers from my_series"
   ]
  },
  {
   "cell_type": "code",
   "execution_count": 6,
   "id": "5378232c-371a-4aee-b41b-d1dcc69a2234",
   "metadata": {},
   "outputs": [
    {
     "data": {
      "text/plain": [
       "0      1\n",
       "2      3\n",
       "4      5\n",
       "6      7\n",
       "8      9\n",
       "10    11\n",
       "11    12\n",
       "12    13\n",
       "13    14\n",
       "14    15\n",
       "15    16\n",
       "16    17\n",
       "17    18\n",
       "18    19\n",
       "19    20\n",
       "dtype: int64"
      ]
     },
     "execution_count": 6,
     "metadata": {},
     "output_type": "execute_result"
    }
   ],
   "source": [
    "my_series[(my_series > 10) | (my_series % 2 == 1)] # combine the use of a boolean mask and operations\n",
    "# bit-wise 'or' (|)"
   ]
  },
  {
   "cell_type": "code",
   "execution_count": 7,
   "id": "0835cb02-798b-4639-b2ef-579deae07833",
   "metadata": {},
   "outputs": [
    {
     "data": {
      "text/plain": [
       "10    11\n",
       "12    13\n",
       "14    15\n",
       "16    17\n",
       "18    19\n",
       "dtype: int64"
      ]
     },
     "execution_count": 7,
     "metadata": {},
     "output_type": "execute_result"
    }
   ],
   "source": [
    "my_series[(my_series > 10) & (my_series % 2 == 1)]\n",
    "# bit-wise 'and' (&) ampersand"
   ]
  },
  {
   "cell_type": "markdown",
   "id": "b20ccb89-c4ca-4c84-b130-79c103251de4",
   "metadata": {},
   "source": [
    "The curriculum has a method for determining which values belong in the fourth quartile.\n",
    "\n",
    "We could also do it with pd.qcut.\n",
    "\n",
    "We will pass two arguments: the pandas series, and the number of bins we want (4 for quartiles)."
   ]
  },
  {
   "cell_type": "markdown",
   "id": "49d424e5-b091-40de-8e53-921f16b6470d",
   "metadata": {},
   "source": [
    "- pd.qcut() is a function provided by the pandas library in Python, and it stands for \"Quantile Cut.\" It is used to divide a continuous variable into equal-sized bins based on quantiles. The function allows you to specify the number of quantiles (bins) you want to create, and it will automatically calculate the boundaries for each bin based on the data."
   ]
  },
  {
   "cell_type": "code",
   "execution_count": 8,
   "id": "7b5415ed",
   "metadata": {},
   "outputs": [
    {
     "data": {
      "text/plain": [
       "0     q1\n",
       "1     q1\n",
       "2     q1\n",
       "3     q1\n",
       "4     q1\n",
       "5     q2\n",
       "6     q2\n",
       "7     q2\n",
       "8     q2\n",
       "9     q2\n",
       "10    q3\n",
       "11    q3\n",
       "12    q3\n",
       "13    q3\n",
       "14    q3\n",
       "15    q4\n",
       "16    q4\n",
       "17    q4\n",
       "18    q4\n",
       "19    q4\n",
       "dtype: category\n",
       "Categories (4, object): ['q1' < 'q2' < 'q3' < 'q4']"
      ]
     },
     "execution_count": 8,
     "metadata": {},
     "output_type": "execute_result"
    }
   ],
   "source": [
    "pd.qcut(my_series, 4, labels=['q1', 'q2', 'q3', 'q4'])\n",
    "#"
   ]
  },
  {
   "cell_type": "markdown",
   "id": "9e80f980",
   "metadata": {},
   "source": [
    "String vectorization.\n",
    "\n",
    "We can perform string operations across all values in a series using the .str attribute."
   ]
  },
  {
   "cell_type": "code",
   "execution_count": 9,
   "id": "2ef41d38",
   "metadata": {},
   "outputs": [
    {
     "data": {
      "text/html": [
       "<div>\n",
       "<style scoped>\n",
       "    .dataframe tbody tr th:only-of-type {\n",
       "        vertical-align: middle;\n",
       "    }\n",
       "\n",
       "    .dataframe tbody tr th {\n",
       "        vertical-align: top;\n",
       "    }\n",
       "\n",
       "    .dataframe thead th {\n",
       "        text-align: right;\n",
       "    }\n",
       "</style>\n",
       "<table border=\"1\" class=\"dataframe\">\n",
       "  <thead>\n",
       "    <tr style=\"text-align: right;\">\n",
       "      <th></th>\n",
       "      <th>manufacturer</th>\n",
       "      <th>model</th>\n",
       "      <th>displ</th>\n",
       "      <th>year</th>\n",
       "      <th>cyl</th>\n",
       "      <th>trans</th>\n",
       "      <th>drv</th>\n",
       "      <th>cty</th>\n",
       "      <th>hwy</th>\n",
       "      <th>fl</th>\n",
       "      <th>class</th>\n",
       "    </tr>\n",
       "  </thead>\n",
       "  <tbody>\n",
       "    <tr>\n",
       "      <th>1</th>\n",
       "      <td>audi</td>\n",
       "      <td>a4</td>\n",
       "      <td>1.8</td>\n",
       "      <td>1999</td>\n",
       "      <td>4</td>\n",
       "      <td>auto(l5)</td>\n",
       "      <td>f</td>\n",
       "      <td>18</td>\n",
       "      <td>29</td>\n",
       "      <td>p</td>\n",
       "      <td>compact</td>\n",
       "    </tr>\n",
       "    <tr>\n",
       "      <th>2</th>\n",
       "      <td>audi</td>\n",
       "      <td>a4</td>\n",
       "      <td>1.8</td>\n",
       "      <td>1999</td>\n",
       "      <td>4</td>\n",
       "      <td>manual(m5)</td>\n",
       "      <td>f</td>\n",
       "      <td>21</td>\n",
       "      <td>29</td>\n",
       "      <td>p</td>\n",
       "      <td>compact</td>\n",
       "    </tr>\n",
       "    <tr>\n",
       "      <th>3</th>\n",
       "      <td>audi</td>\n",
       "      <td>a4</td>\n",
       "      <td>2.0</td>\n",
       "      <td>2008</td>\n",
       "      <td>4</td>\n",
       "      <td>manual(m6)</td>\n",
       "      <td>f</td>\n",
       "      <td>20</td>\n",
       "      <td>31</td>\n",
       "      <td>p</td>\n",
       "      <td>compact</td>\n",
       "    </tr>\n",
       "    <tr>\n",
       "      <th>4</th>\n",
       "      <td>audi</td>\n",
       "      <td>a4</td>\n",
       "      <td>2.0</td>\n",
       "      <td>2008</td>\n",
       "      <td>4</td>\n",
       "      <td>auto(av)</td>\n",
       "      <td>f</td>\n",
       "      <td>21</td>\n",
       "      <td>30</td>\n",
       "      <td>p</td>\n",
       "      <td>compact</td>\n",
       "    </tr>\n",
       "    <tr>\n",
       "      <th>5</th>\n",
       "      <td>audi</td>\n",
       "      <td>a4</td>\n",
       "      <td>2.8</td>\n",
       "      <td>1999</td>\n",
       "      <td>6</td>\n",
       "      <td>auto(l5)</td>\n",
       "      <td>f</td>\n",
       "      <td>16</td>\n",
       "      <td>26</td>\n",
       "      <td>p</td>\n",
       "      <td>compact</td>\n",
       "    </tr>\n",
       "  </tbody>\n",
       "</table>\n",
       "</div>"
      ],
      "text/plain": [
       "  manufacturer model  displ  year  cyl       trans drv  cty  hwy fl    class\n",
       "1         audi    a4    1.8  1999    4    auto(l5)   f   18   29  p  compact\n",
       "2         audi    a4    1.8  1999    4  manual(m5)   f   21   29  p  compact\n",
       "3         audi    a4    2.0  2008    4  manual(m6)   f   20   31  p  compact\n",
       "4         audi    a4    2.0  2008    4    auto(av)   f   21   30  p  compact\n",
       "5         audi    a4    2.8  1999    6    auto(l5)   f   16   26  p  compact"
      ]
     },
     "execution_count": 9,
     "metadata": {},
     "output_type": "execute_result"
    }
   ],
   "source": [
    "mpg = data('mpg')\n",
    "mpg.head()"
   ]
  },
  {
   "cell_type": "code",
   "execution_count": 10,
   "id": "33100a40-6143-4d37-9fb4-c50fa2ec0296",
   "metadata": {},
   "outputs": [],
   "source": [
    "mpg_t = mpg.trans"
   ]
  },
  {
   "cell_type": "code",
   "execution_count": 11,
   "id": "39138554-5a45-43d2-bd19-ffe629b5d7ba",
   "metadata": {},
   "outputs": [
    {
     "data": {
      "text/plain": [
       "1        AUTO(L5)\n",
       "2      MANUAL(M5)\n",
       "3      MANUAL(M6)\n",
       "4        AUTO(AV)\n",
       "5        AUTO(L5)\n",
       "          ...    \n",
       "230      AUTO(S6)\n",
       "231    MANUAL(M6)\n",
       "232      AUTO(L5)\n",
       "233    MANUAL(M5)\n",
       "234      AUTO(S6)\n",
       "Name: trans, Length: 234, dtype: object"
      ]
     },
     "execution_count": 11,
     "metadata": {},
     "output_type": "execute_result"
    }
   ],
   "source": [
    "mpg_t.str.upper()"
   ]
  },
  {
   "cell_type": "code",
   "execution_count": 12,
   "id": "fa9e75af-f5ef-4147-b44b-d60eaad17968",
   "metadata": {},
   "outputs": [
    {
     "name": "stderr",
     "output_type": "stream",
     "text": [
      "/var/folders/hz/r10rvhgs41x5bxdmg79hksdw0000gn/T/ipykernel_31417/2306772208.py:1: FutureWarning: The default value of regex will change from True to False in a future version. In addition, single character regular expressions will *not* be treated as literal strings when regex=True.\n",
      "  mpg_t.str.replace('(', '_').str.replace(')', '_') # multiple ops in the same line\n"
     ]
    },
    {
     "data": {
      "text/plain": [
       "1        auto_l5_\n",
       "2      manual_m5_\n",
       "3      manual_m6_\n",
       "4        auto_av_\n",
       "5        auto_l5_\n",
       "          ...    \n",
       "230      auto_s6_\n",
       "231    manual_m6_\n",
       "232      auto_l5_\n",
       "233    manual_m5_\n",
       "234      auto_s6_\n",
       "Name: trans, Length: 234, dtype: object"
      ]
     },
     "execution_count": 12,
     "metadata": {},
     "output_type": "execute_result"
    }
   ],
   "source": [
    "mpg_t.str.replace('(', '_').str.replace(')', '_') # multiple ops in the same line"
   ]
  },
  {
   "cell_type": "code",
   "execution_count": 13,
   "id": "18d9b613-2313-49f2-9c6a-b4e3922c80d8",
   "metadata": {},
   "outputs": [
    {
     "data": {
      "text/plain": [
       "1      auto(l5)\n",
       "2    manual(m5)\n",
       "3    manual(m6)\n",
       "4      auto(av)\n",
       "5      auto(l5)\n",
       "Name: trans, dtype: object"
      ]
     },
     "execution_count": 13,
     "metadata": {},
     "output_type": "execute_result"
    }
   ],
   "source": [
    "# if we want to save changes inside of an object you must assign it again\n",
    "\n",
    "mpg_t.head()"
   ]
  },
  {
   "cell_type": "markdown",
   "id": "eb03f045",
   "metadata": {},
   "source": [
    "There are other methods available for use! Some common ones include..\n",
    "- .any() and .all()\n",
    "- .isin()\n",
    "- .apply()"
   ]
  },
  {
   "cell_type": "code",
   "execution_count": 14,
   "id": "0b112a64",
   "metadata": {},
   "outputs": [
    {
     "data": {
      "text/plain": [
       "True"
      ]
     },
     "execution_count": 14,
     "metadata": {},
     "output_type": "execute_result"
    }
   ],
   "source": [
    "(mpg_t == 'auto(l5)').any()"
   ]
  },
  {
   "cell_type": "code",
   "execution_count": 15,
   "id": "890d3402-ceee-44f4-8bf7-42521c0cc165",
   "metadata": {},
   "outputs": [
    {
     "data": {
      "text/plain": [
       "False"
      ]
     },
     "execution_count": 15,
     "metadata": {},
     "output_type": "execute_result"
    }
   ],
   "source": [
    "(mpg_t == 'auto(l5)').all()"
   ]
  },
  {
   "cell_type": "code",
   "execution_count": 16,
   "id": "259a5d8b-eb61-43ec-963c-0b0b1e6f06b9",
   "metadata": {},
   "outputs": [
    {
     "data": {
      "text/plain": [
       "1       True\n",
       "2      False\n",
       "3      False\n",
       "4      False\n",
       "5       True\n",
       "       ...  \n",
       "230    False\n",
       "231    False\n",
       "232     True\n",
       "233    False\n",
       "234    False\n",
       "Name: trans, Length: 234, dtype: bool"
      ]
     },
     "execution_count": 16,
     "metadata": {},
     "output_type": "execute_result"
    }
   ],
   "source": [
    "mpg_t.isin(['auto(l5)']) # this has to be list like"
   ]
  },
  {
   "cell_type": "code",
   "execution_count": 17,
   "id": "39a94db8-0081-46f4-b529-1d64f96a0197",
   "metadata": {},
   "outputs": [
    {
     "data": {
      "text/plain": [
       "0    1\n",
       "1    2\n",
       "2    3\n",
       "3    4\n",
       "4    5\n",
       "dtype: int64"
      ]
     },
     "execution_count": 17,
     "metadata": {},
     "output_type": "execute_result"
    }
   ],
   "source": [
    "my_series.head()"
   ]
  },
  {
   "cell_type": "code",
   "execution_count": 18,
   "id": "52103703-786a-4c08-98a1-d7de1a398c9c",
   "metadata": {},
   "outputs": [],
   "source": [
    "def mathinator(n): \n",
    "\n",
    "    return n * 2 + 4 / 3"
   ]
  },
  {
   "cell_type": "code",
   "execution_count": 19,
   "id": "bcd4f0ff-6f3e-4e8a-9b8c-ff3a3d18ab73",
   "metadata": {},
   "outputs": [
    {
     "data": {
      "text/plain": [
       "0      3.333333\n",
       "1      5.333333\n",
       "2      7.333333\n",
       "3      9.333333\n",
       "4     11.333333\n",
       "5     13.333333\n",
       "6     15.333333\n",
       "7     17.333333\n",
       "8     19.333333\n",
       "9     21.333333\n",
       "10    23.333333\n",
       "11    25.333333\n",
       "12    27.333333\n",
       "13    29.333333\n",
       "14    31.333333\n",
       "15    33.333333\n",
       "16    35.333333\n",
       "17    37.333333\n",
       "18    39.333333\n",
       "19    41.333333\n",
       "dtype: float64"
      ]
     },
     "execution_count": 19,
     "metadata": {},
     "output_type": "execute_result"
    }
   ],
   "source": [
    "my_series.apply(mathinator) # simply pass in the name of your function (PANDAS can recognize this)\n",
    "\n",
    "#.apply passes a defined function"
   ]
  },
  {
   "cell_type": "markdown",
   "id": "7484ad10",
   "metadata": {},
   "source": [
    "We can bin values using pd.cut.\n",
    "\n",
    "We can specify the number of bins to create, to make n bins of equal size.\n",
    "\n",
    "We can also create the cutoffs for the bins ourselves."
   ]
  },
  {
   "cell_type": "code",
   "execution_count": 20,
   "id": "0578b6ad",
   "metadata": {},
   "outputs": [
    {
     "data": {
      "text/plain": [
       "0             NaN\n",
       "1             NaN\n",
       "2             NaN\n",
       "3             NaN\n",
       "4      (4.0, 9.0]\n",
       "5      (4.0, 9.0]\n",
       "6      (4.0, 9.0]\n",
       "7      (4.0, 9.0]\n",
       "8      (4.0, 9.0]\n",
       "9     (9.0, 18.0]\n",
       "10    (9.0, 18.0]\n",
       "11    (9.0, 18.0]\n",
       "12    (9.0, 18.0]\n",
       "13    (9.0, 18.0]\n",
       "14    (9.0, 18.0]\n",
       "15    (9.0, 18.0]\n",
       "16    (9.0, 18.0]\n",
       "17    (9.0, 18.0]\n",
       "18            NaN\n",
       "19            NaN\n",
       "dtype: category\n",
       "Categories (2, interval[int64, right]): [(4, 9] < (9, 18]]"
      ]
     },
     "execution_count": 20,
     "metadata": {},
     "output_type": "execute_result"
    }
   ],
   "source": [
    "pd.cut(my_series, [4, 9, 18]) # i can specify boundaries for my series, vs. qcut)"
   ]
  },
  {
   "cell_type": "markdown",
   "id": "e0e9a298",
   "metadata": {},
   "source": [
    "We can plot values from a series using the .plot() method.\n",
    "\n",
    "We can further alter the plot by calling .plot.hist(), for example.\n",
    "\n",
    "We can modify our plot by passing in arguments to the plotting method."
   ]
  },
  {
   "cell_type": "code",
   "execution_count": 21,
   "id": "9512301b",
   "metadata": {},
   "outputs": [
    {
     "data": {
      "text/plain": [
       "<Axes: >"
      ]
     },
     "execution_count": 21,
     "metadata": {},
     "output_type": "execute_result"
    },
    {
     "data": {
      "image/png": "[encoded data removed]",
      "text/plain": [
       "<Figure size 640x480 with 1 Axes>"
      ]
     },
     "metadata": {},
     "output_type": "display_data"
    }
   ],
   "source": [
    "my_series.plot()"
   ]
  }
 ],
 "metadata": {
  "kernelspec": {
   "display_name": "Python 3 (ipykernel)",
   "language": "python",
   "name": "python3"
  },
  "language_info": {
   "codemirror_mode": {
    "name": "ipython",
    "version": 3
   },
   "file_extension": ".py",
   "mimetype": "text/x-python",
   "name": "python",
   "nbconvert_exporter": "python",
   "pygments_lexer": "ipython3",
   "version": "3.10.9"
  }
 },
 "nbformat": 4,
 "nbformat_minor": 5
}
