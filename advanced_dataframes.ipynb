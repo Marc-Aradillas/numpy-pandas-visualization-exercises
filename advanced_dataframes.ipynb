{
 "cells": [
  {
   "cell_type": "code",
   "execution_count": 1,
   "id": "feaa2e3a-4080-41aa-b981-c77494fbcc8c",
   "metadata": {},
   "outputs": [
    {
     "data": {
      "application/javascript": [
       "IPython.notebook.set_autosave_interval(0)"
      ]
     },
     "metadata": {},
     "output_type": "display_data"
    },
    {
     "name": "stdout",
     "output_type": "stream",
     "text": [
      "Autosave disabled\n"
     ]
    }
   ],
   "source": [
    "%autosave 0"
   ]
  },
  {
   "cell_type": "code",
   "execution_count": 2,
   "id": "f3db911a-612f-432e-bd92-a296a13e4350",
   "metadata": {},
   "outputs": [],
   "source": [
    "import numpy as np\n",
    "import pandas as pd\n",
    "from sqlalchemy import text, create_engine\n",
    "\n",
    "from env import get_connection"
   ]
  },
  {
   "cell_type": "markdown",
   "id": "5d8dcb8b-26d7-4432-9103-70a2e607d12e",
   "metadata": {},
   "source": [
    "# Exercises I"
   ]
  },
  {
   "cell_type": "markdown",
   "id": "76416760-d8de-4714-8b39-064436edafb2",
   "metadata": {},
   "source": [
    "## Run python -m pip install pymysql from your terminal to install pymysql. ✔️"
   ]
  },
  {
   "cell_type": "markdown",
   "id": "10642b46-8db9-4f21-8c4f-8272a0d71c6d",
   "metadata": {},
   "source": [
    "### Create a notebook or python script named advanced_dataframes to do your work in for these exercises."
   ]
  },
  {
   "cell_type": "markdown",
   "id": "cf96696d-4790-473a-b794-3ba426637cc9",
   "metadata": {},
   "source": [
    "#### - 1. Run python -m pip install pymysql from your terminal to install the mysql client (any folder is fine)"
   ]
  },
  {
   "cell_type": "markdown",
   "id": "c7b57f35-ca33-43a0-a5f8-bb9fa6ec0bf5",
   "metadata": {},
   "source": [
    "✔️"
   ]
  },
  {
   "cell_type": "markdown",
   "id": "466014d8-dee1-4c0a-ab0a-9fa0c2126d59",
   "metadata": {},
   "source": [
    "#### - 2. cd into your exercises folder for this module and run echo env.py >> .gitignore"
   ]
  },
  {
   "cell_type": "markdown",
   "id": "a7a87bb6-26f9-4fc2-a01a-692887f9c4b2",
   "metadata": {},
   "source": [
    "✔️"
   ]
  },
  {
   "cell_type": "markdown",
   "id": "66ddee89-87cb-409b-9376-05ab92cec5f0",
   "metadata": {},
   "source": [
    "#### - 3. Create a function named get_db_url. It should accept a username, hostname, password, and database name and return a url connection string formatted like in the example at the start of this lesson."
   ]
  },
  {
   "cell_type": "markdown",
   "id": "34f88576-7338-4179-8c78-93e9737e2651",
   "metadata": {},
   "source": [
    "- the code below would go into a pythn script file to assign the credential data in order to connect to a database to retrieve data you need.\n",
    "- this would be hidden in a .gitignore folder in order to not display those credentials to the world."
   ]
  },
  {
   "cell_type": "code",
   "execution_count": 3,
   "id": "bc62c3aa-78a4-4c82-ac81-c23145c7a9ea",
   "metadata": {},
   "outputs": [
    {
     "data": {
      "text/plain": [
       "\"\\ndef get_db_url(db, user=username , host=hostname, password=password):\\n    return f'mysql+pymysql://{user}:{password}@{host}/employees'\\n\""
      ]
     },
     "execution_count": 3,
     "metadata": {},
     "output_type": "execute_result"
    }
   ],
   "source": [
    "\"\"\"\n",
    "def get_db_url(db, user=username , host=hostname, password=password):\n",
    "    return f'mysql+pymysql://{user}:{password}@{host}/employees'\n",
    "\"\"\""
   ]
  },
  {
   "cell_type": "markdown",
   "id": "3d356de3-3e17-45c8-8349-d1906391bc35",
   "metadata": {},
   "source": [
    "#### - 4. Use your function to obtain a connection to the employees database."
   ]
  },
  {
   "cell_type": "markdown",
   "id": "79842a75-799e-442a-84ad-d412cb95e14e",
   "metadata": {},
   "source": [
    "- a function was not used, as it was set-up in the lesson"
   ]
  },
  {
   "cell_type": "code",
   "execution_count": 4,
   "id": "26f7b6c1-ecf6-4652-bc5e-1eb5f9f2c815",
   "metadata": {},
   "outputs": [],
   "source": [
    "# Get the database connection URL for the 'employees' database\n",
    "url = get_connection('employees')\n",
    "\n",
    "# Create a database engine using SQLAlchemy\n",
    "engine = create_engine(url)\n",
    "\n",
    "# Define a SQL query to select all columns from the 'employees' table\n",
    "query = '''\n",
    "        SELECT *\n",
    "        FROM employees\n",
    "        '''\n",
    "\n",
    "# Create a SQLAlchemy text object for the SQL query\n",
    "text_query = text(query)"
   ]
  },
  {
   "cell_type": "code",
   "execution_count": 5,
   "id": "048baa35-18f6-4a5c-98d5-945340d0b3e5",
   "metadata": {},
   "outputs": [
    {
     "data": {
      "text/html": [
       "<div>\n",
       "<style scoped>\n",
       "    .dataframe tbody tr th:only-of-type {\n",
       "        vertical-align: middle;\n",
       "    }\n",
       "\n",
       "    .dataframe tbody tr th {\n",
       "        vertical-align: top;\n",
       "    }\n",
       "\n",
       "    .dataframe thead th {\n",
       "        text-align: right;\n",
       "    }\n",
       "</style>\n",
       "<table border=\"1\" class=\"dataframe\">\n",
       "  <thead>\n",
       "    <tr style=\"text-align: right;\">\n",
       "      <th></th>\n",
       "      <th>emp_no</th>\n",
       "      <th>birth_date</th>\n",
       "      <th>first_name</th>\n",
       "      <th>last_name</th>\n",
       "      <th>gender</th>\n",
       "      <th>hire_date</th>\n",
       "    </tr>\n",
       "  </thead>\n",
       "  <tbody>\n",
       "    <tr>\n",
       "      <th>0</th>\n",
       "      <td>10001</td>\n",
       "      <td>1953-09-02</td>\n",
       "      <td>Georgi</td>\n",
       "      <td>Facello</td>\n",
       "      <td>M</td>\n",
       "      <td>1986-06-26</td>\n",
       "    </tr>\n",
       "    <tr>\n",
       "      <th>1</th>\n",
       "      <td>10002</td>\n",
       "      <td>1964-06-02</td>\n",
       "      <td>Bezalel</td>\n",
       "      <td>Simmel</td>\n",
       "      <td>F</td>\n",
       "      <td>1985-11-21</td>\n",
       "    </tr>\n",
       "    <tr>\n",
       "      <th>2</th>\n",
       "      <td>10003</td>\n",
       "      <td>1959-12-03</td>\n",
       "      <td>Parto</td>\n",
       "      <td>Bamford</td>\n",
       "      <td>M</td>\n",
       "      <td>1986-08-28</td>\n",
       "    </tr>\n",
       "    <tr>\n",
       "      <th>3</th>\n",
       "      <td>10004</td>\n",
       "      <td>1954-05-01</td>\n",
       "      <td>Chirstian</td>\n",
       "      <td>Koblick</td>\n",
       "      <td>M</td>\n",
       "      <td>1986-12-01</td>\n",
       "    </tr>\n",
       "    <tr>\n",
       "      <th>4</th>\n",
       "      <td>10005</td>\n",
       "      <td>1955-01-21</td>\n",
       "      <td>Kyoichi</td>\n",
       "      <td>Maliniak</td>\n",
       "      <td>M</td>\n",
       "      <td>1989-09-12</td>\n",
       "    </tr>\n",
       "  </tbody>\n",
       "</table>\n",
       "</div>"
      ],
      "text/plain": [
       "   emp_no  birth_date first_name last_name gender   hire_date\n",
       "0   10001  1953-09-02     Georgi   Facello      M  1986-06-26\n",
       "1   10002  1964-06-02    Bezalel    Simmel      F  1985-11-21\n",
       "2   10003  1959-12-03      Parto   Bamford      M  1986-08-28\n",
       "3   10004  1954-05-01  Chirstian   Koblick      M  1986-12-01\n",
       "4   10005  1955-01-21    Kyoichi  Maliniak      M  1989-09-12"
      ]
     },
     "execution_count": 5,
     "metadata": {},
     "output_type": "execute_result"
    }
   ],
   "source": [
    "# Use pandas read_sql() to execute the query on the database using the engine,\n",
    "# and store the result in a DataFrame called 'df'\n",
    "df = pd.read_sql(text_query, engine.connect())\n",
    "\n",
    "# Display the first few rows of the DataFrame\n",
    "df.head()\n"
   ]
  },
  {
   "cell_type": "markdown",
   "id": "f53aca09-d9ba-4ccd-b1f0-692eedd9fb57",
   "metadata": {},
   "source": [
    "### - 5. Once you have successfully run a query:"
   ]
  },
  {
   "cell_type": "markdown",
   "id": "fe4aa6a1-ca24-4104-950e-7910ebeb4936",
   "metadata": {},
   "source": [
    "####    -    a. Intentionally make a typo in the database url. What kind of error message do you see?"
   ]
  },
  {
   "cell_type": "markdown",
   "id": "aafa85d6-f9e1-425a-92c8-f025e9e1088a",
   "metadata": {},
   "source": [
    "### OperationalError: (pymysql.err.OperationalError) (2003, \"Can't connect to MySQL server on 'data.codeupd.com' ([Errno 8] nodename nor servname provided, or not known)\")\n",
    "### (Background on this error at: https://sqlalche.me/e/14/e3q8)"
   ]
  },
  {
   "cell_type": "markdown",
   "id": "e3462315-5a22-44df-acea-882a1f4155fe",
   "metadata": {},
   "source": [
    "                        - The error message reads cannot connect to the MySQL server due to a background error at the URL"
   ]
  },
  {
   "cell_type": "markdown",
   "id": "98aac4f9-3d13-4671-9998-76146a95a6cd",
   "metadata": {},
   "source": [
    "####    -    b. Intentionally make an error in your SQL query. What does the error message look like?"
   ]
  },
  {
   "cell_type": "markdown",
   "id": "e271843e-b82f-45bb-82bd-2aaab66c0fbd",
   "metadata": {},
   "source": [
    "### ProgrammingError: (pymysql.err.ProgrammingError) (1146, \"Table 'employees.employeasdes' doesn't exist\")\n",
    "### [SQL: \n",
    "###         SELECT *\n",
    "###         FROM employeasdes\n",
    "###         ]\n",
    "### (Background on this error at: https://sqlalche.me/e/14/f405)"
   ]
  },
  {
   "cell_type": "markdown",
   "id": "4e41e742-a09c-49c4-8897-8f0c16532777",
   "metadata": {},
   "source": [
    "                         - The error message reads table does not exist at this url"
   ]
  },
  {
   "cell_type": "markdown",
   "id": "0e821909-bcce-4256-aedc-376b0554b1eb",
   "metadata": {},
   "source": [
    "#### - 6. Read the employees and titles tables into two separate DataFrames."
   ]
  },
  {
   "cell_type": "code",
   "execution_count": 19,
   "id": "29b23ceb-41f6-4496-a474-8f39657ada9e",
   "metadata": {},
   "outputs": [],
   "source": [
    "employee_query = '''\n",
    "SELECT *\n",
    "FROM employees\n",
    "'''\n",
    "\n",
    "title_query = '''\n",
    "SELECT *\n",
    "FROM titles\n",
    "'''\n",
    "\n",
    "employee_query = pd.read_sql(text(employee_query), engine.connect())\n",
    "title_query = pd.read_sql(text(title_query), engine.connect())"
   ]
  },
  {
   "cell_type": "code",
   "execution_count": 21,
   "id": "7275c159-e841-42c4-9008-16158efe61ee",
   "metadata": {},
   "outputs": [
    {
     "data": {
      "text/html": [
       "<div>\n",
       "<style scoped>\n",
       "    .dataframe tbody tr th:only-of-type {\n",
       "        vertical-align: middle;\n",
       "    }\n",
       "\n",
       "    .dataframe tbody tr th {\n",
       "        vertical-align: top;\n",
       "    }\n",
       "\n",
       "    .dataframe thead th {\n",
       "        text-align: right;\n",
       "    }\n",
       "</style>\n",
       "<table border=\"1\" class=\"dataframe\">\n",
       "  <thead>\n",
       "    <tr style=\"text-align: right;\">\n",
       "      <th></th>\n",
       "      <th>emp_no</th>\n",
       "      <th>birth_date</th>\n",
       "      <th>first_name</th>\n",
       "      <th>last_name</th>\n",
       "      <th>gender</th>\n",
       "      <th>hire_date</th>\n",
       "    </tr>\n",
       "  </thead>\n",
       "  <tbody>\n",
       "    <tr>\n",
       "      <th>0</th>\n",
       "      <td>10001</td>\n",
       "      <td>1953-09-02</td>\n",
       "      <td>Georgi</td>\n",
       "      <td>Facello</td>\n",
       "      <td>M</td>\n",
       "      <td>1986-06-26</td>\n",
       "    </tr>\n",
       "    <tr>\n",
       "      <th>1</th>\n",
       "      <td>10002</td>\n",
       "      <td>1964-06-02</td>\n",
       "      <td>Bezalel</td>\n",
       "      <td>Simmel</td>\n",
       "      <td>F</td>\n",
       "      <td>1985-11-21</td>\n",
       "    </tr>\n",
       "    <tr>\n",
       "      <th>2</th>\n",
       "      <td>10003</td>\n",
       "      <td>1959-12-03</td>\n",
       "      <td>Parto</td>\n",
       "      <td>Bamford</td>\n",
       "      <td>M</td>\n",
       "      <td>1986-08-28</td>\n",
       "    </tr>\n",
       "    <tr>\n",
       "      <th>3</th>\n",
       "      <td>10004</td>\n",
       "      <td>1954-05-01</td>\n",
       "      <td>Chirstian</td>\n",
       "      <td>Koblick</td>\n",
       "      <td>M</td>\n",
       "      <td>1986-12-01</td>\n",
       "    </tr>\n",
       "    <tr>\n",
       "      <th>4</th>\n",
       "      <td>10005</td>\n",
       "      <td>1955-01-21</td>\n",
       "      <td>Kyoichi</td>\n",
       "      <td>Maliniak</td>\n",
       "      <td>M</td>\n",
       "      <td>1989-09-12</td>\n",
       "    </tr>\n",
       "  </tbody>\n",
       "</table>\n",
       "</div>"
      ],
      "text/plain": [
       "   emp_no  birth_date first_name last_name gender   hire_date\n",
       "0   10001  1953-09-02     Georgi   Facello      M  1986-06-26\n",
       "1   10002  1964-06-02    Bezalel    Simmel      F  1985-11-21\n",
       "2   10003  1959-12-03      Parto   Bamford      M  1986-08-28\n",
       "3   10004  1954-05-01  Chirstian   Koblick      M  1986-12-01\n",
       "4   10005  1955-01-21    Kyoichi  Maliniak      M  1989-09-12"
      ]
     },
     "execution_count": 21,
     "metadata": {},
     "output_type": "execute_result"
    }
   ],
   "source": [
    "employee_query.head()"
   ]
  },
  {
   "cell_type": "code",
   "execution_count": 20,
   "id": "7363f353-985e-4636-85df-6dcebde140fd",
   "metadata": {},
   "outputs": [
    {
     "data": {
      "text/html": [
       "<div>\n",
       "<style scoped>\n",
       "    .dataframe tbody tr th:only-of-type {\n",
       "        vertical-align: middle;\n",
       "    }\n",
       "\n",
       "    .dataframe tbody tr th {\n",
       "        vertical-align: top;\n",
       "    }\n",
       "\n",
       "    .dataframe thead th {\n",
       "        text-align: right;\n",
       "    }\n",
       "</style>\n",
       "<table border=\"1\" class=\"dataframe\">\n",
       "  <thead>\n",
       "    <tr style=\"text-align: right;\">\n",
       "      <th></th>\n",
       "      <th>emp_no</th>\n",
       "      <th>title</th>\n",
       "      <th>from_date</th>\n",
       "      <th>to_date</th>\n",
       "    </tr>\n",
       "  </thead>\n",
       "  <tbody>\n",
       "    <tr>\n",
       "      <th>0</th>\n",
       "      <td>10001</td>\n",
       "      <td>Senior Engineer</td>\n",
       "      <td>1986-06-26</td>\n",
       "      <td>9999-01-01</td>\n",
       "    </tr>\n",
       "    <tr>\n",
       "      <th>1</th>\n",
       "      <td>10002</td>\n",
       "      <td>Staff</td>\n",
       "      <td>1996-08-03</td>\n",
       "      <td>9999-01-01</td>\n",
       "    </tr>\n",
       "    <tr>\n",
       "      <th>2</th>\n",
       "      <td>10003</td>\n",
       "      <td>Senior Engineer</td>\n",
       "      <td>1995-12-03</td>\n",
       "      <td>9999-01-01</td>\n",
       "    </tr>\n",
       "    <tr>\n",
       "      <th>3</th>\n",
       "      <td>10004</td>\n",
       "      <td>Engineer</td>\n",
       "      <td>1986-12-01</td>\n",
       "      <td>1995-12-01</td>\n",
       "    </tr>\n",
       "    <tr>\n",
       "      <th>4</th>\n",
       "      <td>10004</td>\n",
       "      <td>Senior Engineer</td>\n",
       "      <td>1995-12-01</td>\n",
       "      <td>9999-01-01</td>\n",
       "    </tr>\n",
       "  </tbody>\n",
       "</table>\n",
       "</div>"
      ],
      "text/plain": [
       "   emp_no            title   from_date     to_date\n",
       "0   10001  Senior Engineer  1986-06-26  9999-01-01\n",
       "1   10002            Staff  1996-08-03  9999-01-01\n",
       "2   10003  Senior Engineer  1995-12-03  9999-01-01\n",
       "3   10004         Engineer  1986-12-01  1995-12-01\n",
       "4   10004  Senior Engineer  1995-12-01  9999-01-01"
      ]
     },
     "execution_count": 20,
     "metadata": {},
     "output_type": "execute_result"
    }
   ],
   "source": [
    "title_query.head()"
   ]
  },
  {
   "cell_type": "markdown",
   "id": "439c5a2d-cbb9-4519-845b-222a2d178241",
   "metadata": {},
   "source": [
    "#### - 7. How many rows and columns do you have in each DataFrame? Is that what you expected?"
   ]
  },
  {
   "cell_type": "code",
   "execution_count": null,
   "id": "faa2fe4b-b926-4ca9-9426-30f8bcda6e9a",
   "metadata": {},
   "outputs": [],
   "source": []
  },
  {
   "cell_type": "markdown",
   "id": "088960d5-718e-427a-80f1-84ca7ac9825a",
   "metadata": {},
   "source": [
    "#### - 8. Display the summary statistics for each DataFrame."
   ]
  },
  {
   "cell_type": "code",
   "execution_count": null,
   "id": "ca20ffd6-9894-4fc3-a20b-fc7aedaed92c",
   "metadata": {},
   "outputs": [],
   "source": []
  },
  {
   "cell_type": "markdown",
   "id": "0697afa7-3c91-4092-b192-444579d51b4e",
   "metadata": {},
   "source": [
    "#### - 9. How many unique titles are in the titles DataFrame?"
   ]
  },
  {
   "cell_type": "code",
   "execution_count": null,
   "id": "3fd3153b-4b11-4f19-b87e-3e025b4b9ae5",
   "metadata": {},
   "outputs": [],
   "source": []
  },
  {
   "cell_type": "markdown",
   "id": "82b49b5a-37d6-4b81-bcaf-eed261b25bb4",
   "metadata": {},
   "source": [
    "#### - 10. What is the oldest date in the to_date column?"
   ]
  },
  {
   "cell_type": "code",
   "execution_count": null,
   "id": "cec5329f-29d0-4bdd-95a8-29417308ce2e",
   "metadata": {},
   "outputs": [],
   "source": []
  },
  {
   "cell_type": "markdown",
   "id": "d6d46553-5d23-4eb4-8b95-656c10c9a7a7",
   "metadata": {},
   "source": [
    "#### -11. What is the most recent date in the to_date column?"
   ]
  },
  {
   "cell_type": "code",
   "execution_count": null,
   "id": "8c60f35c-ecb1-443d-bf56-f2dd58e12ac4",
   "metadata": {},
   "outputs": [],
   "source": []
  }
 ],
 "metadata": {
  "kernelspec": {
   "display_name": "Python 3 (ipykernel)",
   "language": "python",
   "name": "python3"
  },
  "language_info": {
   "codemirror_mode": {
    "name": "ipython",
    "version": 3
   },
   "file_extension": ".py",
   "mimetype": "text/x-python",
   "name": "python",
   "nbconvert_exporter": "python",
   "pygments_lexer": "ipython3",
   "version": "3.10.9"
  }
 },
 "nbformat": 4,
 "nbformat_minor": 5
}
