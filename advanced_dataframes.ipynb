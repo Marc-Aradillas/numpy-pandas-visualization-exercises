{
 "cells": [
  {
   "cell_type": "code",
   "execution_count": 1,
   "id": "feaa2e3a-4080-41aa-b981-c77494fbcc8c",
   "metadata": {},
   "outputs": [
    {
     "data": {
      "application/javascript": [
       "IPython.notebook.set_autosave_interval(0)"
      ]
     },
     "metadata": {},
     "output_type": "display_data"
    },
    {
     "name": "stdout",
     "output_type": "stream",
     "text": [
      "Autosave disabled\n"
     ]
    }
   ],
   "source": [
    "%autosave 0"
   ]
  },
  {
   "cell_type": "code",
   "execution_count": 2,
   "id": "f3db911a-612f-432e-bd92-a296a13e4350",
   "metadata": {},
   "outputs": [],
   "source": [
    "import numpy as np\n",
    "import pandas as pd\n",
    "from sqlalchemy import text, create_engine\n",
    "\n",
    "from env import get_connection"
   ]
  },
  {
   "cell_type": "markdown",
   "id": "5d8dcb8b-26d7-4432-9103-70a2e607d12e",
   "metadata": {},
   "source": [
    "# Exercises I"
   ]
  },
  {
   "cell_type": "markdown",
   "id": "76416760-d8de-4714-8b39-064436edafb2",
   "metadata": {},
   "source": [
    "## Run python -m pip install pymysql from your terminal to install pymysql. ✔️"
   ]
  },
  {
   "cell_type": "markdown",
   "id": "10642b46-8db9-4f21-8c4f-8272a0d71c6d",
   "metadata": {},
   "source": [
    "### Create a notebook or python script named advanced_dataframes to do your work in for these exercises."
   ]
  },
  {
   "cell_type": "markdown",
   "id": "cf96696d-4790-473a-b794-3ba426637cc9",
   "metadata": {},
   "source": [
    "#### - 1. Run python -m pip install pymysql from your terminal to install the mysql client (any folder is fine)"
   ]
  },
  {
   "cell_type": "markdown",
   "id": "c7b57f35-ca33-43a0-a5f8-bb9fa6ec0bf5",
   "metadata": {},
   "source": [
    "✔️"
   ]
  },
  {
   "cell_type": "markdown",
   "id": "466014d8-dee1-4c0a-ab0a-9fa0c2126d59",
   "metadata": {},
   "source": [
    "#### - 2. cd into your exercises folder for this module and run echo env.py >> .gitignore"
   ]
  },
  {
   "cell_type": "markdown",
   "id": "a7a87bb6-26f9-4fc2-a01a-692887f9c4b2",
   "metadata": {},
   "source": [
    "✔️"
   ]
  },
  {
   "cell_type": "markdown",
   "id": "66ddee89-87cb-409b-9376-05ab92cec5f0",
   "metadata": {},
   "source": [
    "#### - 3. Create a function named get_db_url. It should accept a username, hostname, password, and database name and return a url connection string formatted like in the example at the start of this lesson."
   ]
  },
  {
   "cell_type": "markdown",
   "id": "34f88576-7338-4179-8c78-93e9737e2651",
   "metadata": {},
   "source": [
    "- the code below would go into a pythn script file to assign the credential data in order to connect to a database to retrieve data you need.\n",
    "- this would be hidden in a .gitignore folder in order to not display those credentials to the world."
   ]
  },
  {
   "cell_type": "code",
   "execution_count": 3,
   "id": "bc62c3aa-78a4-4c82-ac81-c23145c7a9ea",
   "metadata": {},
   "outputs": [
    {
     "data": {
      "text/plain": [
       "\"\\ndef get_db_url(db, user=username , host=hostname, password=password):\\n    return f'mysql+pymysql://{user}:{password}@{host}/employees'\\n\""
      ]
     },
     "execution_count": 3,
     "metadata": {},
     "output_type": "execute_result"
    }
   ],
   "source": [
    "\"\"\"\n",
    "def get_db_url(db, user=username , host=hostname, password=password):\n",
    "    return f'mysql+pymysql://{user}:{password}@{host}/employees'\n",
    "\"\"\""
   ]
  },
  {
   "cell_type": "markdown",
   "id": "3d356de3-3e17-45c8-8349-d1906391bc35",
   "metadata": {},
   "source": [
    "#### - 4. Use your function to obtain a connection to the employees database."
   ]
  },
  {
   "cell_type": "markdown",
   "id": "79842a75-799e-442a-84ad-d412cb95e14e",
   "metadata": {},
   "source": [
    "- a function was not used, as it was set-up in the lesson"
   ]
  },
  {
   "cell_type": "code",
   "execution_count": 4,
   "id": "26f7b6c1-ecf6-4652-bc5e-1eb5f9f2c815",
   "metadata": {},
   "outputs": [],
   "source": [
    "# Get the database connection URL for the 'employees' database\n",
    "url = get_connection('employees')\n",
    "\n",
    "# Create a database engine using SQLAlchemy\n",
    "engine = create_engine(url)\n",
    "\n",
    "# Define a SQL query to select all columns from the 'employees' table\n",
    "query = '''\n",
    "        SELECT *\n",
    "        FROM employees\n",
    "        '''\n",
    "#can also do query = tex('123abc')\n",
    "\n",
    "\n",
    "# Create a SQLAlchemy text object for the SQL query\n",
    "text_query = text(query)"
   ]
  },
  {
   "cell_type": "code",
   "execution_count": 5,
   "id": "048baa35-18f6-4a5c-98d5-945340d0b3e5",
   "metadata": {},
   "outputs": [
    {
     "data": {
      "text/html": [
       "<div>\n",
       "<style scoped>\n",
       "    .dataframe tbody tr th:only-of-type {\n",
       "        vertical-align: middle;\n",
       "    }\n",
       "\n",
       "    .dataframe tbody tr th {\n",
       "        vertical-align: top;\n",
       "    }\n",
       "\n",
       "    .dataframe thead th {\n",
       "        text-align: right;\n",
       "    }\n",
       "</style>\n",
       "<table border=\"1\" class=\"dataframe\">\n",
       "  <thead>\n",
       "    <tr style=\"text-align: right;\">\n",
       "      <th></th>\n",
       "      <th>emp_no</th>\n",
       "      <th>birth_date</th>\n",
       "      <th>first_name</th>\n",
       "      <th>last_name</th>\n",
       "      <th>gender</th>\n",
       "      <th>hire_date</th>\n",
       "    </tr>\n",
       "  </thead>\n",
       "  <tbody>\n",
       "    <tr>\n",
       "      <th>0</th>\n",
       "      <td>10001</td>\n",
       "      <td>1953-09-02</td>\n",
       "      <td>Georgi</td>\n",
       "      <td>Facello</td>\n",
       "      <td>M</td>\n",
       "      <td>1986-06-26</td>\n",
       "    </tr>\n",
       "    <tr>\n",
       "      <th>1</th>\n",
       "      <td>10002</td>\n",
       "      <td>1964-06-02</td>\n",
       "      <td>Bezalel</td>\n",
       "      <td>Simmel</td>\n",
       "      <td>F</td>\n",
       "      <td>1985-11-21</td>\n",
       "    </tr>\n",
       "    <tr>\n",
       "      <th>2</th>\n",
       "      <td>10003</td>\n",
       "      <td>1959-12-03</td>\n",
       "      <td>Parto</td>\n",
       "      <td>Bamford</td>\n",
       "      <td>M</td>\n",
       "      <td>1986-08-28</td>\n",
       "    </tr>\n",
       "    <tr>\n",
       "      <th>3</th>\n",
       "      <td>10004</td>\n",
       "      <td>1954-05-01</td>\n",
       "      <td>Chirstian</td>\n",
       "      <td>Koblick</td>\n",
       "      <td>M</td>\n",
       "      <td>1986-12-01</td>\n",
       "    </tr>\n",
       "    <tr>\n",
       "      <th>4</th>\n",
       "      <td>10005</td>\n",
       "      <td>1955-01-21</td>\n",
       "      <td>Kyoichi</td>\n",
       "      <td>Maliniak</td>\n",
       "      <td>M</td>\n",
       "      <td>1989-09-12</td>\n",
       "    </tr>\n",
       "  </tbody>\n",
       "</table>\n",
       "</div>"
      ],
      "text/plain": [
       "   emp_no  birth_date first_name last_name gender   hire_date\n",
       "0   10001  1953-09-02     Georgi   Facello      M  1986-06-26\n",
       "1   10002  1964-06-02    Bezalel    Simmel      F  1985-11-21\n",
       "2   10003  1959-12-03      Parto   Bamford      M  1986-08-28\n",
       "3   10004  1954-05-01  Chirstian   Koblick      M  1986-12-01\n",
       "4   10005  1955-01-21    Kyoichi  Maliniak      M  1989-09-12"
      ]
     },
     "execution_count": 5,
     "metadata": {},
     "output_type": "execute_result"
    }
   ],
   "source": [
    "# Use pandas read_sql() to execute the query on the database using the engine,\n",
    "# and store the result in a DataFrame called 'df'\n",
    "df = pd.read_sql(text_query, engine.connect())\n",
    "\n",
    "# Display the first few rows of the DataFrame\n",
    "df.head()"
   ]
  },
  {
   "cell_type": "markdown",
   "id": "f53aca09-d9ba-4ccd-b1f0-692eedd9fb57",
   "metadata": {},
   "source": [
    "### - 5. Once you have successfully run a query:"
   ]
  },
  {
   "cell_type": "markdown",
   "id": "fe4aa6a1-ca24-4104-950e-7910ebeb4936",
   "metadata": {},
   "source": [
    "####    -    a. Intentionally make a typo in the database url. What kind of error message do you see?"
   ]
  },
  {
   "cell_type": "markdown",
   "id": "aafa85d6-f9e1-425a-92c8-f025e9e1088a",
   "metadata": {},
   "source": [
    "### OperationalError: (pymysql.err.OperationalError) (2003, \"Can't connect to MySQL server on 'data.codeupd.com' ([Errno 8] nodename nor servname provided, or not known)\")\n",
    "### (Background on this error at: https://sqlalche.me/e/14/e3q8)"
   ]
  },
  {
   "cell_type": "markdown",
   "id": "e3462315-5a22-44df-acea-882a1f4155fe",
   "metadata": {},
   "source": [
    "                        - The error message reads cannot connect to the MySQL server due to a background error at the URL\n",
    "                        1040 unknown database"
   ]
  },
  {
   "cell_type": "markdown",
   "id": "98aac4f9-3d13-4671-9998-76146a95a6cd",
   "metadata": {},
   "source": [
    "####    -    b. Intentionally make an error in your SQL query. What does the error message look like?"
   ]
  },
  {
   "cell_type": "markdown",
   "id": "e271843e-b82f-45bb-82bd-2aaab66c0fbd",
   "metadata": {},
   "source": [
    "### ProgrammingError: (pymysql.err.ProgrammingError) (1146, \"Table 'employees.employeasdes' doesn't exist\")\n",
    "### [SQL: \n",
    "###         SELECT *\n",
    "###         FROM employeasdes\n",
    "###         ]\n",
    "### (Background on this error at: https://sqlalche.me/e/14/f405)"
   ]
  },
  {
   "cell_type": "markdown",
   "id": "4e41e742-a09c-49c4-8897-8f0c16532777",
   "metadata": {},
   "source": [
    "                         - The error message reads table does not exist at this url\n",
    "                         - 1064 you have an error MySQL syntax"
   ]
  },
  {
   "cell_type": "markdown",
   "id": "0e821909-bcce-4256-aedc-376b0554b1eb",
   "metadata": {},
   "source": [
    "#### - 6. Read the employees and titles tables into two separate DataFrames."
   ]
  },
  {
   "cell_type": "code",
   "execution_count": 6,
   "id": "29b23ceb-41f6-4496-a474-8f39657ada9e",
   "metadata": {},
   "outputs": [],
   "source": [
    "employee_query = '''\n",
    "SELECT *\n",
    "FROM employees\n",
    "'''\n",
    "\n",
    "title_query = '''\n",
    "SELECT *\n",
    "FROM titles\n",
    "'''\n",
    "\n",
    "employee_query = pd.read_sql(text(employee_query), engine.connect())\n",
    "title_query = pd.read_sql(text(title_query), engine.connect())"
   ]
  },
  {
   "cell_type": "code",
   "execution_count": 7,
   "id": "7275c159-e841-42c4-9008-16158efe61ee",
   "metadata": {},
   "outputs": [
    {
     "data": {
      "text/html": [
       "<div>\n",
       "<style scoped>\n",
       "    .dataframe tbody tr th:only-of-type {\n",
       "        vertical-align: middle;\n",
       "    }\n",
       "\n",
       "    .dataframe tbody tr th {\n",
       "        vertical-align: top;\n",
       "    }\n",
       "\n",
       "    .dataframe thead th {\n",
       "        text-align: right;\n",
       "    }\n",
       "</style>\n",
       "<table border=\"1\" class=\"dataframe\">\n",
       "  <thead>\n",
       "    <tr style=\"text-align: right;\">\n",
       "      <th></th>\n",
       "      <th>emp_no</th>\n",
       "      <th>birth_date</th>\n",
       "      <th>first_name</th>\n",
       "      <th>last_name</th>\n",
       "      <th>gender</th>\n",
       "      <th>hire_date</th>\n",
       "    </tr>\n",
       "  </thead>\n",
       "  <tbody>\n",
       "    <tr>\n",
       "      <th>0</th>\n",
       "      <td>10001</td>\n",
       "      <td>1953-09-02</td>\n",
       "      <td>Georgi</td>\n",
       "      <td>Facello</td>\n",
       "      <td>M</td>\n",
       "      <td>1986-06-26</td>\n",
       "    </tr>\n",
       "    <tr>\n",
       "      <th>1</th>\n",
       "      <td>10002</td>\n",
       "      <td>1964-06-02</td>\n",
       "      <td>Bezalel</td>\n",
       "      <td>Simmel</td>\n",
       "      <td>F</td>\n",
       "      <td>1985-11-21</td>\n",
       "    </tr>\n",
       "    <tr>\n",
       "      <th>2</th>\n",
       "      <td>10003</td>\n",
       "      <td>1959-12-03</td>\n",
       "      <td>Parto</td>\n",
       "      <td>Bamford</td>\n",
       "      <td>M</td>\n",
       "      <td>1986-08-28</td>\n",
       "    </tr>\n",
       "    <tr>\n",
       "      <th>3</th>\n",
       "      <td>10004</td>\n",
       "      <td>1954-05-01</td>\n",
       "      <td>Chirstian</td>\n",
       "      <td>Koblick</td>\n",
       "      <td>M</td>\n",
       "      <td>1986-12-01</td>\n",
       "    </tr>\n",
       "    <tr>\n",
       "      <th>4</th>\n",
       "      <td>10005</td>\n",
       "      <td>1955-01-21</td>\n",
       "      <td>Kyoichi</td>\n",
       "      <td>Maliniak</td>\n",
       "      <td>M</td>\n",
       "      <td>1989-09-12</td>\n",
       "    </tr>\n",
       "  </tbody>\n",
       "</table>\n",
       "</div>"
      ],
      "text/plain": [
       "   emp_no  birth_date first_name last_name gender   hire_date\n",
       "0   10001  1953-09-02     Georgi   Facello      M  1986-06-26\n",
       "1   10002  1964-06-02    Bezalel    Simmel      F  1985-11-21\n",
       "2   10003  1959-12-03      Parto   Bamford      M  1986-08-28\n",
       "3   10004  1954-05-01  Chirstian   Koblick      M  1986-12-01\n",
       "4   10005  1955-01-21    Kyoichi  Maliniak      M  1989-09-12"
      ]
     },
     "execution_count": 7,
     "metadata": {},
     "output_type": "execute_result"
    }
   ],
   "source": [
    "employee_query.head()"
   ]
  },
  {
   "cell_type": "code",
   "execution_count": 8,
   "id": "7363f353-985e-4636-85df-6dcebde140fd",
   "metadata": {},
   "outputs": [
    {
     "data": {
      "text/html": [
       "<div>\n",
       "<style scoped>\n",
       "    .dataframe tbody tr th:only-of-type {\n",
       "        vertical-align: middle;\n",
       "    }\n",
       "\n",
       "    .dataframe tbody tr th {\n",
       "        vertical-align: top;\n",
       "    }\n",
       "\n",
       "    .dataframe thead th {\n",
       "        text-align: right;\n",
       "    }\n",
       "</style>\n",
       "<table border=\"1\" class=\"dataframe\">\n",
       "  <thead>\n",
       "    <tr style=\"text-align: right;\">\n",
       "      <th></th>\n",
       "      <th>emp_no</th>\n",
       "      <th>title</th>\n",
       "      <th>from_date</th>\n",
       "      <th>to_date</th>\n",
       "    </tr>\n",
       "  </thead>\n",
       "  <tbody>\n",
       "    <tr>\n",
       "      <th>0</th>\n",
       "      <td>10001</td>\n",
       "      <td>Senior Engineer</td>\n",
       "      <td>1986-06-26</td>\n",
       "      <td>9999-01-01</td>\n",
       "    </tr>\n",
       "    <tr>\n",
       "      <th>1</th>\n",
       "      <td>10002</td>\n",
       "      <td>Staff</td>\n",
       "      <td>1996-08-03</td>\n",
       "      <td>9999-01-01</td>\n",
       "    </tr>\n",
       "    <tr>\n",
       "      <th>2</th>\n",
       "      <td>10003</td>\n",
       "      <td>Senior Engineer</td>\n",
       "      <td>1995-12-03</td>\n",
       "      <td>9999-01-01</td>\n",
       "    </tr>\n",
       "    <tr>\n",
       "      <th>3</th>\n",
       "      <td>10004</td>\n",
       "      <td>Engineer</td>\n",
       "      <td>1986-12-01</td>\n",
       "      <td>1995-12-01</td>\n",
       "    </tr>\n",
       "    <tr>\n",
       "      <th>4</th>\n",
       "      <td>10004</td>\n",
       "      <td>Senior Engineer</td>\n",
       "      <td>1995-12-01</td>\n",
       "      <td>9999-01-01</td>\n",
       "    </tr>\n",
       "  </tbody>\n",
       "</table>\n",
       "</div>"
      ],
      "text/plain": [
       "   emp_no            title   from_date     to_date\n",
       "0   10001  Senior Engineer  1986-06-26  9999-01-01\n",
       "1   10002            Staff  1996-08-03  9999-01-01\n",
       "2   10003  Senior Engineer  1995-12-03  9999-01-01\n",
       "3   10004         Engineer  1986-12-01  1995-12-01\n",
       "4   10004  Senior Engineer  1995-12-01  9999-01-01"
      ]
     },
     "execution_count": 8,
     "metadata": {},
     "output_type": "execute_result"
    }
   ],
   "source": [
    "title_query.head()"
   ]
  },
  {
   "cell_type": "markdown",
   "id": "439c5a2d-cbb9-4519-845b-222a2d178241",
   "metadata": {},
   "source": [
    "#### - 7. How many rows and columns do you have in each DataFrame? Is that what you expected?"
   ]
  },
  {
   "cell_type": "code",
   "execution_count": 47,
   "id": "eeaf61db-ed53-46b9-a361-19903755f635",
   "metadata": {
    "scrolled": true
   },
   "outputs": [
    {
     "name": "stdout",
     "output_type": "stream",
     "text": [
      "<class 'pandas.core.frame.DataFrame'>\n",
      "RangeIndex: 443308 entries, 0 to 443307\n",
      "Data columns (total 4 columns):\n",
      " #   Column     Non-Null Count   Dtype \n",
      "---  ------     --------------   ----- \n",
      " 0   emp_no     443308 non-null  int64 \n",
      " 1   title      443308 non-null  object\n",
      " 2   from_date  443308 non-null  object\n",
      " 3   to_date    443308 non-null  object\n",
      "dtypes: int64(1), object(3)\n",
      "memory usage: 13.5+ MB\n"
     ]
    }
   ],
   "source": [
    "title_query.info()"
   ]
  },
  {
   "cell_type": "code",
   "execution_count": 49,
   "id": "faa2fe4b-b926-4ca9-9426-30f8bcda6e9a",
   "metadata": {},
   "outputs": [
    {
     "data": {
      "text/plain": [
       "(300024, 6)"
      ]
     },
     "execution_count": 49,
     "metadata": {},
     "output_type": "execute_result"
    }
   ],
   "source": [
    "employee_query.shape"
   ]
  },
  {
   "cell_type": "code",
   "execution_count": 51,
   "id": "f6e8470f-5c12-4d54-b0f2-0ac09fe8cb54",
   "metadata": {},
   "outputs": [
    {
     "data": {
      "text/plain": [
       "(443308, 4)"
      ]
     },
     "execution_count": 51,
     "metadata": {},
     "output_type": "execute_result"
    }
   ],
   "source": [
    "title_query.shape"
   ]
  },
  {
   "cell_type": "markdown",
   "id": "0067df96-8901-4734-a021-5c79dbff8c46",
   "metadata": {},
   "source": [
    "- I did not expect the number shown, but kinf of because we touched SQL beforehand."
   ]
  },
  {
   "cell_type": "markdown",
   "id": "088960d5-718e-427a-80f1-84ca7ac9825a",
   "metadata": {},
   "source": [
    "#### - 8. Display the summary statistics for each DataFrame."
   ]
  },
  {
   "cell_type": "code",
   "execution_count": 11,
   "id": "b08ad7bb-0b0e-41d3-a540-1cb3472822a1",
   "metadata": {},
   "outputs": [
    {
     "data": {
      "text/html": [
       "<div>\n",
       "<style scoped>\n",
       "    .dataframe tbody tr th:only-of-type {\n",
       "        vertical-align: middle;\n",
       "    }\n",
       "\n",
       "    .dataframe tbody tr th {\n",
       "        vertical-align: top;\n",
       "    }\n",
       "\n",
       "    .dataframe thead th {\n",
       "        text-align: right;\n",
       "    }\n",
       "</style>\n",
       "<table border=\"1\" class=\"dataframe\">\n",
       "  <thead>\n",
       "    <tr style=\"text-align: right;\">\n",
       "      <th></th>\n",
       "      <th>emp_no</th>\n",
       "    </tr>\n",
       "  </thead>\n",
       "  <tbody>\n",
       "    <tr>\n",
       "      <th>count</th>\n",
       "      <td>300024.000000</td>\n",
       "    </tr>\n",
       "    <tr>\n",
       "      <th>mean</th>\n",
       "      <td>253321.763392</td>\n",
       "    </tr>\n",
       "    <tr>\n",
       "      <th>std</th>\n",
       "      <td>161828.235540</td>\n",
       "    </tr>\n",
       "    <tr>\n",
       "      <th>min</th>\n",
       "      <td>10001.000000</td>\n",
       "    </tr>\n",
       "    <tr>\n",
       "      <th>25%</th>\n",
       "      <td>85006.750000</td>\n",
       "    </tr>\n",
       "    <tr>\n",
       "      <th>50%</th>\n",
       "      <td>249987.500000</td>\n",
       "    </tr>\n",
       "    <tr>\n",
       "      <th>75%</th>\n",
       "      <td>424993.250000</td>\n",
       "    </tr>\n",
       "    <tr>\n",
       "      <th>max</th>\n",
       "      <td>499999.000000</td>\n",
       "    </tr>\n",
       "  </tbody>\n",
       "</table>\n",
       "</div>"
      ],
      "text/plain": [
       "              emp_no\n",
       "count  300024.000000\n",
       "mean   253321.763392\n",
       "std    161828.235540\n",
       "min     10001.000000\n",
       "25%     85006.750000\n",
       "50%    249987.500000\n",
       "75%    424993.250000\n",
       "max    499999.000000"
      ]
     },
     "execution_count": 11,
     "metadata": {},
     "output_type": "execute_result"
    }
   ],
   "source": [
    "employee_query.describe()"
   ]
  },
  {
   "cell_type": "code",
   "execution_count": 12,
   "id": "32ece9e7-250b-46c4-9ffe-066cf7a0e6bd",
   "metadata": {},
   "outputs": [
    {
     "data": {
      "text/html": [
       "<div>\n",
       "<style scoped>\n",
       "    .dataframe tbody tr th:only-of-type {\n",
       "        vertical-align: middle;\n",
       "    }\n",
       "\n",
       "    .dataframe tbody tr th {\n",
       "        vertical-align: top;\n",
       "    }\n",
       "\n",
       "    .dataframe thead th {\n",
       "        text-align: right;\n",
       "    }\n",
       "</style>\n",
       "<table border=\"1\" class=\"dataframe\">\n",
       "  <thead>\n",
       "    <tr style=\"text-align: right;\">\n",
       "      <th></th>\n",
       "      <th>emp_no</th>\n",
       "    </tr>\n",
       "  </thead>\n",
       "  <tbody>\n",
       "    <tr>\n",
       "      <th>count</th>\n",
       "      <td>443308.000000</td>\n",
       "    </tr>\n",
       "    <tr>\n",
       "      <th>mean</th>\n",
       "      <td>253075.034430</td>\n",
       "    </tr>\n",
       "    <tr>\n",
       "      <th>std</th>\n",
       "      <td>161853.292613</td>\n",
       "    </tr>\n",
       "    <tr>\n",
       "      <th>min</th>\n",
       "      <td>10001.000000</td>\n",
       "    </tr>\n",
       "    <tr>\n",
       "      <th>25%</th>\n",
       "      <td>84855.750000</td>\n",
       "    </tr>\n",
       "    <tr>\n",
       "      <th>50%</th>\n",
       "      <td>249847.500000</td>\n",
       "    </tr>\n",
       "    <tr>\n",
       "      <th>75%</th>\n",
       "      <td>424891.250000</td>\n",
       "    </tr>\n",
       "    <tr>\n",
       "      <th>max</th>\n",
       "      <td>499999.000000</td>\n",
       "    </tr>\n",
       "  </tbody>\n",
       "</table>\n",
       "</div>"
      ],
      "text/plain": [
       "              emp_no\n",
       "count  443308.000000\n",
       "mean   253075.034430\n",
       "std    161853.292613\n",
       "min     10001.000000\n",
       "25%     84855.750000\n",
       "50%    249847.500000\n",
       "75%    424891.250000\n",
       "max    499999.000000"
      ]
     },
     "execution_count": 12,
     "metadata": {},
     "output_type": "execute_result"
    }
   ],
   "source": [
    "title_query.describe()"
   ]
  },
  {
   "cell_type": "markdown",
   "id": "0697afa7-3c91-4092-b192-444579d51b4e",
   "metadata": {},
   "source": [
    "#### - 9. How many unique titles are in the titles DataFrame?"
   ]
  },
  {
   "cell_type": "code",
   "execution_count": 13,
   "id": "3fd3153b-4b11-4f19-b87e-3e025b4b9ae5",
   "metadata": {},
   "outputs": [
    {
     "data": {
      "text/plain": [
       "7"
      ]
     },
     "execution_count": 13,
     "metadata": {},
     "output_type": "execute_result"
    }
   ],
   "source": [
    "title_query['title'].nunique()"
   ]
  },
  {
   "cell_type": "markdown",
   "id": "82b49b5a-37d6-4b81-bcaf-eed261b25bb4",
   "metadata": {},
   "source": [
    "#### - 10. What is the oldest date in the to_date column?"
   ]
  },
  {
   "cell_type": "code",
   "execution_count": 14,
   "id": "cec5329f-29d0-4bdd-95a8-29417308ce2e",
   "metadata": {},
   "outputs": [
    {
     "data": {
      "text/plain": [
       "datetime.date(1985, 3, 1)"
      ]
     },
     "execution_count": 14,
     "metadata": {},
     "output_type": "execute_result"
    }
   ],
   "source": [
    "title_query['to_date'].min()"
   ]
  },
  {
   "cell_type": "markdown",
   "id": "d6d46553-5d23-4eb4-8b95-656c10c9a7a7",
   "metadata": {},
   "source": [
    "#### -11. What is the most recent date in the to_date column?"
   ]
  },
  {
   "cell_type": "code",
   "execution_count": 15,
   "id": "8c60f35c-ecb1-443d-bf56-f2dd58e12ac4",
   "metadata": {},
   "outputs": [
    {
     "data": {
      "text/plain": [
       "datetime.date(9999, 1, 1)"
      ]
     },
     "execution_count": 15,
     "metadata": {},
     "output_type": "execute_result"
    }
   ],
   "source": [
    "title_query['to_date'].max()"
   ]
  },
  {
   "cell_type": "markdown",
   "id": "15e158e5-e512-4276-ba62-0317d3c07bea",
   "metadata": {},
   "source": [
    "---------------------------------------------------------------------------------------------------------------------------------------------------"
   ]
  },
  {
   "cell_type": "markdown",
   "id": "1d101dba-31e7-485e-ae09-275fbc13fc9b",
   "metadata": {},
   "source": [
    "# Exercises II"
   ]
  },
  {
   "cell_type": "markdown",
   "id": "fe1d7a45-c673-4384-b2c0-4a7a7bcfb462",
   "metadata": {},
   "source": [
    "## Copy the users and roles DataFrames from the examples in the lesson."
   ]
  },
  {
   "cell_type": "code",
   "execution_count": 16,
   "id": "a533fee5-3d98-4f1a-8483-91ba13956a79",
   "metadata": {},
   "outputs": [
    {
     "data": {
      "text/html": [
       "<div>\n",
       "<style scoped>\n",
       "    .dataframe tbody tr th:only-of-type {\n",
       "        vertical-align: middle;\n",
       "    }\n",
       "\n",
       "    .dataframe tbody tr th {\n",
       "        vertical-align: top;\n",
       "    }\n",
       "\n",
       "    .dataframe thead th {\n",
       "        text-align: right;\n",
       "    }\n",
       "</style>\n",
       "<table border=\"1\" class=\"dataframe\">\n",
       "  <thead>\n",
       "    <tr style=\"text-align: right;\">\n",
       "      <th></th>\n",
       "      <th>id</th>\n",
       "      <th>name</th>\n",
       "      <th>role_id</th>\n",
       "    </tr>\n",
       "  </thead>\n",
       "  <tbody>\n",
       "    <tr>\n",
       "      <th>0</th>\n",
       "      <td>1</td>\n",
       "      <td>bob</td>\n",
       "      <td>1.0</td>\n",
       "    </tr>\n",
       "    <tr>\n",
       "      <th>1</th>\n",
       "      <td>2</td>\n",
       "      <td>joe</td>\n",
       "      <td>2.0</td>\n",
       "    </tr>\n",
       "    <tr>\n",
       "      <th>2</th>\n",
       "      <td>3</td>\n",
       "      <td>sally</td>\n",
       "      <td>3.0</td>\n",
       "    </tr>\n",
       "    <tr>\n",
       "      <th>3</th>\n",
       "      <td>4</td>\n",
       "      <td>adam</td>\n",
       "      <td>3.0</td>\n",
       "    </tr>\n",
       "    <tr>\n",
       "      <th>4</th>\n",
       "      <td>5</td>\n",
       "      <td>jane</td>\n",
       "      <td>NaN</td>\n",
       "    </tr>\n",
       "    <tr>\n",
       "      <th>5</th>\n",
       "      <td>6</td>\n",
       "      <td>mike</td>\n",
       "      <td>NaN</td>\n",
       "    </tr>\n",
       "  </tbody>\n",
       "</table>\n",
       "</div>"
      ],
      "text/plain": [
       "   id   name  role_id\n",
       "0   1    bob      1.0\n",
       "1   2    joe      2.0\n",
       "2   3  sally      3.0\n",
       "3   4   adam      3.0\n",
       "4   5   jane      NaN\n",
       "5   6   mike      NaN"
      ]
     },
     "execution_count": 16,
     "metadata": {},
     "output_type": "execute_result"
    }
   ],
   "source": [
    "# Create the users DataFrame.\n",
    "\n",
    "users = pd.DataFrame({\n",
    "    'id': [1, 2, 3, 4, 5, 6],\n",
    "    'name': ['bob', 'joe', 'sally', 'adam', 'jane', 'mike'],\n",
    "    'role_id': [1, 2, 3, 3, np.nan, np.nan]\n",
    "})\n",
    "users"
   ]
  },
  {
   "cell_type": "code",
   "execution_count": 17,
   "id": "1347c2aa-316d-4dd6-839e-99fe6f9f34fc",
   "metadata": {},
   "outputs": [
    {
     "data": {
      "text/html": [
       "<div>\n",
       "<style scoped>\n",
       "    .dataframe tbody tr th:only-of-type {\n",
       "        vertical-align: middle;\n",
       "    }\n",
       "\n",
       "    .dataframe tbody tr th {\n",
       "        vertical-align: top;\n",
       "    }\n",
       "\n",
       "    .dataframe thead th {\n",
       "        text-align: right;\n",
       "    }\n",
       "</style>\n",
       "<table border=\"1\" class=\"dataframe\">\n",
       "  <thead>\n",
       "    <tr style=\"text-align: right;\">\n",
       "      <th></th>\n",
       "      <th>id</th>\n",
       "      <th>name</th>\n",
       "    </tr>\n",
       "  </thead>\n",
       "  <tbody>\n",
       "    <tr>\n",
       "      <th>0</th>\n",
       "      <td>1</td>\n",
       "      <td>admin</td>\n",
       "    </tr>\n",
       "    <tr>\n",
       "      <th>1</th>\n",
       "      <td>2</td>\n",
       "      <td>author</td>\n",
       "    </tr>\n",
       "    <tr>\n",
       "      <th>2</th>\n",
       "      <td>3</td>\n",
       "      <td>reviewer</td>\n",
       "    </tr>\n",
       "    <tr>\n",
       "      <th>3</th>\n",
       "      <td>4</td>\n",
       "      <td>commenter</td>\n",
       "    </tr>\n",
       "  </tbody>\n",
       "</table>\n",
       "</div>"
      ],
      "text/plain": [
       "   id       name\n",
       "0   1      admin\n",
       "1   2     author\n",
       "2   3   reviewer\n",
       "3   4  commenter"
      ]
     },
     "execution_count": 17,
     "metadata": {},
     "output_type": "execute_result"
    }
   ],
   "source": [
    "# Create the roles DataFrame\n",
    "\n",
    "roles = pd.DataFrame({\n",
    "    'id': [1, 2, 3, 4],\n",
    "    'name': ['admin', 'author', 'reviewer', 'commenter']\n",
    "})\n",
    "roles\n"
   ]
  },
  {
   "cell_type": "markdown",
   "id": "b5548f08-fb8b-4514-b412-4dd927511219",
   "metadata": {},
   "source": [
    "1. What is the result of using a right join on the DataFrames?"
   ]
  },
  {
   "cell_type": "code",
   "execution_count": 18,
   "id": "a5763f85-a354-445e-93f8-d45350c5dfd5",
   "metadata": {},
   "outputs": [
    {
     "data": {
      "text/html": [
       "<div>\n",
       "<style scoped>\n",
       "    .dataframe tbody tr th:only-of-type {\n",
       "        vertical-align: middle;\n",
       "    }\n",
       "\n",
       "    .dataframe tbody tr th {\n",
       "        vertical-align: top;\n",
       "    }\n",
       "\n",
       "    .dataframe thead th {\n",
       "        text-align: right;\n",
       "    }\n",
       "</style>\n",
       "<table border=\"1\" class=\"dataframe\">\n",
       "  <thead>\n",
       "    <tr style=\"text-align: right;\">\n",
       "      <th></th>\n",
       "      <th>id_x</th>\n",
       "      <th>name_x</th>\n",
       "      <th>role_id</th>\n",
       "      <th>id_y</th>\n",
       "      <th>name_y</th>\n",
       "    </tr>\n",
       "  </thead>\n",
       "  <tbody>\n",
       "    <tr>\n",
       "      <th>0</th>\n",
       "      <td>1.0</td>\n",
       "      <td>bob</td>\n",
       "      <td>1.0</td>\n",
       "      <td>1</td>\n",
       "      <td>admin</td>\n",
       "    </tr>\n",
       "    <tr>\n",
       "      <th>1</th>\n",
       "      <td>2.0</td>\n",
       "      <td>joe</td>\n",
       "      <td>2.0</td>\n",
       "      <td>2</td>\n",
       "      <td>author</td>\n",
       "    </tr>\n",
       "    <tr>\n",
       "      <th>2</th>\n",
       "      <td>3.0</td>\n",
       "      <td>sally</td>\n",
       "      <td>3.0</td>\n",
       "      <td>3</td>\n",
       "      <td>reviewer</td>\n",
       "    </tr>\n",
       "    <tr>\n",
       "      <th>3</th>\n",
       "      <td>4.0</td>\n",
       "      <td>adam</td>\n",
       "      <td>3.0</td>\n",
       "      <td>3</td>\n",
       "      <td>reviewer</td>\n",
       "    </tr>\n",
       "    <tr>\n",
       "      <th>4</th>\n",
       "      <td>NaN</td>\n",
       "      <td>NaN</td>\n",
       "      <td>NaN</td>\n",
       "      <td>4</td>\n",
       "      <td>commenter</td>\n",
       "    </tr>\n",
       "  </tbody>\n",
       "</table>\n",
       "</div>"
      ],
      "text/plain": [
       "   id_x name_x  role_id  id_y     name_y\n",
       "0   1.0    bob      1.0     1      admin\n",
       "1   2.0    joe      2.0     2     author\n",
       "2   3.0  sally      3.0     3   reviewer\n",
       "3   4.0   adam      3.0     3   reviewer\n",
       "4   NaN    NaN      NaN     4  commenter"
      ]
     },
     "execution_count": 18,
     "metadata": {},
     "output_type": "execute_result"
    }
   ],
   "source": [
    "users.merge(roles, how='right', left_on='role_id', right_on='id')"
   ]
  },
  {
   "cell_type": "markdown",
   "id": "33ef5592-f054-4c0a-b579-c7df9e6adad7",
   "metadata": {},
   "source": [
    "- it resulted in Nan values  when users.name_x column was right joined"
   ]
  },
  {
   "cell_type": "code",
   "execution_count": 19,
   "id": "ea159cb2-5f82-45c1-8b64-651f164c2496",
   "metadata": {},
   "outputs": [
    {
     "data": {
      "text/html": [
       "<div>\n",
       "<style scoped>\n",
       "    .dataframe tbody tr th:only-of-type {\n",
       "        vertical-align: middle;\n",
       "    }\n",
       "\n",
       "    .dataframe tbody tr th {\n",
       "        vertical-align: top;\n",
       "    }\n",
       "\n",
       "    .dataframe thead th {\n",
       "        text-align: right;\n",
       "    }\n",
       "</style>\n",
       "<table border=\"1\" class=\"dataframe\">\n",
       "  <thead>\n",
       "    <tr style=\"text-align: right;\">\n",
       "      <th></th>\n",
       "      <th>id</th>\n",
       "      <th>name_x</th>\n",
       "      <th>name_y</th>\n",
       "      <th>role_id</th>\n",
       "    </tr>\n",
       "  </thead>\n",
       "  <tbody>\n",
       "    <tr>\n",
       "      <th>0</th>\n",
       "      <td>1</td>\n",
       "      <td>admin</td>\n",
       "      <td>bob</td>\n",
       "      <td>1.0</td>\n",
       "    </tr>\n",
       "    <tr>\n",
       "      <th>1</th>\n",
       "      <td>2</td>\n",
       "      <td>author</td>\n",
       "      <td>joe</td>\n",
       "      <td>2.0</td>\n",
       "    </tr>\n",
       "    <tr>\n",
       "      <th>2</th>\n",
       "      <td>3</td>\n",
       "      <td>reviewer</td>\n",
       "      <td>sally</td>\n",
       "      <td>3.0</td>\n",
       "    </tr>\n",
       "    <tr>\n",
       "      <th>3</th>\n",
       "      <td>4</td>\n",
       "      <td>commenter</td>\n",
       "      <td>adam</td>\n",
       "      <td>3.0</td>\n",
       "    </tr>\n",
       "    <tr>\n",
       "      <th>4</th>\n",
       "      <td>5</td>\n",
       "      <td>NaN</td>\n",
       "      <td>jane</td>\n",
       "      <td>NaN</td>\n",
       "    </tr>\n",
       "    <tr>\n",
       "      <th>5</th>\n",
       "      <td>6</td>\n",
       "      <td>NaN</td>\n",
       "      <td>mike</td>\n",
       "      <td>NaN</td>\n",
       "    </tr>\n",
       "  </tbody>\n",
       "</table>\n",
       "</div>"
      ],
      "text/plain": [
       "   id     name_x name_y  role_id\n",
       "0   1      admin    bob      1.0\n",
       "1   2     author    joe      2.0\n",
       "2   3   reviewer  sally      3.0\n",
       "3   4  commenter   adam      3.0\n",
       "4   5        NaN   jane      NaN\n",
       "5   6        NaN   mike      NaN"
      ]
     },
     "execution_count": 19,
     "metadata": {},
     "output_type": "execute_result"
    }
   ],
   "source": [
    "roles.merge(users, how='right', left_on='id', right_on='id')"
   ]
  },
  {
   "cell_type": "markdown",
   "id": "7b9b63b9-3f44-4b7e-8285-bccd67925215",
   "metadata": {},
   "source": [
    "- a right join on users resuted in Nan values in name_x and role id columns and commenter was places as a name which is not correct."
   ]
  },
  {
   "cell_type": "markdown",
   "id": "2de8b715-ce9d-4333-8737-7011be7c3fe5",
   "metadata": {},
   "source": [
    "2. What is the result of using an outer join on the DataFrames?"
   ]
  },
  {
   "cell_type": "code",
   "execution_count": 20,
   "id": "a9cdb049-1d5f-4523-a93f-5fac6d11b069",
   "metadata": {},
   "outputs": [
    {
     "data": {
      "text/html": [
       "<div>\n",
       "<style scoped>\n",
       "    .dataframe tbody tr th:only-of-type {\n",
       "        vertical-align: middle;\n",
       "    }\n",
       "\n",
       "    .dataframe tbody tr th {\n",
       "        vertical-align: top;\n",
       "    }\n",
       "\n",
       "    .dataframe thead th {\n",
       "        text-align: right;\n",
       "    }\n",
       "</style>\n",
       "<table border=\"1\" class=\"dataframe\">\n",
       "  <thead>\n",
       "    <tr style=\"text-align: right;\">\n",
       "      <th></th>\n",
       "      <th>id_x</th>\n",
       "      <th>name_x</th>\n",
       "      <th>role_id</th>\n",
       "      <th>id_y</th>\n",
       "      <th>name_y</th>\n",
       "    </tr>\n",
       "  </thead>\n",
       "  <tbody>\n",
       "    <tr>\n",
       "      <th>0</th>\n",
       "      <td>1.0</td>\n",
       "      <td>bob</td>\n",
       "      <td>1.0</td>\n",
       "      <td>1.0</td>\n",
       "      <td>admin</td>\n",
       "    </tr>\n",
       "    <tr>\n",
       "      <th>1</th>\n",
       "      <td>2.0</td>\n",
       "      <td>joe</td>\n",
       "      <td>2.0</td>\n",
       "      <td>2.0</td>\n",
       "      <td>author</td>\n",
       "    </tr>\n",
       "    <tr>\n",
       "      <th>2</th>\n",
       "      <td>3.0</td>\n",
       "      <td>sally</td>\n",
       "      <td>3.0</td>\n",
       "      <td>3.0</td>\n",
       "      <td>reviewer</td>\n",
       "    </tr>\n",
       "    <tr>\n",
       "      <th>3</th>\n",
       "      <td>4.0</td>\n",
       "      <td>adam</td>\n",
       "      <td>3.0</td>\n",
       "      <td>3.0</td>\n",
       "      <td>reviewer</td>\n",
       "    </tr>\n",
       "    <tr>\n",
       "      <th>4</th>\n",
       "      <td>5.0</td>\n",
       "      <td>jane</td>\n",
       "      <td>NaN</td>\n",
       "      <td>NaN</td>\n",
       "      <td>NaN</td>\n",
       "    </tr>\n",
       "    <tr>\n",
       "      <th>5</th>\n",
       "      <td>6.0</td>\n",
       "      <td>mike</td>\n",
       "      <td>NaN</td>\n",
       "      <td>NaN</td>\n",
       "      <td>NaN</td>\n",
       "    </tr>\n",
       "    <tr>\n",
       "      <th>6</th>\n",
       "      <td>NaN</td>\n",
       "      <td>NaN</td>\n",
       "      <td>NaN</td>\n",
       "      <td>4.0</td>\n",
       "      <td>commenter</td>\n",
       "    </tr>\n",
       "  </tbody>\n",
       "</table>\n",
       "</div>"
      ],
      "text/plain": [
       "   id_x name_x  role_id  id_y     name_y\n",
       "0   1.0    bob      1.0   1.0      admin\n",
       "1   2.0    joe      2.0   2.0     author\n",
       "2   3.0  sally      3.0   3.0   reviewer\n",
       "3   4.0   adam      3.0   3.0   reviewer\n",
       "4   5.0   jane      NaN   NaN        NaN\n",
       "5   6.0   mike      NaN   NaN        NaN\n",
       "6   NaN    NaN      NaN   4.0  commenter"
      ]
     },
     "execution_count": 20,
     "metadata": {},
     "output_type": "execute_result"
    }
   ],
   "source": [
    "users.merge(roles, how='outer', left_on='role_id', right_on='id')"
   ]
  },
  {
   "cell_type": "markdown",
   "id": "0b9c3038-d310-4e61-b183-710d94c508a2",
   "metadata": {},
   "source": [
    "- when outer joined using the merge function on the dataframes, i got the same values as an earlier right join from roles to users."
   ]
  },
  {
   "cell_type": "code",
   "execution_count": 21,
   "id": "6063948c-bd44-4563-baff-4f7dff5854ce",
   "metadata": {},
   "outputs": [
    {
     "data": {
      "text/html": [
       "<div>\n",
       "<style scoped>\n",
       "    .dataframe tbody tr th:only-of-type {\n",
       "        vertical-align: middle;\n",
       "    }\n",
       "\n",
       "    .dataframe tbody tr th {\n",
       "        vertical-align: top;\n",
       "    }\n",
       "\n",
       "    .dataframe thead th {\n",
       "        text-align: right;\n",
       "    }\n",
       "</style>\n",
       "<table border=\"1\" class=\"dataframe\">\n",
       "  <thead>\n",
       "    <tr style=\"text-align: right;\">\n",
       "      <th></th>\n",
       "      <th>id</th>\n",
       "      <th>name_x</th>\n",
       "      <th>name_y</th>\n",
       "      <th>role_id</th>\n",
       "    </tr>\n",
       "  </thead>\n",
       "  <tbody>\n",
       "    <tr>\n",
       "      <th>0</th>\n",
       "      <td>1</td>\n",
       "      <td>admin</td>\n",
       "      <td>bob</td>\n",
       "      <td>1.0</td>\n",
       "    </tr>\n",
       "    <tr>\n",
       "      <th>1</th>\n",
       "      <td>2</td>\n",
       "      <td>author</td>\n",
       "      <td>joe</td>\n",
       "      <td>2.0</td>\n",
       "    </tr>\n",
       "    <tr>\n",
       "      <th>2</th>\n",
       "      <td>3</td>\n",
       "      <td>reviewer</td>\n",
       "      <td>sally</td>\n",
       "      <td>3.0</td>\n",
       "    </tr>\n",
       "    <tr>\n",
       "      <th>3</th>\n",
       "      <td>4</td>\n",
       "      <td>commenter</td>\n",
       "      <td>adam</td>\n",
       "      <td>3.0</td>\n",
       "    </tr>\n",
       "    <tr>\n",
       "      <th>4</th>\n",
       "      <td>5</td>\n",
       "      <td>NaN</td>\n",
       "      <td>jane</td>\n",
       "      <td>NaN</td>\n",
       "    </tr>\n",
       "    <tr>\n",
       "      <th>5</th>\n",
       "      <td>6</td>\n",
       "      <td>NaN</td>\n",
       "      <td>mike</td>\n",
       "      <td>NaN</td>\n",
       "    </tr>\n",
       "  </tbody>\n",
       "</table>\n",
       "</div>"
      ],
      "text/plain": [
       "   id     name_x name_y  role_id\n",
       "0   1      admin    bob      1.0\n",
       "1   2     author    joe      2.0\n",
       "2   3   reviewer  sally      3.0\n",
       "3   4  commenter   adam      3.0\n",
       "4   5        NaN   jane      NaN\n",
       "5   6        NaN   mike      NaN"
      ]
     },
     "execution_count": 21,
     "metadata": {},
     "output_type": "execute_result"
    }
   ],
   "source": [
    "roles.merge(users, how='right', left_on='id', right_on='id')"
   ]
  },
  {
   "cell_type": "markdown",
   "id": "9628a14c-4a96-40aa-8075-caa531c6c1ec",
   "metadata": {},
   "source": [
    "- in this merge I flipped the data frames position within the function and received almost the same outcome with different values assigned with similar columns"
   ]
  },
  {
   "cell_type": "markdown",
   "id": "28a5fa83-865b-4656-bd99-cfc7f44b7c07",
   "metadata": {},
   "source": [
    "3. What happens if you drop the foreign keys from the DataFrames and try to merge them?"
   ]
  },
  {
   "cell_type": "code",
   "execution_count": 52,
   "id": "f731c1cb-ab65-402c-9cab-1980446a2140",
   "metadata": {},
   "outputs": [
    {
     "data": {
      "text/html": [
       "<div>\n",
       "<style scoped>\n",
       "    .dataframe tbody tr th:only-of-type {\n",
       "        vertical-align: middle;\n",
       "    }\n",
       "\n",
       "    .dataframe tbody tr th {\n",
       "        vertical-align: top;\n",
       "    }\n",
       "\n",
       "    .dataframe thead th {\n",
       "        text-align: right;\n",
       "    }\n",
       "</style>\n",
       "<table border=\"1\" class=\"dataframe\">\n",
       "  <thead>\n",
       "    <tr style=\"text-align: right;\">\n",
       "      <th></th>\n",
       "      <th>id</th>\n",
       "      <th>name</th>\n",
       "    </tr>\n",
       "  </thead>\n",
       "  <tbody>\n",
       "    <tr>\n",
       "      <th>0</th>\n",
       "      <td>1.0</td>\n",
       "      <td>bob</td>\n",
       "    </tr>\n",
       "    <tr>\n",
       "      <th>1</th>\n",
       "      <td>2.0</td>\n",
       "      <td>joe</td>\n",
       "    </tr>\n",
       "    <tr>\n",
       "      <th>2</th>\n",
       "      <td>3.0</td>\n",
       "      <td>sally</td>\n",
       "    </tr>\n",
       "    <tr>\n",
       "      <th>3</th>\n",
       "      <td>4.0</td>\n",
       "      <td>adam</td>\n",
       "    </tr>\n",
       "    <tr>\n",
       "      <th>4</th>\n",
       "      <td>5.0</td>\n",
       "      <td>jane</td>\n",
       "    </tr>\n",
       "    <tr>\n",
       "      <th>5</th>\n",
       "      <td>6.0</td>\n",
       "      <td>mike</td>\n",
       "    </tr>\n",
       "    <tr>\n",
       "      <th>6</th>\n",
       "      <td>NaN</td>\n",
       "      <td>admin</td>\n",
       "    </tr>\n",
       "    <tr>\n",
       "      <th>7</th>\n",
       "      <td>NaN</td>\n",
       "      <td>author</td>\n",
       "    </tr>\n",
       "    <tr>\n",
       "      <th>8</th>\n",
       "      <td>NaN</td>\n",
       "      <td>reviewer</td>\n",
       "    </tr>\n",
       "    <tr>\n",
       "      <th>9</th>\n",
       "      <td>NaN</td>\n",
       "      <td>commenter</td>\n",
       "    </tr>\n",
       "  </tbody>\n",
       "</table>\n",
       "</div>"
      ],
      "text/plain": [
       "    id       name\n",
       "0  1.0        bob\n",
       "1  2.0        joe\n",
       "2  3.0      sally\n",
       "3  4.0       adam\n",
       "4  5.0       jane\n",
       "5  6.0       mike\n",
       "6  NaN      admin\n",
       "7  NaN     author\n",
       "8  NaN   reviewer\n",
       "9  NaN  commenter"
      ]
     },
     "execution_count": 52,
     "metadata": {},
     "output_type": "execute_result"
    }
   ],
   "source": [
    "users.merge(roles, how='outer')"
   ]
  },
  {
   "cell_type": "code",
   "execution_count": 24,
   "id": "869d578e-48a9-45c4-a99c-d649e0f77923",
   "metadata": {},
   "outputs": [],
   "source": [
    "# users.merge(roles, how='right', left_on='role_id', right_on='id')"
   ]
  },
  {
   "cell_type": "markdown",
   "id": "6e35eed0-ea7a-4b46-8135-2cc191eb91b7",
   "metadata": {},
   "source": [
    "- you can't merge df without a foreign key as error message displayed above"
   ]
  },
  {
   "cell_type": "code",
   "execution_count": 25,
   "id": "20e355ce-ca6a-4d93-89d8-7ea19faae53e",
   "metadata": {},
   "outputs": [],
   "source": [
    "from pydataset import data"
   ]
  },
  {
   "cell_type": "markdown",
   "id": "7100104e-3cbd-429e-8d70-b7ce53d37865",
   "metadata": {},
   "source": [
    "4. Load the mpg dataset from PyDataset."
   ]
  },
  {
   "cell_type": "code",
   "execution_count": 26,
   "id": "f4f8a93d-8003-4b86-b1b0-bca05fdaaf79",
   "metadata": {},
   "outputs": [],
   "source": [
    "mpg_df = data('mpg')"
   ]
  },
  {
   "cell_type": "markdown",
   "id": "5222705f-6151-40eb-8513-be7b1b92189d",
   "metadata": {},
   "source": [
    "5. Output and read the documentation for the mpg dataset."
   ]
  },
  {
   "cell_type": "code",
   "execution_count": 27,
   "id": "3dcd7a2d-c6f0-4e7c-a3b0-07291f89aa1e",
   "metadata": {},
   "outputs": [
    {
     "name": "stdout",
     "output_type": "stream",
     "text": [
      "mpg\n",
      "\n",
      "PyDataset Documentation (adopted from R Documentation. The displayed examples are in R)\n",
      "\n",
      "## Fuel economy data from 1999 and 2008 for 38 popular models of car\n",
      "\n",
      "### Description\n",
      "\n",
      "This dataset contains a subset of the fuel economy data that the EPA makes\n",
      "available on http://fueleconomy.gov. It contains only models which had a new\n",
      "release every year between 1999 and 2008 - this was used as a proxy for the\n",
      "popularity of the car.\n",
      "\n",
      "### Usage\n",
      "\n",
      "    data(mpg)\n",
      "\n",
      "### Format\n",
      "\n",
      "A data frame with 234 rows and 11 variables\n",
      "\n",
      "### Details\n",
      "\n",
      "  * manufacturer. \n",
      "\n",
      "  * model. \n",
      "\n",
      "  * displ. engine displacement, in litres \n",
      "\n",
      "  * year. \n",
      "\n",
      "  * cyl. number of cylinders \n",
      "\n",
      "  * trans. type of transmission \n",
      "\n",
      "  * drv. f = front-wheel drive, r = rear wheel drive, 4 = 4wd \n",
      "\n",
      "  * cty. city miles per gallon \n",
      "\n",
      "  * hwy. highway miles per gallon \n",
      "\n",
      "  * fl. \n",
      "\n",
      "  * class. \n",
      "\n",
      "\n"
     ]
    }
   ],
   "source": [
    "data('mpg', show_doc=True) # view the documentation for the dataset"
   ]
  },
  {
   "cell_type": "markdown",
   "id": "5425601b-44ca-43e0-922d-1d8174eacbce",
   "metadata": {},
   "source": [
    "6. How many rows and columns are in the dataset?"
   ]
  },
  {
   "cell_type": "code",
   "execution_count": 28,
   "id": "b2c0a1f6-6006-4474-8a5d-0c33083d730d",
   "metadata": {},
   "outputs": [
    {
     "data": {
      "text/plain": [
       "(234, 11)"
      ]
     },
     "execution_count": 28,
     "metadata": {},
     "output_type": "execute_result"
    }
   ],
   "source": [
    "mpg_df.shape"
   ]
  },
  {
   "cell_type": "markdown",
   "id": "8bd69166-51f5-443d-ac12-289a973d54c2",
   "metadata": {},
   "source": [
    "7. Check out your column names and perform any cleanup you may want on them."
   ]
  },
  {
   "cell_type": "code",
   "execution_count": 29,
   "id": "37c50d0e-d83b-43c3-8f03-5ba99aba3dbf",
   "metadata": {},
   "outputs": [
    {
     "data": {
      "text/html": [
       "<div>\n",
       "<style scoped>\n",
       "    .dataframe tbody tr th:only-of-type {\n",
       "        vertical-align: middle;\n",
       "    }\n",
       "\n",
       "    .dataframe tbody tr th {\n",
       "        vertical-align: top;\n",
       "    }\n",
       "\n",
       "    .dataframe thead th {\n",
       "        text-align: right;\n",
       "    }\n",
       "</style>\n",
       "<table border=\"1\" class=\"dataframe\">\n",
       "  <thead>\n",
       "    <tr style=\"text-align: right;\">\n",
       "      <th></th>\n",
       "      <th>manufacturer</th>\n",
       "      <th>model</th>\n",
       "      <th>display</th>\n",
       "      <th>year</th>\n",
       "      <th>cylinder</th>\n",
       "      <th>trans</th>\n",
       "      <th>drive</th>\n",
       "      <th>city</th>\n",
       "      <th>highway</th>\n",
       "      <th>fl</th>\n",
       "      <th>class</th>\n",
       "    </tr>\n",
       "  </thead>\n",
       "  <tbody>\n",
       "    <tr>\n",
       "      <th>1</th>\n",
       "      <td>audi</td>\n",
       "      <td>a4</td>\n",
       "      <td>1.8</td>\n",
       "      <td>1999</td>\n",
       "      <td>4</td>\n",
       "      <td>auto(l5)</td>\n",
       "      <td>f</td>\n",
       "      <td>18</td>\n",
       "      <td>29</td>\n",
       "      <td>p</td>\n",
       "      <td>compact</td>\n",
       "    </tr>\n",
       "    <tr>\n",
       "      <th>2</th>\n",
       "      <td>audi</td>\n",
       "      <td>a4</td>\n",
       "      <td>1.8</td>\n",
       "      <td>1999</td>\n",
       "      <td>4</td>\n",
       "      <td>manual(m5)</td>\n",
       "      <td>f</td>\n",
       "      <td>21</td>\n",
       "      <td>29</td>\n",
       "      <td>p</td>\n",
       "      <td>compact</td>\n",
       "    </tr>\n",
       "    <tr>\n",
       "      <th>3</th>\n",
       "      <td>audi</td>\n",
       "      <td>a4</td>\n",
       "      <td>2.0</td>\n",
       "      <td>2008</td>\n",
       "      <td>4</td>\n",
       "      <td>manual(m6)</td>\n",
       "      <td>f</td>\n",
       "      <td>20</td>\n",
       "      <td>31</td>\n",
       "      <td>p</td>\n",
       "      <td>compact</td>\n",
       "    </tr>\n",
       "    <tr>\n",
       "      <th>4</th>\n",
       "      <td>audi</td>\n",
       "      <td>a4</td>\n",
       "      <td>2.0</td>\n",
       "      <td>2008</td>\n",
       "      <td>4</td>\n",
       "      <td>auto(av)</td>\n",
       "      <td>f</td>\n",
       "      <td>21</td>\n",
       "      <td>30</td>\n",
       "      <td>p</td>\n",
       "      <td>compact</td>\n",
       "    </tr>\n",
       "    <tr>\n",
       "      <th>5</th>\n",
       "      <td>audi</td>\n",
       "      <td>a4</td>\n",
       "      <td>2.8</td>\n",
       "      <td>1999</td>\n",
       "      <td>6</td>\n",
       "      <td>auto(l5)</td>\n",
       "      <td>f</td>\n",
       "      <td>16</td>\n",
       "      <td>26</td>\n",
       "      <td>p</td>\n",
       "      <td>compact</td>\n",
       "    </tr>\n",
       "    <tr>\n",
       "      <th>...</th>\n",
       "      <td>...</td>\n",
       "      <td>...</td>\n",
       "      <td>...</td>\n",
       "      <td>...</td>\n",
       "      <td>...</td>\n",
       "      <td>...</td>\n",
       "      <td>...</td>\n",
       "      <td>...</td>\n",
       "      <td>...</td>\n",
       "      <td>...</td>\n",
       "      <td>...</td>\n",
       "    </tr>\n",
       "    <tr>\n",
       "      <th>230</th>\n",
       "      <td>volkswagen</td>\n",
       "      <td>passat</td>\n",
       "      <td>2.0</td>\n",
       "      <td>2008</td>\n",
       "      <td>4</td>\n",
       "      <td>auto(s6)</td>\n",
       "      <td>f</td>\n",
       "      <td>19</td>\n",
       "      <td>28</td>\n",
       "      <td>p</td>\n",
       "      <td>midsize</td>\n",
       "    </tr>\n",
       "    <tr>\n",
       "      <th>231</th>\n",
       "      <td>volkswagen</td>\n",
       "      <td>passat</td>\n",
       "      <td>2.0</td>\n",
       "      <td>2008</td>\n",
       "      <td>4</td>\n",
       "      <td>manual(m6)</td>\n",
       "      <td>f</td>\n",
       "      <td>21</td>\n",
       "      <td>29</td>\n",
       "      <td>p</td>\n",
       "      <td>midsize</td>\n",
       "    </tr>\n",
       "    <tr>\n",
       "      <th>232</th>\n",
       "      <td>volkswagen</td>\n",
       "      <td>passat</td>\n",
       "      <td>2.8</td>\n",
       "      <td>1999</td>\n",
       "      <td>6</td>\n",
       "      <td>auto(l5)</td>\n",
       "      <td>f</td>\n",
       "      <td>16</td>\n",
       "      <td>26</td>\n",
       "      <td>p</td>\n",
       "      <td>midsize</td>\n",
       "    </tr>\n",
       "    <tr>\n",
       "      <th>233</th>\n",
       "      <td>volkswagen</td>\n",
       "      <td>passat</td>\n",
       "      <td>2.8</td>\n",
       "      <td>1999</td>\n",
       "      <td>6</td>\n",
       "      <td>manual(m5)</td>\n",
       "      <td>f</td>\n",
       "      <td>18</td>\n",
       "      <td>26</td>\n",
       "      <td>p</td>\n",
       "      <td>midsize</td>\n",
       "    </tr>\n",
       "    <tr>\n",
       "      <th>234</th>\n",
       "      <td>volkswagen</td>\n",
       "      <td>passat</td>\n",
       "      <td>3.6</td>\n",
       "      <td>2008</td>\n",
       "      <td>6</td>\n",
       "      <td>auto(s6)</td>\n",
       "      <td>f</td>\n",
       "      <td>17</td>\n",
       "      <td>26</td>\n",
       "      <td>p</td>\n",
       "      <td>midsize</td>\n",
       "    </tr>\n",
       "  </tbody>\n",
       "</table>\n",
       "<p>234 rows × 11 columns</p>\n",
       "</div>"
      ],
      "text/plain": [
       "    manufacturer   model  display  year  cylinder       trans drive  city  \\\n",
       "1           audi      a4      1.8  1999         4    auto(l5)     f    18   \n",
       "2           audi      a4      1.8  1999         4  manual(m5)     f    21   \n",
       "3           audi      a4      2.0  2008         4  manual(m6)     f    20   \n",
       "4           audi      a4      2.0  2008         4    auto(av)     f    21   \n",
       "5           audi      a4      2.8  1999         6    auto(l5)     f    16   \n",
       "..           ...     ...      ...   ...       ...         ...   ...   ...   \n",
       "230   volkswagen  passat      2.0  2008         4    auto(s6)     f    19   \n",
       "231   volkswagen  passat      2.0  2008         4  manual(m6)     f    21   \n",
       "232   volkswagen  passat      2.8  1999         6    auto(l5)     f    16   \n",
       "233   volkswagen  passat      2.8  1999         6  manual(m5)     f    18   \n",
       "234   volkswagen  passat      3.6  2008         6    auto(s6)     f    17   \n",
       "\n",
       "     highway fl    class  \n",
       "1         29  p  compact  \n",
       "2         29  p  compact  \n",
       "3         31  p  compact  \n",
       "4         30  p  compact  \n",
       "5         26  p  compact  \n",
       "..       ... ..      ...  \n",
       "230       28  p  midsize  \n",
       "231       29  p  midsize  \n",
       "232       26  p  midsize  \n",
       "233       26  p  midsize  \n",
       "234       26  p  midsize  \n",
       "\n",
       "[234 rows x 11 columns]"
      ]
     },
     "execution_count": 29,
     "metadata": {},
     "output_type": "execute_result"
    }
   ],
   "source": [
    "mpg_df.rename(columns={'displ': 'display', 'cyl': 'cylinder', 'cty': 'city', 'hwy': 'highway', 'drv': 'drive'})\n"
   ]
  },
  {
   "cell_type": "markdown",
   "id": "156643bc-781b-47eb-83a6-ea594885e5ad",
   "metadata": {},
   "source": [
    "8. Display the summary statistics for the dataset."
   ]
  },
  {
   "cell_type": "code",
   "execution_count": 30,
   "id": "a4fa1b9e-c49a-480f-ab03-b2ba0bfd3f18",
   "metadata": {},
   "outputs": [
    {
     "data": {
      "text/html": [
       "<div>\n",
       "<style scoped>\n",
       "    .dataframe tbody tr th:only-of-type {\n",
       "        vertical-align: middle;\n",
       "    }\n",
       "\n",
       "    .dataframe tbody tr th {\n",
       "        vertical-align: top;\n",
       "    }\n",
       "\n",
       "    .dataframe thead th {\n",
       "        text-align: right;\n",
       "    }\n",
       "</style>\n",
       "<table border=\"1\" class=\"dataframe\">\n",
       "  <thead>\n",
       "    <tr style=\"text-align: right;\">\n",
       "      <th></th>\n",
       "      <th>displ</th>\n",
       "      <th>year</th>\n",
       "      <th>cyl</th>\n",
       "      <th>cty</th>\n",
       "      <th>hwy</th>\n",
       "    </tr>\n",
       "  </thead>\n",
       "  <tbody>\n",
       "    <tr>\n",
       "      <th>count</th>\n",
       "      <td>234.000000</td>\n",
       "      <td>234.000000</td>\n",
       "      <td>234.000000</td>\n",
       "      <td>234.000000</td>\n",
       "      <td>234.000000</td>\n",
       "    </tr>\n",
       "    <tr>\n",
       "      <th>mean</th>\n",
       "      <td>3.471795</td>\n",
       "      <td>2003.500000</td>\n",
       "      <td>5.888889</td>\n",
       "      <td>16.858974</td>\n",
       "      <td>23.440171</td>\n",
       "    </tr>\n",
       "    <tr>\n",
       "      <th>std</th>\n",
       "      <td>1.291959</td>\n",
       "      <td>4.509646</td>\n",
       "      <td>1.611534</td>\n",
       "      <td>4.255946</td>\n",
       "      <td>5.954643</td>\n",
       "    </tr>\n",
       "    <tr>\n",
       "      <th>min</th>\n",
       "      <td>1.600000</td>\n",
       "      <td>1999.000000</td>\n",
       "      <td>4.000000</td>\n",
       "      <td>9.000000</td>\n",
       "      <td>12.000000</td>\n",
       "    </tr>\n",
       "    <tr>\n",
       "      <th>25%</th>\n",
       "      <td>2.400000</td>\n",
       "      <td>1999.000000</td>\n",
       "      <td>4.000000</td>\n",
       "      <td>14.000000</td>\n",
       "      <td>18.000000</td>\n",
       "    </tr>\n",
       "    <tr>\n",
       "      <th>50%</th>\n",
       "      <td>3.300000</td>\n",
       "      <td>2003.500000</td>\n",
       "      <td>6.000000</td>\n",
       "      <td>17.000000</td>\n",
       "      <td>24.000000</td>\n",
       "    </tr>\n",
       "    <tr>\n",
       "      <th>75%</th>\n",
       "      <td>4.600000</td>\n",
       "      <td>2008.000000</td>\n",
       "      <td>8.000000</td>\n",
       "      <td>19.000000</td>\n",
       "      <td>27.000000</td>\n",
       "    </tr>\n",
       "    <tr>\n",
       "      <th>max</th>\n",
       "      <td>7.000000</td>\n",
       "      <td>2008.000000</td>\n",
       "      <td>8.000000</td>\n",
       "      <td>35.000000</td>\n",
       "      <td>44.000000</td>\n",
       "    </tr>\n",
       "  </tbody>\n",
       "</table>\n",
       "</div>"
      ],
      "text/plain": [
       "            displ         year         cyl         cty         hwy\n",
       "count  234.000000   234.000000  234.000000  234.000000  234.000000\n",
       "mean     3.471795  2003.500000    5.888889   16.858974   23.440171\n",
       "std      1.291959     4.509646    1.611534    4.255946    5.954643\n",
       "min      1.600000  1999.000000    4.000000    9.000000   12.000000\n",
       "25%      2.400000  1999.000000    4.000000   14.000000   18.000000\n",
       "50%      3.300000  2003.500000    6.000000   17.000000   24.000000\n",
       "75%      4.600000  2008.000000    8.000000   19.000000   27.000000\n",
       "max      7.000000  2008.000000    8.000000   35.000000   44.000000"
      ]
     },
     "execution_count": 30,
     "metadata": {},
     "output_type": "execute_result"
    }
   ],
   "source": [
    "mpg_df.describe()"
   ]
  },
  {
   "cell_type": "markdown",
   "id": "438bdc48-6358-4863-a31c-5b7864eace33",
   "metadata": {},
   "source": [
    "9. How many different manufacturers are there?"
   ]
  },
  {
   "cell_type": "code",
   "execution_count": 31,
   "id": "7bffa6e8-81b5-47c1-89d2-1a6cf85b7bc2",
   "metadata": {},
   "outputs": [
    {
     "data": {
      "text/plain": [
       "15"
      ]
     },
     "execution_count": 31,
     "metadata": {},
     "output_type": "execute_result"
    }
   ],
   "source": [
    "mpg_df['manufacturer'].nunique()"
   ]
  },
  {
   "cell_type": "markdown",
   "id": "cc3b2722-81bc-4ff0-abb7-264c6d26da1b",
   "metadata": {},
   "source": [
    "10. How many different models are there?"
   ]
  },
  {
   "cell_type": "code",
   "execution_count": 32,
   "id": "e2f34efa-0037-4dcf-929d-3f639a58ea2c",
   "metadata": {},
   "outputs": [
    {
     "data": {
      "text/plain": [
       "38"
      ]
     },
     "execution_count": 32,
     "metadata": {},
     "output_type": "execute_result"
    }
   ],
   "source": [
    "mpg_df['model'].nunique()"
   ]
  },
  {
   "cell_type": "markdown",
   "id": "d64534ea-a97e-43c7-a0b6-c1ee426af603",
   "metadata": {},
   "source": [
    "11. Create a column named mileage_difference like you did in the DataFrames exercises; this column should contain the difference between highway and city mileage for each car."
   ]
  },
  {
   "cell_type": "code",
   "execution_count": 54,
   "id": "aaddce48-bfea-48fe-8024-15506cee129a",
   "metadata": {},
   "outputs": [
    {
     "data": {
      "text/plain": [
       "1      32.5\n",
       "2      35.5\n",
       "3      35.5\n",
       "4      36.0\n",
       "5      29.0\n",
       "       ... \n",
       "230    33.0\n",
       "231    35.5\n",
       "232    29.0\n",
       "233    31.0\n",
       "234    30.0\n",
       "Name: average_mileage, Length: 234, dtype: float64"
      ]
     },
     "execution_count": 54,
     "metadata": {},
     "output_type": "execute_result"
    }
   ],
   "source": [
    "mpg_df['average_mileage'] = mpg_df['cty'] + mpg_df['hwy']/2\n",
    "mpg_df['average_mileage']"
   ]
  },
  {
   "cell_type": "markdown",
   "id": "bb0bcaba-a368-4da5-83ec-427b9b470154",
   "metadata": {},
   "source": [
    "12. Create a column named average_mileage like you did in the DataFrames exercises; this is the mean of the city and highway mileage."
   ]
  },
  {
   "cell_type": "code",
   "execution_count": 34,
   "id": "8eb38a75-94b0-4c77-816c-35bf0d0fa30d",
   "metadata": {},
   "outputs": [
    {
     "data": {
      "text/plain": [
       "1      11\n",
       "2       8\n",
       "3      11\n",
       "4       9\n",
       "5      10\n",
       "       ..\n",
       "230     9\n",
       "231     8\n",
       "232    10\n",
       "233     8\n",
       "234     9\n",
       "Name: mileage_difference, Length: 234, dtype: int64"
      ]
     },
     "execution_count": 34,
     "metadata": {},
     "output_type": "execute_result"
    }
   ],
   "source": [
    "mpg_df['mileage_difference'] = mpg_df['hwy'] - mpg_df['cty']\n",
    "mpg_df['mileage_difference']"
   ]
  },
  {
   "cell_type": "markdown",
   "id": "fc306840-2497-4937-9cbc-73e655ae2aba",
   "metadata": {},
   "source": [
    "13. Create a new column on the mpg dataset named is_automatic that holds boolean values denoting whether the car has an automatic transmission."
   ]
  },
  {
   "cell_type": "code",
   "execution_count": 55,
   "id": "07a65ddd-06a0-411d-ab8c-7e9cb269fe36",
   "metadata": {},
   "outputs": [
    {
     "data": {
      "text/plain": [
       "1       True\n",
       "2      False\n",
       "3      False\n",
       "4       True\n",
       "5       True\n",
       "       ...  \n",
       "230     True\n",
       "231    False\n",
       "232     True\n",
       "233    False\n",
       "234     True\n",
       "Name: is_automatic, Length: 234, dtype: bool"
      ]
     },
     "execution_count": 55,
     "metadata": {},
     "output_type": "execute_result"
    }
   ],
   "source": [
    "mpg_df['is_automatic'] = mpg_df['trans'].str.startswith('a')\n",
    "mpg_df['is_automatic']"
   ]
  },
  {
   "cell_type": "markdown",
   "id": "4e502086-9bc9-48b2-b4e7-5db8f1a88e29",
   "metadata": {},
   "source": [
    "14. Using the mpg dataset, find out which which manufacturer has the best miles per gallon on average?"
   ]
  },
  {
   "cell_type": "code",
   "execution_count": 36,
   "id": "901a3113-eeb7-49da-8d45-e9a0e307e2de",
   "metadata": {},
   "outputs": [
    {
     "data": {
      "text/plain": [
       "manufacturer\n",
       "honda    40.722222\n",
       "Name: average_mileage, dtype: float64"
      ]
     },
     "execution_count": 36,
     "metadata": {},
     "output_type": "execute_result"
    }
   ],
   "source": [
    "mpg_df.groupby('manufacturer')['average_mileage'].mean().sort_values().tail(1)"
   ]
  },
  {
   "cell_type": "markdown",
   "id": "39e2ebc6-71ab-46f7-a173-c59b2ebfed28",
   "metadata": {},
   "source": [
    "15. Do automatic or manual cars have better miles per gallon?"
   ]
  },
  {
   "cell_type": "code",
   "execution_count": 37,
   "id": "97984e43-71b3-433b-8c1a-c198be0c9780",
   "metadata": {
    "scrolled": true
   },
   "outputs": [
    {
     "data": {
      "text/plain": [
       "is_automatic\n",
       "True     27.114650\n",
       "False    31.564935\n",
       "Name: average_mileage, dtype: float64"
      ]
     },
     "execution_count": 37,
     "metadata": {},
     "output_type": "execute_result"
    }
   ],
   "source": [
    "mpg_df.groupby('is_automatic')['average_mileage'].mean().sort_values()"
   ]
  },
  {
   "cell_type": "markdown",
   "id": "78a4e29a-97a7-4354-9956-c20d6a0bb18b",
   "metadata": {},
   "source": [
    "# Exercises III"
   ]
  },
  {
   "cell_type": "markdown",
   "id": "226c0627-c039-41f9-a102-58851f7d70d3",
   "metadata": {},
   "source": [
    "1. Use your get_db_url function to help you explore the data from the chipotle database."
   ]
  },
  {
   "cell_type": "code",
   "execution_count": 38,
   "id": "182ba34a-07e2-4eeb-a7f2-1afd4d8eab44",
   "metadata": {},
   "outputs": [],
   "source": [
    "# Get the database connection URL for the 'chipotle' database\n",
    "url = get_connection('chipotle')\n",
    "\n",
    "# Create a database engine using SQLAlchemy\n",
    "engine = create_engine(url)\n",
    "\n",
    "# Define a SQL query to select all columns from the 'chipotle' table\n",
    "query = '''\n",
    "        SELECT *\n",
    "        FROM orders\n",
    "        '''\n",
    "\n",
    "# Create a SQLAlchemy text object for the SQL query\n",
    "text_query = text(query)"
   ]
  },
  {
   "cell_type": "code",
   "execution_count": 39,
   "id": "f79a7fd1-d5fd-47d6-98c5-b45752a32dda",
   "metadata": {
    "scrolled": true
   },
   "outputs": [
    {
     "data": {
      "text/html": [
       "<div>\n",
       "<style scoped>\n",
       "    .dataframe tbody tr th:only-of-type {\n",
       "        vertical-align: middle;\n",
       "    }\n",
       "\n",
       "    .dataframe tbody tr th {\n",
       "        vertical-align: top;\n",
       "    }\n",
       "\n",
       "    .dataframe thead th {\n",
       "        text-align: right;\n",
       "    }\n",
       "</style>\n",
       "<table border=\"1\" class=\"dataframe\">\n",
       "  <thead>\n",
       "    <tr style=\"text-align: right;\">\n",
       "      <th></th>\n",
       "      <th>id</th>\n",
       "      <th>order_id</th>\n",
       "      <th>quantity</th>\n",
       "      <th>item_name</th>\n",
       "      <th>choice_description</th>\n",
       "      <th>item_price</th>\n",
       "    </tr>\n",
       "  </thead>\n",
       "  <tbody>\n",
       "    <tr>\n",
       "      <th>0</th>\n",
       "      <td>1</td>\n",
       "      <td>1</td>\n",
       "      <td>1</td>\n",
       "      <td>Chips and Fresh Tomato Salsa</td>\n",
       "      <td>nan</td>\n",
       "      <td>$2.39</td>\n",
       "    </tr>\n",
       "    <tr>\n",
       "      <th>1</th>\n",
       "      <td>2</td>\n",
       "      <td>1</td>\n",
       "      <td>1</td>\n",
       "      <td>Izze</td>\n",
       "      <td>[Clementine]</td>\n",
       "      <td>$3.39</td>\n",
       "    </tr>\n",
       "    <tr>\n",
       "      <th>2</th>\n",
       "      <td>3</td>\n",
       "      <td>1</td>\n",
       "      <td>1</td>\n",
       "      <td>Nantucket Nectar</td>\n",
       "      <td>[Apple]</td>\n",
       "      <td>$3.39</td>\n",
       "    </tr>\n",
       "    <tr>\n",
       "      <th>3</th>\n",
       "      <td>4</td>\n",
       "      <td>1</td>\n",
       "      <td>1</td>\n",
       "      <td>Chips and Tomatillo-Green Chili Salsa</td>\n",
       "      <td>nan</td>\n",
       "      <td>$2.39</td>\n",
       "    </tr>\n",
       "    <tr>\n",
       "      <th>4</th>\n",
       "      <td>5</td>\n",
       "      <td>2</td>\n",
       "      <td>2</td>\n",
       "      <td>Chicken Bowl</td>\n",
       "      <td>[Tomatillo-Red Chili Salsa (Hot), [Black Beans, Rice, Cheese, Sour Cream]]</td>\n",
       "      <td>$16.98</td>\n",
       "    </tr>\n",
       "  </tbody>\n",
       "</table>\n",
       "</div>"
      ],
      "text/plain": [
       "   id  order_id  quantity                              item_name  \\\n",
       "0   1         1         1           Chips and Fresh Tomato Salsa   \n",
       "1   2         1         1                                   Izze   \n",
       "2   3         1         1                       Nantucket Nectar   \n",
       "3   4         1         1  Chips and Tomatillo-Green Chili Salsa   \n",
       "4   5         2         2                           Chicken Bowl   \n",
       "\n",
       "                                                           choice_description  \\\n",
       "0                                                                         nan   \n",
       "1                                                                [Clementine]   \n",
       "2                                                                     [Apple]   \n",
       "3                                                                         nan   \n",
       "4  [Tomatillo-Red Chili Salsa (Hot), [Black Beans, Rice, Cheese, Sour Cream]]   \n",
       "\n",
       "  item_price  \n",
       "0     $2.39   \n",
       "1     $3.39   \n",
       "2     $3.39   \n",
       "3     $2.39   \n",
       "4    $16.98   "
      ]
     },
     "execution_count": 39,
     "metadata": {},
     "output_type": "execute_result"
    }
   ],
   "source": [
    "# Use pandas read_sql() to execute the query on the database using the engine,\n",
    "# and store the result in a DataFrame called 'orders_df'\n",
    "orders_df = pd.read_sql(text_query, engine.connect())\n",
    "\n",
    "# Display the first few rows of the DataFrame\n",
    "orders_df.head()"
   ]
  },
  {
   "cell_type": "code",
   "execution_count": 56,
   "id": "0e592bbb-35cd-4355-bc8e-19d53312d36d",
   "metadata": {},
   "outputs": [
    {
     "name": "stdout",
     "output_type": "stream",
     "text": [
      "<class 'pandas.core.frame.DataFrame'>\n",
      "RangeIndex: 4622 entries, 0 to 4621\n",
      "Data columns (total 6 columns):\n",
      " #   Column              Non-Null Count  Dtype \n",
      "---  ------              --------------  ----- \n",
      " 0   id                  4622 non-null   int64 \n",
      " 1   order_id            4622 non-null   int64 \n",
      " 2   quantity            4622 non-null   int64 \n",
      " 3   item_name           4622 non-null   object\n",
      " 4   choice_description  4622 non-null   object\n",
      " 5   item_price          4622 non-null   object\n",
      "dtypes: int64(3), object(3)\n",
      "memory usage: 216.8+ KB\n"
     ]
    }
   ],
   "source": [
    "orders_df.info()"
   ]
  },
  {
   "cell_type": "markdown",
   "id": "195b10f4-015c-423b-a574-0f303dde13aa",
   "metadata": {},
   "source": [
    "2. What is the total price for each order?"
   ]
  },
  {
   "cell_type": "code",
   "execution_count": 46,
   "id": "fba8f014-7e72-4a42-8c0a-fa4ba058ecf5",
   "metadata": {},
   "outputs": [
    {
     "name": "stderr",
     "output_type": "stream",
     "text": [
      "/var/folders/hz/r10rvhgs41x5bxdmg79hksdw0000gn/T/ipykernel_46739/619081622.py:1: FutureWarning: The default value of regex will change from True to False in a future version. In addition, single character regular expressions will *not* be treated as literal strings when regex=True.\n",
      "  orders_df['item_price'] = orders_df['item_price'].str.replace('$', '')\n"
     ]
    },
    {
     "data": {
      "text/plain": [
       "0        2.39 \n",
       "1        3.39 \n",
       "2        3.39 \n",
       "3        2.39 \n",
       "4       16.98 \n",
       "         ...  \n",
       "4617    11.75 \n",
       "4618    11.75 \n",
       "4620     8.75 \n",
       "4619    11.25 \n",
       "4621     8.75 \n",
       "Name: item_price, Length: 4622, dtype: object"
      ]
     },
     "execution_count": 46,
     "metadata": {},
     "output_type": "execute_result"
    }
   ],
   "source": [
    "# orders_df['item_price'] = orders_df['item_price'].str.replace('$', '')\n",
    "\n",
    "# orders_df.sort_values.group('order_id')['item_price']"
   ]
  },
  {
   "cell_type": "code",
   "execution_count": 60,
   "id": "21bb324d-7f4a-4611-b479-5af3ac42e77a",
   "metadata": {
    "scrolled": true
   },
   "outputs": [
    {
     "data": {
      "text/html": [
       "<div>\n",
       "<style scoped>\n",
       "    .dataframe tbody tr th:only-of-type {\n",
       "        vertical-align: middle;\n",
       "    }\n",
       "\n",
       "    .dataframe tbody tr th {\n",
       "        vertical-align: top;\n",
       "    }\n",
       "\n",
       "    .dataframe thead th {\n",
       "        text-align: right;\n",
       "    }\n",
       "</style>\n",
       "<table border=\"1\" class=\"dataframe\">\n",
       "  <thead>\n",
       "    <tr style=\"text-align: right;\">\n",
       "      <th></th>\n",
       "      <th>id</th>\n",
       "      <th>order_id</th>\n",
       "      <th>quantity</th>\n",
       "      <th>item_name</th>\n",
       "      <th>choice_description</th>\n",
       "      <th>item_price</th>\n",
       "    </tr>\n",
       "  </thead>\n",
       "  <tbody>\n",
       "    <tr>\n",
       "      <th>0</th>\n",
       "      <td>1</td>\n",
       "      <td>1</td>\n",
       "      <td>1</td>\n",
       "      <td>Chips and Fresh Tomato Salsa</td>\n",
       "      <td>nan</td>\n",
       "      <td>2.39</td>\n",
       "    </tr>\n",
       "    <tr>\n",
       "      <th>1</th>\n",
       "      <td>2</td>\n",
       "      <td>1</td>\n",
       "      <td>1</td>\n",
       "      <td>Izze</td>\n",
       "      <td>[Clementine]</td>\n",
       "      <td>3.39</td>\n",
       "    </tr>\n",
       "    <tr>\n",
       "      <th>2</th>\n",
       "      <td>3</td>\n",
       "      <td>1</td>\n",
       "      <td>1</td>\n",
       "      <td>Nantucket Nectar</td>\n",
       "      <td>[Apple]</td>\n",
       "      <td>3.39</td>\n",
       "    </tr>\n",
       "    <tr>\n",
       "      <th>3</th>\n",
       "      <td>4</td>\n",
       "      <td>1</td>\n",
       "      <td>1</td>\n",
       "      <td>Chips and Tomatillo-Green Chili Salsa</td>\n",
       "      <td>nan</td>\n",
       "      <td>2.39</td>\n",
       "    </tr>\n",
       "    <tr>\n",
       "      <th>4</th>\n",
       "      <td>5</td>\n",
       "      <td>2</td>\n",
       "      <td>2</td>\n",
       "      <td>Chicken Bowl</td>\n",
       "      <td>[Tomatillo-Red Chili Salsa (Hot), [Black Beans, Rice, Cheese, Sour Cream]]</td>\n",
       "      <td>16.98 16.98 16.98 16.98</td>\n",
       "    </tr>\n",
       "  </tbody>\n",
       "</table>\n",
       "</div>"
      ],
      "text/plain": [
       "   id  order_id  quantity                              item_name  \\\n",
       "0   1         1         1           Chips and Fresh Tomato Salsa   \n",
       "1   2         1         1                                   Izze   \n",
       "2   3         1         1                       Nantucket Nectar   \n",
       "3   4         1         1  Chips and Tomatillo-Green Chili Salsa   \n",
       "4   5         2         2                           Chicken Bowl   \n",
       "\n",
       "                                                           choice_description  \\\n",
       "0                                                                         nan   \n",
       "1                                                                [Clementine]   \n",
       "2                                                                     [Apple]   \n",
       "3                                                                         nan   \n",
       "4  [Tomatillo-Red Chili Salsa (Hot), [Black Beans, Rice, Cheese, Sour Cream]]   \n",
       "\n",
       "                 item_price  \n",
       "0                     2.39   \n",
       "1                     3.39   \n",
       "2                     3.39   \n",
       "3                     2.39   \n",
       "4  16.98 16.98 16.98 16.98   "
      ]
     },
     "execution_count": 60,
     "metadata": {},
     "output_type": "execute_result"
    }
   ],
   "source": [
    "#instructor ex:\n",
    "\n",
    "orders_df['item_price'] = orders_df['quantity'] * orders_df['item_price']\n",
    "orders_df.head()"
   ]
  },
  {
   "cell_type": "code",
   "execution_count": null,
   "id": "80fbf56a-99f1-45b7-8f9c-a985afbcc339",
   "metadata": {},
   "outputs": [],
   "source": []
  },
  {
   "cell_type": "markdown",
   "id": "8455a111-b979-4324-9522-6491e956d2a1",
   "metadata": {},
   "source": [
    "3. What are the most popular 3 items?"
   ]
  },
  {
   "cell_type": "code",
   "execution_count": 61,
   "id": "c478c8ae-851c-4b3e-831a-0adf35d0a27e",
   "metadata": {},
   "outputs": [
    {
     "data": {
      "text/plain": [
       "Chicken Bowl           726\n",
       "Chicken Burrito        553\n",
       "Chips and Guacamole    479\n",
       "Name: item_name, dtype: int64"
      ]
     },
     "execution_count": 61,
     "metadata": {},
     "output_type": "execute_result"
    }
   ],
   "source": [
    "orders_df['item_name'].value_counts().head(3)"
   ]
  },
  {
   "cell_type": "markdown",
   "id": "7989ed5b-a9c2-4ae5-8833-73167545af74",
   "metadata": {},
   "source": [
    "4. Which item has produced the most revenue?"
   ]
  },
  {
   "cell_type": "code",
   "execution_count": 67,
   "id": "25dd42a5-0ca0-416e-965c-a8dfde9d6c10",
   "metadata": {},
   "outputs": [
    {
     "data": {
      "text/plain": [
       "item_name\n",
       "Carnitas Soft Tacos    9.25 9.25 9.25 9.25 9.25 8.99 8.99 8.99 9.25 9.25 9.25 9.25 9.25 9.25 9.25 11.75 9.25 ...\n",
       "Name: item_price, dtype: object"
      ]
     },
     "execution_count": 67,
     "metadata": {},
     "output_type": "execute_result"
    }
   ],
   "source": [
    "most_rev = orders_df.groupby('item_name').item_price.sum().sort_values(ascending = False).head(1)\n",
    "most_rev"
   ]
  },
  {
   "cell_type": "markdown",
   "id": "dfcbd262-8f3d-4970-8a42-2738072342c8",
   "metadata": {},
   "source": [
    "5. Join the employees and titles DataFrames together."
   ]
  },
  {
   "cell_type": "code",
   "execution_count": null,
   "id": "dec6023c-df5d-46b4-acec-9366f16fdee9",
   "metadata": {},
   "outputs": [],
   "source": []
  },
  {
   "cell_type": "markdown",
   "id": "157223c9-1f12-439c-9491-dc64a992f077",
   "metadata": {},
   "source": [
    "6. For each title, find the hire date of the employee that was hired most recently with that title."
   ]
  },
  {
   "cell_type": "code",
   "execution_count": null,
   "id": "49cabda4-d42d-4285-a3cb-783433600c85",
   "metadata": {},
   "outputs": [],
   "source": []
  },
  {
   "cell_type": "markdown",
   "id": "638d17b3-9e8a-4ab0-af83-281e90090fa0",
   "metadata": {},
   "source": [
    "7. Write the code necessary to create a cross tabulation of the number of titles by department. (Hint: this will involve a combination of SQL code to pull the necessary data and python/pandas code to perform the manipulations.)"
   ]
  },
  {
   "cell_type": "code",
   "execution_count": null,
   "id": "f394c4ff-9e0b-4a73-b17d-f654208ac582",
   "metadata": {},
   "outputs": [],
   "source": []
  },
  {
   "cell_type": "code",
   "execution_count": null,
   "id": "c9bc1680-2e8a-4f55-894e-8222cf44347c",
   "metadata": {},
   "outputs": [],
   "source": []
  },
  {
   "cell_type": "code",
   "execution_count": null,
   "id": "645fbea6-86c4-4fbc-b3d0-3b03971ebcce",
   "metadata": {},
   "outputs": [],
   "source": []
  }
 ],
 "metadata": {
  "kernelspec": {
   "display_name": "Python 3 (ipykernel)",
   "language": "python",
   "name": "python3"
  },
  "language_info": {
   "codemirror_mode": {
    "name": "ipython",
    "version": 3
   },
   "file_extension": ".py",
   "mimetype": "text/x-python",
   "name": "python",
   "nbconvert_exporter": "python",
   "pygments_lexer": "ipython3",
   "version": "3.10.9"
  }
 },
 "nbformat": 4,
 "nbformat_minor": 5
}
